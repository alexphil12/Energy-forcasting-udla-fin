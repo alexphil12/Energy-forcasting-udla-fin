{
  "cells": [
    {
      "cell_type": "markdown",
      "metadata": {
        "id": "view-in-github",
        "colab_type": "text"
      },
      "source": [
        "<a href=\"https://colab.research.google.com/github/alexphil12/Energy-forcasting-UDLA/blob/main/prediction_power_lstm_multi.ipynb\" target=\"_parent\"><img src=\"https://colab.research.google.com/assets/colab-badge.svg\" alt=\"Open In Colab\"/></a>"
      ]
    },
    {
      "cell_type": "code",
      "execution_count": null,
      "metadata": {
        "id": "1BAyr7fsvDxC"
      },
      "outputs": [],
      "source": [
        "import torch\n",
        "import torch.nn as nn\n",
        "\n",
        "import seaborn as sns\n",
        "import numpy as np\n",
        "import pandas as pd\n",
        "import matplotlib.pyplot as plt\n",
        "import copy as cp\n",
        "%matplotlib inline"
      ]
    },
    {
      "cell_type": "code",
      "execution_count": null,
      "metadata": {
        "id": "4zcZXhe7u6yE"
      },
      "outputs": [],
      "source": [
        "from sklearn.preprocessing import MinMaxScaler,StandardScaler"
      ]
    },
    {
      "cell_type": "code",
      "execution_count": null,
      "metadata": {
        "id": "AMfjxPlMBjtf"
      },
      "outputs": [],
      "source": [
        "mesure=[\"Fecha\",\"Hora\"];\n",
        "mesure.append(\"Voltaje_(R)_[V]\")\t\n",
        "mesure.append(\"Voltaje_(S)_[V]\")\t\n",
        "mesure.append(\"Voltaje_(T)_[V]\")\t\n",
        "mesure.append(\"Voltaje_(RS)_[V]\")\t\n",
        "mesure.append(\"Voltaje_(ST)_[V]\")\t\n",
        "mesure.append(\"Voltaje_(TR)_[V]\")\t\n",
        "mesure.append(\"Corriente_R_[A]\")\t\n",
        "mesure.append(\"Corriente_S_[A]\")\t\n",
        "mesure.append(\"Corriente_T_[A]\")\t\n",
        "mesure.append(\"Potencia_R_[VA]\")\t\n",
        "mesure.append(\"Potencia_S_[VA]\")\t\n",
        "mesure.append(\"Potencia_T_[VA]\")\t\n",
        "mesure.append(\"Potencia_R_[W]\")\t\n",
        "mesure.append(\"Potencia_S_[W]\")\t\n",
        "mesure.append(\"Potencia_T_[W]\")\t\n",
        "mesure.append(\"Potencia_R_[VAR]\")\t\n",
        "mesure.append(\"Potencia_S_[VAR]\")\t\n",
        "mesure.append(\"Potencia_T_[VAR]\")\t\n",
        "mesure.append(\"Corriente_N_[A]\")\t\n",
        "mesure.append(\"Frecuencia_[Hz]\")\t\n",
        "mesure.append(\"not_sure_1\")\t\n",
        "mesure.append(\"not_sure_2\")\t\n",
        "mesure.append(\"not_sure_3\")\t\n",
        "mesure.append(\"Potencia_3F_[KVA]\")\t\n",
        "mesure.append(\"Potencia_3F_[W]\")\t\n",
        "mesure.append(\"Potencia_3F_[VAR]\")\t\n",
        "mesure.append(\"Factor de Potencia\")"
      ]
    },
    {
      "cell_type": "code",
      "execution_count": null,
      "metadata": {
        "id": "Rnf1doKA8G5W"
      },
      "outputs": [],
      "source": [
        "data=pd.read_csv(\"/content/df_cov_continu_1_8.txt\",sep=\",\",header=0,names=mesure)"
      ]
    },
    {
      "cell_type": "code",
      "execution_count": null,
      "metadata": {
        "id": "2Wr6dnEm8G1_"
      },
      "outputs": [],
      "source": [
        "train_data=data.iloc[0:round(14860*0.8),:]\n",
        "\n",
        "test_data=data.iloc[round(14860*0.8):14860,:]"
      ]
    },
    {
      "cell_type": "code",
      "execution_count": null,
      "metadata": {
        "colab": {
          "base_uri": "https://localhost:8080/",
          "height": 595
        },
        "id": "hhtIgJ7W8GyJ",
        "outputId": "7755c257-ca50-422f-8995-520361a40cdc"
      },
      "outputs": [
        {
          "output_type": "execute_result",
          "data": {
            "text/plain": [
              "<matplotlib.colorbar.Colorbar at 0x7f9440681490>"
            ]
          },
          "metadata": {},
          "execution_count": 10
        },
        {
          "output_type": "display_data",
          "data": {
            "text/plain": [
              "<Figure size 720x720 with 2 Axes>"
            ],
            "image/png": "[encoded data removed]"
          },
          "metadata": {
            "needs_background": "light"
          }
        }
      ],
      "source": [
        "plt.figure(figsize=(10,10))\n",
        "plt.imshow(data.corr(),cmap=\"gray\")\n",
        "plt.colorbar()"
      ]
    },
    {
      "cell_type": "code",
      "execution_count": null,
      "metadata": {
        "colab": {
          "base_uri": "https://localhost:8080/"
        },
        "id": "aaI0pQaZ8GsE",
        "outputId": "e89b89c9-dd03-4371-cf04-51d7c765dadc"
      },
      "outputs": [
        {
          "output_type": "stream",
          "name": "stderr",
          "text": [
            "/usr/local/lib/python3.7/dist-packages/pandas/core/frame.py:4913: SettingWithCopyWarning: \n",
            "A value is trying to be set on a copy of a slice from a DataFrame\n",
            "\n",
            "See the caveats in the documentation: https://pandas.pydata.org/pandas-docs/stable/user_guide/indexing.html#returning-a-view-versus-a-copy\n",
            "  errors=errors,\n"
          ]
        }
      ],
      "source": [
        "train_data.drop(columns=[mesure[0],mesure[3],mesure[4],mesure[1],mesure[5],mesure[6],mesure[7],mesure[8],mesure[9],mesure[10],mesure[14],mesure[15],mesure[16],mesure[17],mesure[18],mesure[19],mesure[23],mesure[24],mesure[25],mesure[26]],inplace=True)\n",
        "test_data.drop(columns=[mesure[0],mesure[3],mesure[4],mesure[1],mesure[5],mesure[6],mesure[7],mesure[8],mesure[9],mesure[10],mesure[14],mesure[15],mesure[16],mesure[17],mesure[18],mesure[19],mesure[23],mesure[24],mesure[25],mesure[26]],inplace=True)"
      ]
    },
    {
      "cell_type": "code",
      "execution_count": null,
      "metadata": {
        "colab": {
          "base_uri": "https://localhost:8080/",
          "height": 595
        },
        "id": "4zgWyn8Ju9g2",
        "outputId": "3330b581-9291-4b52-b3af-27ee0a35cda9"
      },
      "outputs": [
        {
          "output_type": "execute_result",
          "data": {
            "text/plain": [
              "<matplotlib.colorbar.Colorbar at 0x7f9440032710>"
            ]
          },
          "metadata": {},
          "execution_count": 12
        },
        {
          "output_type": "display_data",
          "data": {
            "text/plain": [
              "<Figure size 720x720 with 2 Axes>"
            ],
            "image/png": "[encoded data removed]"
          },
          "metadata": {
            "needs_background": "light"
          }
        }
      ],
      "source": [
        "RSG_train = train_data.values\n",
        "RSG_test=test_data.values\n",
        "plt.figure(figsize=(10,10))\n",
        "plt.imshow(train_data.corr(),cmap=\"gray\")\n",
        "plt.colorbar()"
      ]
    },
    {
      "cell_type": "code",
      "execution_count": null,
      "metadata": {
        "colab": {
          "base_uri": "https://localhost:8080/"
        },
        "id": "MwQ0E2y8O-LP",
        "outputId": "92965fa0-0369-49ae-8c22-1485c1d757db"
      },
      "outputs": [
        {
          "output_type": "execute_result",
          "data": {
            "text/plain": [
              "MinMaxScaler()"
            ]
          },
          "metadata": {},
          "execution_count": 13
        }
      ],
      "source": [
        "scaler = MinMaxScaler()\n",
        "scaler2=StandardScaler()\n",
        "scaler2.fit(RSG_train[:,1:4])\n",
        "RSG_train_X=cp.deepcopy(RSG_train)\n",
        "RSG_test_X=cp.deepcopy(RSG_test)\n",
        "RSG_train_X=np.delete(RSG_train_X,[1,2,3],1)\n",
        "RSG_test_X=np.delete(RSG_test_X,[1,2,3],1)\n",
        "scaler.fit(RSG_train_X)"
      ]
    },
    {
      "cell_type": "code",
      "execution_count": null,
      "metadata": {
        "id": "vnkm2G3dO-Gm"
      },
      "outputs": [],
      "source": [
        "scaled_X_train = scaler.transform(RSG_train_X)\n",
        "scaled_X_test = scaler.transform(RSG_test_X)\n",
        "scaled_Y_train=scaler2.transform(RSG_train[:,1:4])\n",
        "scaled_Y_test=scaler2.transform(RSG_test[:,1:4])"
      ]
    },
    {
      "cell_type": "code",
      "execution_count": null,
      "metadata": {
        "id": "omMrkHkvS4Dv"
      },
      "outputs": [],
      "source": [
        "from keras.preprocessing.sequence import TimeseriesGenerator"
      ]
    },
    {
      "cell_type": "code",
      "execution_count": null,
      "metadata": {
        "id": "N1wGcVmaS4Bt"
      },
      "outputs": [],
      "source": [
        "n_input = 100\n",
        "n_features = 5\n",
        "train_generator = TimeseriesGenerator(scaled_X_train, scaled_Y_train, length=n_input, batch_size=1)\n",
        "test_generator=TimeseriesGenerator(scaled_X_test, scaled_Y_test, length=n_input, batch_size=1)"
      ]
    },
    {
      "cell_type": "code",
      "execution_count": null,
      "metadata": {
        "id": "IpsxJivfS3-o"
      },
      "outputs": [],
      "source": [
        "X,y = train_generator[0]\n",
        "X1,y1=test_generator[0]"
      ]
    },
    {
      "cell_type": "code",
      "execution_count": null,
      "metadata": {
        "colab": {
          "base_uri": "https://localhost:8080/"
        },
        "id": "RMnJqpZ2S37r",
        "outputId": "d0b45a99-6074-4978-876a-af81190979a5"
      },
      "outputs": [
        {
          "output_type": "stream",
          "name": "stdout",
          "text": [
            "Predicción: \n",
            " [[1.35822319 1.20696807 1.20830039]]\n",
            "data: \n",
            " [[[0.88297015 0.4150276  0.25242718 0.82894973 0.85024458 0.70984456]\n",
            "  [0.88579871 0.39798259 0.38349515 0.83683574 0.85527947 0.70984456]\n",
            "  [0.88990724 0.         0.54854369 0.84187651 0.85642934 0.69948187]\n",
            "  [0.88213264 0.         0.33009709 0.82800878 0.89799382 0.66321244]\n",
            "  [0.88483479 0.33131851 0.4223301  0.83374406 0.90414227 0.67875648]\n",
            "  [0.88020479 0.41106274 0.33980583 0.82872569 0.89411515 0.65284974]\n",
            "  [0.88717349 0.22057452 0.39320388 0.83699256 0.90524616 0.64248705]\n",
            "  [0.8957856  0.         0.50485437 0.84994175 0.90883637 0.64248705]\n",
            "  [0.89946747 0.03885175 0.61650485 0.85578905 0.89246338 0.59585492]\n",
            "  [0.89507451 0.4343077  0.41747573 0.84935926 0.89337412 0.61139896]\n",
            "  [0.89635447 0.40507658 0.47572816 0.84866475 0.8921986  0.61139896]\n",
            "  [0.89253038 0.         0.50485437 0.84084595 0.89499249 0.63212435]\n",
            "  [0.89072895 0.         0.41262136 0.84129402 0.90702602 0.62176166]\n",
            "  [0.89240396 0.         0.40291262 0.84145085 0.9051118  0.63212435]\n",
            "  [0.89649669 0.         0.37864078 0.84723093 0.91511279 0.63212435]\n",
            "  [0.89320987 0.         0.48543689 0.84472175 0.91303747 0.62176166]\n",
            "  [0.89082376 0.         0.41262136 0.84167488 0.92010676 0.64248705]\n",
            "  [0.89524833 0.1228718  0.35436893 0.84521462 0.92887065 0.64766839]\n",
            "  [0.89300444 0.40462956 0.42718447 0.84109239 0.91385174 0.64248705]\n",
            "  [0.89309925 0.26669517 0.4223301  0.84516982 0.91152221 0.62176166]\n",
            "  [0.88995465 0.         0.36407767 0.8398154  0.91209273 0.59585492]\n",
            "  [0.89185089 0.02483868 0.39805825 0.84068913 0.89752246 0.58549223]\n",
            "  [0.88910134 0.41014927 0.48058252 0.83867282 0.89539718 0.60621762]\n",
            "  [0.88341261 0.05980331 0.4368932  0.83318398 0.91237146 0.60621762]\n",
            "  [0.87965172 0.         0.4223301  0.82599247 0.91414511 0.63212435]\n",
            "  [0.8740262  0.         0.41262136 0.81754638 0.92990841 0.65803109]\n",
            "  [0.8763965  0.         0.20873786 0.82285599 0.93555649 0.63212435]\n",
            "  [0.87849817 0.08176553 0.34466019 0.82540998 0.94676584 0.68393782]\n",
            "  [0.87737623 0.         0.24271845 0.82151178 0.94133271 0.68393782]\n",
            "  [0.88018899 0.         0.25728155 0.82717985 0.89566968 0.58031088]\n",
            "  [0.88404469 0.31139703 0.36407767 0.83125728 0.8911986  0.58549223]\n",
            "  [0.89106079 0.36669129 0.4368932  0.84203334 0.89670352 0.56994819]\n",
            "  [0.89041291 0.         0.32038835 0.83961376 0.90311686 0.59067358]\n",
            "  [0.88985984 0.         0.37378641 0.83999462 0.89564559 0.59067358]\n",
            "  [0.88925936 0.32449662 0.33980583 0.83900887 0.89855043 0.60621762]\n",
            "  [0.89520092 0.37267745 0.62621359 0.84620038 0.90308584 0.62176166]\n",
            "  [0.88861148 0.         0.60679612 0.83327359 0.91146538 0.6373057 ]\n",
            "  [0.87916186 0.         0.46601942 0.82350569 0.91327087 0.64766839]\n",
            "  [0.87562221 0.         0.45145631 0.81759118 0.92082805 0.66321244]\n",
            "  [0.87427903 0.31104719 0.49514563 0.81828569 0.90655172 0.66839378]\n",
            "  [0.87427903 0.14302651 0.40776699 0.81938346 0.9020066  0.64766839]\n",
            "  [0.8740104  0.         0.24757282 0.81591092 0.90183508 0.65803109]\n",
            "  [0.880268   0.12425173 0.32524272 0.82547719 0.88833484 0.64248705]\n",
            "  [0.87663354 0.42948768 0.31067961 0.82417779 0.89061919 0.65284974]\n",
            "  [0.87982555 0.30406981 0.29126214 0.82621651 0.91285546 0.65803109]\n",
            "  [0.88289114 0.         0.41747573 0.82937539 0.90669287 0.67875648]\n",
            "  [0.88072626 0.         0.39320388 0.82572363 0.90515993 0.66321244]\n",
            "  [0.88304916 0.31852989 0.47572816 0.82715745 0.90295044 0.65803109]\n",
            "  [0.88273312 0.40276374 0.4223301  0.82688861 0.91286651 0.66839378]\n",
            "  [0.88353902 0.01166135 0.32038835 0.82666458 0.91331116 0.65284974]\n",
            "  [0.88364964 0.         0.33495146 0.82666458 0.92059531 0.65803109]\n",
            "  [0.87800831 0.         0.3592233  0.82003316 0.92155487 0.65284974]\n",
            "  [0.87536937 0.0120695  0.25728155 0.81736715 0.89957525 0.59067358]\n",
            "  [0.87573282 0.19993392 0.30582524 0.81736715 0.88316265 0.56994819]\n",
            "  [0.87544838 0.         0.40291262 0.81734474 0.89284604 0.57512953]\n",
            "  [0.87931988 0.         0.49514563 0.82240792 0.88897006 0.58031088]\n",
            "  [0.87892483 0.40373552 0.34951456 0.8189802  0.88323928 0.57512953]\n",
            "  [0.8748005  0.39320143 0.46601942 0.81324491 0.8770853  0.56994819]\n",
            "  [0.86917498 0.06936562 0.34951456 0.80739762 0.88449892 0.56476684]\n",
            "  [0.87160849 0.         0.2961165  0.80970517 0.88653622 0.57512953]\n",
            "  [0.87280944 0.         0.37864078 0.8118559  0.90102602 0.59585492]\n",
            "  [0.86876412 0.         0.33495146 0.80753204 0.9061698  0.63212435]\n",
            "  [0.86833747 0.         0.27184466 0.80264809 0.90468214 0.62176166]\n",
            "  [0.86800563 0.         0.41262136 0.80439556 0.89457668 0.62176166]\n",
            "  [0.86889054 0.         0.59223301 0.80880903 0.89959277 0.6373057 ]\n",
            "  [0.86640962 0.24580191 0.39805825 0.80654629 0.90043315 0.64248705]\n",
            "  [0.87061296 0.40021768 0.44660194 0.80952594 0.88084919 0.64248705]\n",
            "  [0.87418422 0.11461168 0.46601942 0.81434268 0.87814731 0.6373057 ]\n",
            "  [0.87276204 0.         0.32038835 0.81035487 0.87501831 0.62694301]\n",
            "  [0.87416842 0.03496463 0.47572816 0.8105341  0.87440846 0.63212435]\n",
            "  [0.86789501 0.39563088 0.52427184 0.8053589  0.88281782 0.64766839]\n",
            "  [0.86735774 0.36294022 0.66990291 0.80385787 0.86857712 0.62694301]\n",
            "  [0.86441856 0.         0.68932039 0.79850345 0.86174324 0.61658031]\n",
            "  [0.85977277 0.         0.49514563 0.79124474 0.86995578 0.60103627]\n",
            "  [0.85392601 0.19297598 0.27184466 0.78006542 0.85948602 0.60621762]\n",
            "  [0.85163472 0.39053875 0.16504854 0.77762344 0.85680745 0.62694301]\n",
            "  [0.85424206 0.24070979 0.31553398 0.78026705 0.8563226  0.62176166]\n",
            "  [0.8522668  0.         0.34951456 0.77874362 0.85975653 0.60621762]\n",
            "  [0.85212458 0.         0.26699029 0.7786316  0.87209983 0.61658031]\n",
            "  [0.8514451  0.20378217 0.3592233  0.78033426 0.85995552 0.61139896]\n",
            "  [0.48741368 0.23857187 0.42718447 0.41493413 0.91209396 0.        ]\n",
            "  [0.         0.18306383 0.51941748 0.         0.33597632 0.28497409]\n",
            "  [0.01347913 0.         0.37378641 0.01630971 0.27695516 0.31606218]\n",
            "  [0.73142866 0.25400373 0.5776699  0.6953132  0.2945811  0.75647668]\n",
            "  [0.91277278 0.29814196 0.60679612 0.86631867 0.37677903 0.97409326]\n",
            "  [0.91114517 0.22469486 0.61650485 0.86450399 0.39544208 0.97927461]\n",
            "  [0.90975459 0.24240068 0.58737864 0.86219643 0.45054673 0.96373057]\n",
            "  [0.91019705 0.25365389 0.66019417 0.86293575 0.44996899 0.97409326]\n",
            "  [0.91041828 0.18984685 0.68932039 0.8639215  0.44568756 0.97409326]\n",
            "  [0.9105605  0.19690197 0.69417476 0.86385429 0.46164151 0.96373057]\n",
            "  [0.91021285 0.06510923 0.7038835  0.86432476 0.51279291 0.94818653]\n",
            "  [0.90864845 0.09432092 0.7038835  0.86192759 0.57341648 0.90673575]\n",
            "  [0.90891709 0.05263158 0.7184466  0.86219643 0.59890545 0.89637306]\n",
            "  [0.90942275 0.12635077 0.72815534 0.8625997  0.61634955 0.89119171]\n",
            "  [0.90939115 0.1153891  0.73786408 0.86239806 0.60050294 0.89119171]\n",
            "  [0.90918572 0.23756122 0.72815534 0.86309257 0.60916659 0.88601036]\n",
            "  [0.9090119  0.09379616 0.73300971 0.86116588 0.61021007 0.89119171]\n",
            "  [0.90893289 0.14811863 0.73300971 0.86078502 0.6201699  0.88601036]\n",
            "  [0.90913832 0.11674959 0.73786408 0.86181557 0.60722756 0.89119171]\n",
            "  [0.90931214 0.04141724 0.73300971 0.86228605 0.60044978 0.89637306]]]\n"
          ]
        }
      ],
      "source": [
        "print(f'Predicción: \\n {y}')\n",
        "print(f'data: \\n {X}')"
      ]
    },
    {
      "cell_type": "code",
      "execution_count": null,
      "metadata": {
        "id": "jKKoNxEnS3zq"
      },
      "outputs": [],
      "source": [
        ""
      ]
    },
    {
      "cell_type": "code",
      "execution_count": null,
      "metadata": {
        "id": "DmhnmkHDO99T"
      },
      "outputs": [],
      "source": [
        "from tensorflow import keras\n",
        "from keras.models import Sequential\n",
        "from keras.layers import Dense\n",
        "from keras.layers import GRU\n",
        "from keras.layers import Dropout\n"
      ]
    },
    {
      "cell_type": "code",
      "execution_count": null,
      "metadata": {
        "id": "3KMAjho9SBpJ"
      },
      "outputs": [],
      "source": [
        "from keras.layers.recurrent_v2 import LSTM\n",
        "# define model\n",
        "model = Sequential()\n",
        "model.add(LSTM(128, input_shape=(n_input,n_features+1),activation='relu',return_sequences=False))\n",
        "model.add(Dense(3, activation = \"linear\"))\n",
        "\n",
        "model.compile(loss='mse', optimizer='adam')"
      ]
    },
    {
      "cell_type": "code",
      "execution_count": null,
      "metadata": {
        "id": "l5-aka9MezUl"
      },
      "outputs": [],
      "source": [
        ""
      ]
    },
    {
      "cell_type": "code",
      "execution_count": null,
      "metadata": {
        "colab": {
          "base_uri": "https://localhost:8080/"
        },
        "id": "FcUxCpIOSdr5",
        "outputId": "1a896fa5-7f1c-481d-992f-48ba02999f65"
      },
      "outputs": [
        {
          "output_type": "stream",
          "name": "stdout",
          "text": [
            "Model: \"sequential\"\n",
            "_________________________________________________________________\n",
            " Layer (type)                Output Shape              Param #   \n",
            "=================================================================\n",
            " lstm (LSTM)                 (None, 128)               69120     \n",
            "                                                                 \n",
            " dense (Dense)               (None, 3)                 387       \n",
            "                                                                 \n",
            "=================================================================\n",
            "Total params: 69,507\n",
            "Trainable params: 69,507\n",
            "Non-trainable params: 0\n",
            "_________________________________________________________________\n"
          ]
        }
      ],
      "source": [
        "model.summary()"
      ]
    },
    {
      "cell_type": "code",
      "execution_count": null,
      "metadata": {
        "colab": {
          "base_uri": "https://localhost:8080/"
        },
        "id": "Hxiq93-dUZvY",
        "outputId": "0b6eee76-8393-44ec-e17b-3317613b9075"
      },
      "outputs": [
        {
          "output_type": "stream",
          "name": "stdout",
          "text": [
            "Epoch 1/100\n",
            "10/10 [==============================] - 21s 2s/step - loss: 1.7950 - val_loss: 1.3316\n",
            "Epoch 2/100\n",
            "10/10 [==============================] - 19s 2s/step - loss: 1.3062 - val_loss: 1.0664\n",
            "Epoch 3/100\n",
            "10/10 [==============================] - 19s 2s/step - loss: 57023.8672 - val_loss: 0.5116\n",
            "Epoch 4/100\n",
            "10/10 [==============================] - 19s 2s/step - loss: 0.8804 - val_loss: 1.2931\n",
            "Epoch 5/100\n",
            "10/10 [==============================] - 19s 2s/step - loss: 0.4969 - val_loss: 1.2488\n",
            "Epoch 6/100\n",
            "10/10 [==============================] - 19s 2s/step - loss: 0.6852 - val_loss: 1.2873\n",
            "Epoch 7/100\n",
            "10/10 [==============================] - 19s 2s/step - loss: 0.9135 - val_loss: 1.2948\n",
            "Epoch 8/100\n",
            "10/10 [==============================] - 19s 2s/step - loss: 1.1506 - val_loss: 1.2905\n",
            "Epoch 9/100\n",
            "10/10 [==============================] - 19s 2s/step - loss: 0.9592 - val_loss: 1.2812\n",
            "Epoch 10/100\n",
            "10/10 [==============================] - 19s 2s/step - loss: 0.4804 - val_loss: 1.2711\n",
            "Epoch 11/100\n",
            "10/10 [==============================] - 19s 2s/step - loss: 0.8509 - val_loss: 1.2695\n",
            "Epoch 12/100\n",
            "10/10 [==============================] - 19s 2s/step - loss: 0.3758 - val_loss: 1.2645\n",
            "Epoch 13/100\n",
            "10/10 [==============================] - 19s 2s/step - loss: 1.5727 - val_loss: 1.2318\n",
            "Epoch 14/100\n",
            "10/10 [==============================] - 19s 2s/step - loss: 0.8139 - val_loss: 1.1325\n",
            "Epoch 15/100\n",
            "10/10 [==============================] - 19s 2s/step - loss: 0.8423 - val_loss: 1.0355\n",
            "Epoch 16/100\n",
            "10/10 [==============================] - 19s 2s/step - loss: 97153770848256.0000 - val_loss: 14959448686592.0000\n",
            "Epoch 17/100\n",
            "10/10 [==============================] - 19s 2s/step - loss: 321198189707264.0000 - val_loss: 1.2882\n",
            "Epoch 18/100\n",
            "10/10 [==============================] - 19s 2s/step - loss: 1.3132 - val_loss: 1.3083\n",
            "Epoch 19/100\n",
            "10/10 [==============================] - 19s 2s/step - loss: 0.7730 - val_loss: 1.3106\n",
            "Epoch 20/100\n",
            "10/10 [==============================] - 19s 2s/step - loss: 0.8130 - val_loss: 1.3134\n",
            "Epoch 21/100\n",
            "10/10 [==============================] - 19s 2s/step - loss: 0.6733 - val_loss: 1.3140\n",
            "Epoch 22/100\n",
            "10/10 [==============================] - 19s 2s/step - loss: 0.5835 - val_loss: 1.2686\n",
            "Epoch 23/100\n",
            "10/10 [==============================] - 19s 2s/step - loss: 0.9955 - val_loss: 1.2465\n",
            "Epoch 24/100\n",
            "10/10 [==============================] - 19s 2s/step - loss: 1.3256 - val_loss: 1.2614\n",
            "Epoch 25/100\n",
            "10/10 [==============================] - 19s 2s/step - loss: 1.0900 - val_loss: 1.2650\n",
            "Epoch 26/100\n",
            "10/10 [==============================] - 19s 2s/step - loss: 0.9303 - val_loss: 1.2643\n",
            "Epoch 27/100\n",
            "10/10 [==============================] - 19s 2s/step - loss: 0.7893 - val_loss: 1.2627\n",
            "Epoch 28/100\n",
            "10/10 [==============================] - 19s 2s/step - loss: 1.4225 - val_loss: 1.2608\n",
            "Epoch 29/100\n",
            "10/10 [==============================] - 19s 2s/step - loss: 0.8549 - val_loss: 1.2577\n",
            "Epoch 30/100\n",
            "10/10 [==============================] - 19s 2s/step - loss: 0.6190 - val_loss: 1.2556\n",
            "Epoch 31/100\n",
            "10/10 [==============================] - 19s 2s/step - loss: 1.0295 - val_loss: 1.2537\n",
            "Epoch 32/100\n",
            "10/10 [==============================] - 19s 2s/step - loss: 0.5682 - val_loss: 1.2521\n",
            "Epoch 33/100\n",
            "10/10 [==============================] - 19s 2s/step - loss: 0.9371 - val_loss: 1.2510\n",
            "Epoch 34/100\n",
            "10/10 [==============================] - 19s 2s/step - loss: 0.8379 - val_loss: 1.2489\n",
            "Epoch 35/100\n",
            "10/10 [==============================] - 19s 2s/step - loss: 0.7109 - val_loss: 1.2460\n",
            "Epoch 36/100\n",
            "10/10 [==============================] - 21s 2s/step - loss: 0.9193 - val_loss: 1.2421\n",
            "Epoch 37/100\n",
            "10/10 [==============================] - 19s 2s/step - loss: 0.6375 - val_loss: 1.2373\n",
            "Epoch 38/100\n",
            "10/10 [==============================] - 19s 2s/step - loss: 0.8776 - val_loss: 1.2294\n",
            "Epoch 39/100\n",
            "10/10 [==============================] - 19s 2s/step - loss: 0.7462 - val_loss: 1.2159\n",
            "Epoch 40/100\n",
            "10/10 [==============================] - 19s 2s/step - loss: 1.4185 - val_loss: 1.1606\n",
            "Epoch 41/100\n",
            "10/10 [==============================] - 19s 2s/step - loss: 0.6387 - val_loss: 1.2137\n",
            "Epoch 42/100\n",
            "10/10 [==============================] - 18s 2s/step - loss: 0.7409 - val_loss: 1.2194\n",
            "Epoch 43/100\n",
            "10/10 [==============================] - 19s 2s/step - loss: 1.4602 - val_loss: 1.2174\n",
            "Epoch 44/100\n",
            "10/10 [==============================] - 19s 2s/step - loss: 0.6776 - val_loss: 1.2135\n",
            "Epoch 45/100\n",
            "10/10 [==============================] - 19s 2s/step - loss: 0.3650 - val_loss: 1.2091\n",
            "Epoch 46/100\n",
            "10/10 [==============================] - 29s 3s/step - loss: 0.9248 - val_loss: 1.2042\n",
            "Epoch 47/100\n",
            "10/10 [==============================] - 19s 2s/step - loss: 0.7214 - val_loss: 1.1949\n",
            "Epoch 48/100\n",
            "10/10 [==============================] - 20s 2s/step - loss: 0.5674 - val_loss: 1.1801\n",
            "Epoch 49/100\n",
            "10/10 [==============================] - 20s 2s/step - loss: 0.7797 - val_loss: 1.1496\n",
            "Epoch 50/100\n",
            "10/10 [==============================] - 20s 2s/step - loss: 11045.1055 - val_loss: 1.2499\n",
            "Epoch 51/100\n",
            "10/10 [==============================] - 21s 2s/step - loss: 0.8580 - val_loss: 1.2728\n",
            "Epoch 52/100\n",
            "10/10 [==============================] - 19s 2s/step - loss: 0.8421 - val_loss: 1.2764\n",
            "Epoch 53/100\n",
            "10/10 [==============================] - 19s 2s/step - loss: 0.9390 - val_loss: 1.2756\n",
            "Epoch 54/100\n",
            "10/10 [==============================] - 19s 2s/step - loss: 0.6759 - val_loss: 1.2752\n",
            "Epoch 55/100\n",
            "10/10 [==============================] - 19s 2s/step - loss: 1.3269 - val_loss: 1.2725\n",
            "Epoch 56/100\n",
            "10/10 [==============================] - 19s 2s/step - loss: 0.5175 - val_loss: 1.2709\n",
            "Epoch 57/100\n",
            "10/10 [==============================] - 19s 2s/step - loss: 1.2601 - val_loss: 1.2688\n",
            "Epoch 58/100\n",
            "10/10 [==============================] - 19s 2s/step - loss: 1.1745 - val_loss: 1.2654\n",
            "Epoch 59/100\n",
            "10/10 [==============================] - 19s 2s/step - loss: 0.5507 - val_loss: 1.2635\n",
            "Epoch 60/100\n",
            "10/10 [==============================] - 19s 2s/step - loss: 0.5177 - val_loss: 1.2619\n",
            "Epoch 61/100\n",
            "10/10 [==============================] - 19s 2s/step - loss: 0.8507 - val_loss: 1.2558\n",
            "Epoch 62/100\n",
            "10/10 [==============================] - 19s 2s/step - loss: 0.9996 - val_loss: 1.2447\n",
            "Epoch 63/100\n",
            "10/10 [==============================] - 19s 2s/step - loss: 0.7850 - val_loss: 1.2225\n",
            "Epoch 64/100\n",
            "10/10 [==============================] - 19s 2s/step - loss: 14934037495808.0000 - val_loss: 1.2286\n",
            "Epoch 65/100\n",
            "10/10 [==============================] - 19s 2s/step - loss: 1.0672 - val_loss: 1.2455\n",
            "Epoch 66/100\n",
            "10/10 [==============================] - 18s 2s/step - loss: 0.4450 - val_loss: 1.2412\n",
            "Epoch 67/100\n",
            "10/10 [==============================] - 19s 2s/step - loss: 0.7739 - val_loss: 1.2368\n",
            "Epoch 68/100\n",
            "10/10 [==============================] - 18s 2s/step - loss: 1.4586 - val_loss: 1.2258\n",
            "Epoch 69/100\n",
            "10/10 [==============================] - 18s 2s/step - loss: 1.0539 - val_loss: 1.2072\n",
            "Epoch 70/100\n",
            "10/10 [==============================] - 18s 2s/step - loss: 0.8380 - val_loss: 1.1687\n",
            "Epoch 71/100\n",
            "10/10 [==============================] - 18s 2s/step - loss: 0.8226 - val_loss: 1.7790\n",
            "Epoch 72/100\n",
            "10/10 [==============================] - 18s 2s/step - loss: 29.3359 - val_loss: 1.1683\n",
            "Epoch 73/100\n",
            "10/10 [==============================] - 18s 2s/step - loss: 0.3686 - val_loss: 1.1780\n",
            "Epoch 74/100\n",
            "10/10 [==============================] - 18s 2s/step - loss: 0.6609 - val_loss: 1.1798\n",
            "Epoch 75/100\n",
            "10/10 [==============================] - 19s 2s/step - loss: 0.6768 - val_loss: 1.1803\n",
            "Epoch 76/100\n",
            "10/10 [==============================] - 18s 2s/step - loss: 1.0168 - val_loss: 1.1796\n",
            "Epoch 77/100\n",
            "10/10 [==============================] - 18s 2s/step - loss: 0.7107 - val_loss: 1.1785\n",
            "Epoch 78/100\n",
            "10/10 [==============================] - 18s 2s/step - loss: 1.0471 - val_loss: 1.1762\n",
            "Epoch 79/100\n",
            "10/10 [==============================] - 18s 2s/step - loss: 0.5204 - val_loss: 1.1760\n",
            "Epoch 80/100\n",
            "10/10 [==============================] - 18s 2s/step - loss: 0.6230 - val_loss: 1.1753\n",
            "Epoch 81/100\n",
            "10/10 [==============================] - 18s 2s/step - loss: 1.0155 - val_loss: 1.1741\n",
            "Epoch 82/100\n",
            "10/10 [==============================] - 18s 2s/step - loss: 0.6127 - val_loss: 1.1734\n",
            "Epoch 83/100\n",
            "10/10 [==============================] - 18s 2s/step - loss: 0.4051 - val_loss: 1.1746\n",
            "Epoch 84/100\n",
            "10/10 [==============================] - 18s 2s/step - loss: 0.6610 - val_loss: 1.1766\n",
            "Epoch 85/100\n",
            "10/10 [==============================] - 19s 2s/step - loss: 0.9077 - val_loss: 1.1762\n",
            "Epoch 86/100\n",
            "10/10 [==============================] - 19s 2s/step - loss: 0.5444 - val_loss: 1.1762\n",
            "Epoch 87/100\n",
            "10/10 [==============================] - 18s 2s/step - loss: 0.7932 - val_loss: 1.1755\n",
            "Epoch 88/100\n",
            "10/10 [==============================] - 18s 2s/step - loss: 1.2195 - val_loss: 1.1750\n",
            "Epoch 89/100\n",
            "10/10 [==============================] - 18s 2s/step - loss: 0.6117 - val_loss: 1.1752\n",
            "Epoch 90/100\n",
            "10/10 [==============================] - 19s 2s/step - loss: 0.6140 - val_loss: 1.1752\n",
            "Epoch 91/100\n",
            "10/10 [==============================] - 18s 2s/step - loss: 0.9426 - val_loss: 1.1746\n",
            "Epoch 92/100\n",
            "10/10 [==============================] - 18s 2s/step - loss: 0.5725 - val_loss: 1.1732\n",
            "Epoch 93/100\n",
            "10/10 [==============================] - 18s 2s/step - loss: 1.2106 - val_loss: 1.1733\n",
            "Epoch 94/100\n",
            "10/10 [==============================] - 18s 2s/step - loss: 0.9954 - val_loss: 1.1727\n",
            "Epoch 95/100\n",
            "10/10 [==============================] - 18s 2s/step - loss: 0.5049 - val_loss: 1.1722\n",
            "Epoch 96/100\n",
            "10/10 [==============================] - 18s 2s/step - loss: 0.8129 - val_loss: 1.1724\n",
            "Epoch 97/100\n",
            "10/10 [==============================] - 18s 2s/step - loss: 1.0140 - val_loss: 1.1722\n",
            "Epoch 98/100\n",
            "10/10 [==============================] - 18s 2s/step - loss: 0.7345 - val_loss: 1.1713\n",
            "Epoch 99/100\n",
            "10/10 [==============================] - 18s 2s/step - loss: 0.8460 - val_loss: 1.1710\n",
            "Epoch 100/100\n",
            "10/10 [==============================] - 18s 2s/step - loss: 0.7941 - val_loss: 1.1708\n"
          ]
        },
        {
          "output_type": "execute_result",
          "data": {
            "text/plain": [
              "<keras.callbacks.History at 0x7f93d58ad210>"
            ]
          },
          "metadata": {},
          "execution_count": 22
        }
      ],
      "source": [
        "model.fit(train_generator,steps_per_epoch=10, epochs=100,validation_data=test_generator)"
      ]
    },
    {
      "cell_type": "code",
      "execution_count": null,
      "metadata": {
        "colab": {
          "base_uri": "https://localhost:8080/",
          "height": 293
        },
        "id": "CkKggwckUkjC",
        "outputId": "f0ed0fc9-8c43-46c8-9db7-f3dcc7300f22"
      },
      "outputs": [
        {
          "output_type": "execute_result",
          "data": {
            "text/plain": [
              "<matplotlib.legend.Legend at 0x7f93d3f7d850>"
            ]
          },
          "metadata": {},
          "execution_count": 23
        },
        {
          "output_type": "display_data",
          "data": {
            "text/plain": [
              "<Figure size 432x288 with 1 Axes>"
            ],
            "image/png": "[encoded data removed]"
          },
          "metadata": {
            "needs_background": "light"
          }
        }
      ],
      "source": [
        "loss_per_epoch = model.history.history['loss']\n",
        "loss_vall=model.history.history['val_loss']\n",
        "plt.plot(range(len(loss_per_epoch)),loss_per_epoch,label=\"test-loss\")\n",
        "plt.plot(range(len(loss_vall)),loss_vall,label=\"validation-loss\")\n",
        "plt.legend()"
      ]
    },
    {
      "cell_type": "code",
      "execution_count": null,
      "metadata": {
        "id": "ggiGJNYoUkgY"
      },
      "outputs": [],
      "source": [
        "N=100\n",
        "Q=0"
      ]
    },
    {
      "cell_type": "code",
      "execution_count": null,
      "metadata": {
        "id": "D9o4CZZKUkd0"
      },
      "outputs": [],
      "source": [
        "L_true_R=  list(train_data.iloc[n_input+1+Q:n_input+1+Q+N,1])\n",
        "L_true_S=  list(train_data.iloc[n_input+1+Q:n_input+1+Q+N,2])\n",
        "L_true_T=  list(train_data.iloc[n_input+1+Q:n_input+1+Q+N,3])"
      ]
    },
    {
      "cell_type": "code",
      "execution_count": null,
      "metadata": {
        "id": "tZ90AKAiUka5"
      },
      "outputs": [],
      "source": [
        "trainPredict = model.predict(train_generator)\n",
        "testPredict = model.predict(test_generator)\n",
        "\n"
      ]
    },
    {
      "cell_type": "code",
      "execution_count": null,
      "metadata": {
        "id": "NhP8_H47B0pd"
      },
      "outputs": [],
      "source": [
        "H_inter=np.zeros((11788,16))\n",
        "H_inter[:,0:3]=trainPredict[:,:]\n",
        "true_pre_r=scaler2.inverse_transform(trainPredict)"
      ]
    },
    {
      "cell_type": "code",
      "execution_count": null,
      "metadata": {
        "colab": {
          "base_uri": "https://localhost:8080/",
          "height": 265
        },
        "id": "VbiNUZkOdalC",
        "outputId": "26a863ad-c708-49ba-d1ae-45ab9732ca94"
      },
      "outputs": [
        {
          "output_type": "display_data",
          "data": {
            "text/plain": [
              "<Figure size 432x288 with 1 Axes>"
            ],
            "image/png": "[encoded data removed]"
          },
          "metadata": {
            "needs_background": "light"
          }
        }
      ],
      "source": [
        "plt.plot(range(len(L_true_R)),true_pre_r[Q:Q+N,0],label='Prediction global R')\n",
        "plt.plot(range(len(L_true_R)),true_pre_r[Q:Q+N,1],label='Prediction global S')\n",
        "plt.plot(range(len(L_true_R)),true_pre_r[Q:Q+N,2],label='Prediction global T')\n",
        "plt.plot(range(len(L_true_R)),L_true_R,label='RSG_R')\n",
        "plt.plot(range(len(L_true_S)),L_true_S,label='RSG_S')\n",
        "plt.plot(range(len(L_true_T)),L_true_T,label='RSG_T')\n",
        "plt.legend()\n",
        "plt.show()"
      ]
    }
  ],
  "metadata": {
    "colab": {
      "collapsed_sections": [],
      "name": " prediction power lstm multi",
      "provenance": [],
      "authorship_tag": "ABX9TyMzXNrFmKq/NrYi1dR9SMGi",
      "include_colab_link": true
    },
    "kernelspec": {
      "display_name": "Python 3",
      "name": "python3"
    },
    "language_info": {
      "name": "python"
    }
  },
  "nbformat": 4,
  "nbformat_minor": 0
}