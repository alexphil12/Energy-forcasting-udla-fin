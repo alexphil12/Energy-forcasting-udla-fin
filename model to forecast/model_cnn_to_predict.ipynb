{
  "cells": [
    {
      "cell_type": "markdown",
      "metadata": {
        "id": "view-in-github",
        "colab_type": "text"
      },
      "source": [
        "<a href=\"https://colab.research.google.com/github/alexphil12/Energy-forcasting-UDLA/blob/main/model_cnn_to_predict.ipynb\" target=\"_parent\"><img src=\"https://colab.research.google.com/assets/colab-badge.svg\" alt=\"Open In Colab\"/></a>"
      ]
    },
    {
      "cell_type": "code",
      "execution_count": 1,
      "metadata": {
        "id": "jVJ7YdJK1KVG"
      },
      "outputs": [],
      "source": [
        "import pandas as pd\n",
        "import matplotlib.pyplot as plt\n",
        "import numpy as np\n",
        "from sklearn.metrics import mean_squared_error\n",
        "from sklearn.metrics import mean_absolute_error\n",
        "from scipy import signal\n",
        "from scipy.fft import fftshift\n",
        "import matplotlib.pyplot as plt\n",
        "import numpy as np\n",
        "rng = np.random.default_rng()\n",
        "import tensorflow as tf\n",
        "import copy as cp"
      ]
    },
    {
      "cell_type": "code",
      "execution_count": 1,
      "metadata": {
        "id": "CytxjsbvmaEe"
      },
      "outputs": [],
      "source": [
        ""
      ]
    },
    {
      "cell_type": "code",
      "execution_count": 2,
      "metadata": {
        "id": "TVOREGZs4g2J"
      },
      "outputs": [],
      "source": [
        "df = pd.read_csv('/content/df_cov_continu_1_1.txt', index_col=0, parse_dates=True,sep=',')\n",
        "N=len(list(df.iloc[:,3]))\n",
        "df_train=df.iloc[0:round(N*0.8),:]\n",
        "df_test=df.iloc[round(N*0.8):N,:]"
      ]
    },
    {
      "cell_type": "code",
      "execution_count": 3,
      "metadata": {
        "id": "ow4omz574gzO"
      },
      "outputs": [],
      "source": [
        "mesure=[\"Fecha\",\"Hora\"];\n",
        "mesure.append(\"Voltaje_(R)_[V]\")\t\n",
        "mesure.append(\"Voltaje_(S)_[V]\")\t\n",
        "mesure.append(\"Voltaje_(T)_[V]\")\t\n",
        "mesure.append(\"Voltaje_(RS)_[V]\")\t\n",
        "mesure.append(\"Voltaje_(ST)_[V]\")\t\n",
        "mesure.append(\"Voltaje_(TR)_[V]\")\t\n",
        "mesure.append(\"Corriente_R_[A]\")\t\n",
        "mesure.append(\"Corriente_S_[A]\")\t\n",
        "mesure.append(\"Corriente_T_[A]\")\t\n",
        "mesure.append(\"Potencia_R_[VA]\")\t\n",
        "mesure.append(\"Potencia_S_[VA]\")\t\n",
        "mesure.append(\"Potencia_T_[VA]\")\t\n",
        "mesure.append(\"Potencia_R_[W]\")\t\n",
        "mesure.append(\"Potencia_S_[W]\")\t\n",
        "mesure.append(\"Potencia_T_[W]\")\t\n",
        "mesure.append(\"Potencia_R_[VAR]\")\t\n",
        "mesure.append(\"Potencia_S_[VAR]\")\t\n",
        "mesure.append(\"Potencia_T_[VAR]\")\t\n",
        "mesure.append(\"Corriente_N_[A]\")\t\n",
        "mesure.append(\"Frecuencia_[Hz]\")\t\n",
        "mesure.append(\"not_sure_1\")\t\n",
        "mesure.append(\"not_sure_2\")\t\n",
        "mesure.append(\"not_sure_3\")\t\n",
        "mesure.append(\"Potencia_3F_[KVA]\")\t\n",
        "mesure.append(\"Potencia_3F_[W]\")\t\n",
        "mesure.append(\"Potencia_3F_[VAR]\")\t\n",
        "mesure.append(\"Factor de Potencia\")"
      ]
    },
    {
      "cell_type": "code",
      "execution_count": 4,
      "metadata": {
        "id": "ykILWLmZ4gwZ"
      },
      "outputs": [],
      "source": [
        "RSG_train = df_train[mesure[10]].values\n",
        "window_len=4000\n",
        "long=len(RSG_train)\n",
        "Q=long-window_len\n",
        "Spectro=np.zeros((1000,17,Q))\n",
        "Y=[]"
      ]
    },
    {
      "cell_type": "code",
      "execution_count": 5,
      "metadata": {
        "id": "_DZvRTyg4gto"
      },
      "outputs": [],
      "source": [
        "RSG_test = df_test[mesure[10]].values"
      ]
    },
    {
      "cell_type": "code",
      "execution_count": 6,
      "metadata": {
        "id": "m12WZeu14grb"
      },
      "outputs": [],
      "source": [
        "from sklearn.preprocessing import MinMaxScaler"
      ]
    },
    {
      "cell_type": "code",
      "execution_count": 7,
      "metadata": {
        "id": "045nVqnl4gpW"
      },
      "outputs": [],
      "source": [
        "scaler = MinMaxScaler()"
      ]
    },
    {
      "cell_type": "code",
      "execution_count": 8,
      "metadata": {
        "colab": {
          "base_uri": "https://localhost:8080/"
        },
        "id": "GdRKk43d4gmL",
        "outputId": "284e7503-f14d-4253-dc7a-11c6a7486ca9"
      },
      "outputs": [
        {
          "output_type": "execute_result",
          "data": {
            "text/plain": [
              "MinMaxScaler()"
            ]
          },
          "metadata": {},
          "execution_count": 8
        }
      ],
      "source": [
        "scaler.fit(RSG_train.reshape(-1,1))"
      ]
    },
    {
      "cell_type": "code",
      "execution_count": 9,
      "metadata": {
        "id": "OOF2FcRr5suJ"
      },
      "outputs": [],
      "source": [
        "scaled_train = scaler.transform(RSG_train.reshape(-1,1))\n",
        "scaled_test = scaler.transform(RSG_test.reshape(-1,1))"
      ]
    },
    {
      "cell_type": "code",
      "execution_count": 10,
      "metadata": {
        "id": "V80hyKbf5srm"
      },
      "outputs": [],
      "source": [
        "# split a univariate sequence into samples\n",
        "def split_sequence(sequence, n_steps):\n",
        "\tX, y = list(), list()\n",
        "\tfor i in range(len(sequence)):\n",
        "\t\tend_ix = i + n_steps\n",
        "\t\tif end_ix > len(sequence)-1:\n",
        "\t\t\tbreak\n",
        "\t\tseq_x, seq_y = sequence[i:end_ix], sequence[end_ix]\n",
        "\t\tX.append(seq_x)\n",
        "\t\ty.append(seq_y)\n",
        "\treturn np.array(X), np.array(y)"
      ]
    },
    {
      "cell_type": "markdown",
      "metadata": {
        "id": "VlN8VHWRmzsW"
      },
      "source": [
        ""
      ]
    },
    {
      "cell_type": "code",
      "execution_count": 11,
      "metadata": {
        "id": "X-xV4JA_5spQ"
      },
      "outputs": [],
      "source": [
        "n_steps=20\n",
        "n_features=1\n",
        "X,y=split_sequence(scaled_train,n_steps)\n",
        "X_test,y_test=split_sequence(scaled_test,n_steps)"
      ]
    },
    {
      "cell_type": "code",
      "execution_count": 12,
      "metadata": {
        "id": "kIOSzGl05snP"
      },
      "outputs": [],
      "source": [
        "from tensorflow import keras\n",
        "from keras.models import Sequential\n",
        "from keras.layers import Dense\n",
        "from keras.layers import Conv1D\n",
        "from keras.layers import MaxPooling1D\n",
        "from keras.layers import Flatten"
      ]
    },
    {
      "cell_type": "code",
      "execution_count": 13,
      "metadata": {
        "id": "N5Daz2Yj5sj5"
      },
      "outputs": [],
      "source": [
        "\n",
        "# define model\n",
        "model = Sequential()\n",
        "model.add(Conv1D(filters=64, kernel_size=2, activation='relu', input_shape=(n_steps, n_features)))\n",
        "model.add(MaxPooling1D(pool_size=2))\n",
        "model.add(Flatten())\n",
        "model.add(Dense(50, activation='relu'))\n",
        "model.add(Dense(1))\n",
        "model.compile(optimizer='adam', loss='mse')\n"
      ]
    },
    {
      "cell_type": "code",
      "execution_count": 14,
      "metadata": {
        "id": "7lWq1loWnqIZ"
      },
      "outputs": [],
      "source": [
        "X = X.reshape(X.shape[0], X.shape[1], n_features)\n",
        "X_test=X_test.reshape(X_test.shape[0],X_test.shape[1],n_features)"
      ]
    },
    {
      "cell_type": "code",
      "execution_count": 15,
      "metadata": {
        "colab": {
          "base_uri": "https://localhost:8080/"
        },
        "id": "b2kS5fYenqF0",
        "outputId": "c8db8f91-7cc4-4863-8b29-58da7bfb2bb9"
      },
      "outputs": [
        {
          "output_type": "stream",
          "name": "stdout",
          "text": [
            "Epoch 1/10\n",
            "82/82 [==============================] - 1s 8ms/step - loss: 0.0153 - val_loss: 0.0020\n",
            "Epoch 2/10\n",
            "82/82 [==============================] - 0s 5ms/step - loss: 0.0022 - val_loss: 0.0014\n",
            "Epoch 3/10\n",
            "82/82 [==============================] - 0s 5ms/step - loss: 0.0016 - val_loss: 0.0011\n",
            "Epoch 4/10\n",
            "82/82 [==============================] - 0s 5ms/step - loss: 0.0014 - val_loss: 0.0011\n",
            "Epoch 5/10\n",
            "82/82 [==============================] - 0s 5ms/step - loss: 0.0014 - val_loss: 9.3127e-04\n",
            "Epoch 6/10\n",
            "82/82 [==============================] - 0s 5ms/step - loss: 0.0014 - val_loss: 9.0553e-04\n",
            "Epoch 7/10\n",
            "82/82 [==============================] - 0s 5ms/step - loss: 0.0013 - val_loss: 9.0599e-04\n",
            "Epoch 8/10\n",
            "82/82 [==============================] - 0s 5ms/step - loss: 0.0013 - val_loss: 8.8735e-04\n",
            "Epoch 9/10\n",
            "82/82 [==============================] - 0s 5ms/step - loss: 0.0013 - val_loss: 9.0540e-04\n",
            "Epoch 10/10\n",
            "82/82 [==============================] - 0s 5ms/step - loss: 0.0013 - val_loss: 8.6658e-04\n"
          ]
        },
        {
          "output_type": "execute_result",
          "data": {
            "text/plain": [
              "<keras.callbacks.History at 0x7f736ab648d0>"
            ]
          },
          "metadata": {},
          "execution_count": 15
        }
      ],
      "source": [
        "model.fit(X, y, epochs=10, verbose=1,batch_size=100,validation_data=(X_test,y_test))"
      ]
    },
    {
      "cell_type": "code",
      "execution_count": 16,
      "metadata": {
        "colab": {
          "base_uri": "https://localhost:8080/",
          "height": 282
        },
        "id": "slj9Ab_0nqA9",
        "outputId": "ccb6a576-ca04-44f3-8748-f78a5fe55471"
      },
      "outputs": [
        {
          "output_type": "execute_result",
          "data": {
            "text/plain": [
              "<matplotlib.legend.Legend at 0x7f736aaf3790>"
            ]
          },
          "metadata": {},
          "execution_count": 16
        },
        {
          "output_type": "display_data",
          "data": {
            "text/plain": [
              "<Figure size 432x288 with 1 Axes>"
            ],
            "image/png": "[encoded data removed]"
          },
          "metadata": {
            "needs_background": "light"
          }
        }
      ],
      "source": [
        "loss_per_epoch = model.history.history['loss']\n",
        "loss_vall=model.history.history['val_loss']\n",
        "plt.plot(range(len(loss_per_epoch)),loss_per_epoch,label=\"train-loss\")\n",
        "plt.plot(range(len(loss_vall)),loss_vall,label=\"validation-loss\")\n",
        "plt.legend()"
      ]
    },
    {
      "cell_type": "code",
      "execution_count": 16,
      "metadata": {
        "id": "LPCKCeksRkJX"
      },
      "outputs": [],
      "source": [
        ""
      ]
    },
    {
      "cell_type": "markdown",
      "metadata": {
        "id": "8VNsfFnep2fB"
      },
      "source": [
        ""
      ]
    },
    {
      "cell_type": "code",
      "execution_count": 17,
      "metadata": {
        "id": "e5zC_jS6nqDj"
      },
      "outputs": [],
      "source": [
        "Q=0\n",
        "N=50"
      ]
    },
    {
      "cell_type": "code",
      "execution_count": 18,
      "metadata": {
        "id": "sy7bYNYLnp-R"
      },
      "outputs": [],
      "source": [
        "test_predictions = []\n",
        "first_eval_batch = scaled_train[Q:Q+n_steps]\n",
        "current_batch = first_eval_batch.reshape((1, n_steps, n_features))\n",
        "for i in range(N):\n",
        "    \n",
        "    # obtener la predicción ([0] es para obtener solo el número en lugar de [matriz])\n",
        "    current_pred = model.predict(current_batch)[0]\n",
        "    \n",
        "    # guardar la predicción\n",
        "    test_predictions.append(current_pred) \n",
        "    \n",
        "    # actualizar el lote para incluir ahora la predicción y soltar primer valor\n",
        "    current_batch = np.append(current_batch[:,1:,:],[[current_pred]],axis=1)"
      ]
    },
    {
      "cell_type": "code",
      "execution_count": 19,
      "metadata": {
        "id": "zXTdZFhiqtmP"
      },
      "outputs": [],
      "source": [
        "L_true=  list(df_train[mesure[10]][n_steps+1+Q:n_steps+1+Q+N])"
      ]
    },
    {
      "cell_type": "code",
      "execution_count": 20,
      "metadata": {
        "colab": {
          "base_uri": "https://localhost:8080/"
        },
        "id": "TE2ZI7Alqxjg",
        "outputId": "a17d120a-6749-42fd-8e44-0554bdea1f13"
      },
      "outputs": [
        {
          "output_type": "stream",
          "name": "stderr",
          "text": [
            "/usr/local/lib/python3.7/dist-packages/ipykernel_launcher.py:2: UserWarning: `Model.predict_generator` is deprecated and will be removed in a future version. Please use `Model.predict`, which supports generators.\n",
            "  \n"
          ]
        }
      ],
      "source": [
        "trainPredict = model.predict(X)\n",
        "testPredict = model.predict_generator(X_test)\n",
        "true_pre=scaler.inverse_transform(trainPredict)\n",
        "true_pre_test=scaler.inverse_transform(testPredict)\n",
        "test_predictions_true=scaler.inverse_transform(test_predictions)"
      ]
    },
    {
      "cell_type": "code",
      "execution_count": 21,
      "metadata": {
        "colab": {
          "base_uri": "https://localhost:8080/",
          "height": 294
        },
        "id": "8POs57opq0KC",
        "outputId": "f6803545-b3a3-4246-bc3a-d27e1ce041ba"
      },
      "outputs": [
        {
          "output_type": "display_data",
          "data": {
            "text/plain": [
              "<Figure size 432x288 with 1 Axes>"
            ],
            "image/png": "[encoded data removed]"
          },
          "metadata": {
            "needs_background": "light"
          }
        }
      ],
      "source": [
        "plt.suptitle('Time-Series Prediction')\n",
        "plt.plot(range(len(L_true)),true_pre[Q:Q+N],label='Prediction global',c=\"green\")\n",
        "plt.plot(range(len(L_true)),test_predictions_true[Q:Q+N],label='Prediction reitarate',c=\"blue\")\n",
        "plt.plot(range(len(L_true)),L_true,label='True value',c=\"red\")\n",
        "plt.legend()\n",
        "plt.show()"
      ]
    },
    {
      "cell_type": "code",
      "source": [
        "Resul_rmse=np.sqrt(mean_squared_error(true_pre_test,RSG_test[n_steps:]))\n",
        "print(Resul_rmse)"
      ],
      "metadata": {
        "colab": {
          "base_uri": "https://localhost:8080/"
        },
        "id": "m6b_p8hmlG0a",
        "outputId": "9eb55ad4-ff6f-4f48-a568-97aa848fcf3f"
      },
      "execution_count": 22,
      "outputs": [
        {
          "output_type": "stream",
          "name": "stdout",
          "text": [
            "5.5590375295662495\n"
          ]
        }
      ]
    },
    {
      "cell_type": "code",
      "source": [
        ""
      ],
      "metadata": {
        "id": "H6_wFJSNlGx0"
      },
      "execution_count": 22,
      "outputs": []
    },
    {
      "cell_type": "code",
      "source": [
        ""
      ],
      "metadata": {
        "id": "CrI-Y_6jlGvQ"
      },
      "execution_count": 22,
      "outputs": []
    },
    {
      "cell_type": "code",
      "source": [
        "def create_model(num_filters,kernel_size,activation,n_steps,pool_size,layers):\n",
        "  model=Sequential()\n",
        "  assert(len(kernel_size)==layers==len(num_filters)==len(pool_size))\n",
        "  if layers > 1:\n",
        "    model.add(Conv1D(filters=num_filters[0], kernel_size=kernel_size[0], activation=activation, input_shape=(n_steps,1)))\n",
        "    model.add(MaxPooling1D(pool_size=pool_size[0],padding='same'))\n",
        "    for j in range(1,layers):\n",
        "      model.add(Conv1D(filters=num_filters[j], kernel_size=kernel_size[j], activation=activation))\n",
        "      model.add(MaxPooling1D(pool_size=pool_size[j],padding='same'))\n",
        "  else:\n",
        "    model.add(Conv1D(filters=num_filters[0], kernel_size=kernel_size[0], activation=activation, input_shape=(n_steps,1)))\n",
        "    model.add(MaxPooling1D(pool_size=pool_size[0],padding='same'))\n",
        "  model.add(Flatten())\n",
        "  model.add(Dense(50,activation='relu'))\n",
        "  model.add(Dense(1))\n",
        "  model.compile(optimizer='adam', loss='mse')\n",
        "  return model"
      ],
      "metadata": {
        "id": "vSGYhwrN4iBR"
      },
      "execution_count": 23,
      "outputs": []
    },
    {
      "cell_type": "code",
      "source": [
        "layers1=[1,2,3]\n",
        "num_filters=[[64],[64,32],[64,32,16]]\n",
        "kernel_size=[[4],[4,3],[4,3,2]]\n",
        "activation=[\"relu\",\"elu\",\"exponential\",\"sigmoid\",\"tanh\"]\n",
        "pool_size=[[3],[2,2],[2,2,1]]\n",
        "import json"
      ],
      "metadata": {
        "id": "QhglSlbW54a0"
      },
      "execution_count": 24,
      "outputs": []
    },
    {
      "cell_type": "code",
      "source": [
        "min_RMSE=100000\n",
        "for k in range(3):\n",
        "  for activa in activation:\n",
        "    model_t=create_model(num_filters[k],kernel_size[k],activa,n_steps,pool_size[k],layers1[k]) \n",
        "    print({\n",
        "          'num_filters':num_filters[k],\n",
        "          'Kernal_size(s)':kernel_size[k],\n",
        "          'Activation':activa,\n",
        "          'pool_size(s)': pool_size[k],\n",
        "          'Number of layers':layers1[k],\n",
        "      })\n",
        "    model_t.fit(X, y, epochs=30, verbose=0,batch_size=100)\n",
        "    predictions_1=model_t.predict(X_test)\n",
        "    true_predictions1 = scaler.inverse_transform(predictions_1.reshape(-1,1))\n",
        "    rsg_predictions = true_predictions1[:,0]\n",
        "    true_values = np.ndarray.flatten(df_test.iloc[n_steps:][mesure[14]].values)\n",
        "    errorMSE = mean_squared_error(true_values,rsg_predictions)\n",
        "    errorMAE = mean_absolute_error(true_values,rsg_predictions)\n",
        "    errorRMSE = np.sqrt(errorMSE)\n",
        "    if(errorRMSE<min_RMSE):\n",
        "      print('BEST')\n",
        "      model.save(\"./drive/MyDrive/DatosInvestigacion/CNN_HP_RS.h5\",\"a\")\n",
        "      min_RMSE = errorRMSE\n",
        "\n",
        "    print('RMSE:',errorRMSE)\n",
        "    print('MAE',errorMAE)\n",
        "    print('min RMSE',min_RMSE)\n",
        "    resultado = {\n",
        "        'num_filters':num_filters[k],\n",
        "        'Kernal_size(s)':kernel_size[k],\n",
        "        'Activation':activa,\n",
        "        'pool_size(s)': pool_size[k],\n",
        "        'Number of layers':layers1[k],\n",
        "        'MSE':errorMSE,\n",
        "        'MAE':errorMAE,\n",
        "        'RMSE':errorRMSE\n",
        "      }\n",
        "    with open(\"./drive/MyDrive/DatosInvestigacion/CNN_HP_RS.txt\",\"a\") as file:\n",
        "      resultado = json.dumps(resultado)\n",
        "      file.write(resultado)\n",
        "      file.write('\\n')"
      ],
      "metadata": {
        "colab": {
          "base_uri": "https://localhost:8080/"
        },
        "id": "-SkFyAuS54Wp",
        "outputId": "2d34b344-ae53-4c5d-b70d-024a8f599d9b"
      },
      "execution_count": 25,
      "outputs": [
        {
          "output_type": "stream",
          "name": "stdout",
          "text": [
            "{'num_filters': [64], 'Kernal_size(s)': [4], 'Activation': 'relu', 'pool_size(s)': [3], 'Number of layers': 1}\n",
            "BEST\n",
            "RMSE: 14820.481585253287\n",
            "MAE 14061.023893216154\n",
            "min RMSE 14820.481585253287\n",
            "{'num_filters': [64], 'Kernal_size(s)': [4], 'Activation': 'elu', 'pool_size(s)': [3], 'Number of layers': 1}\n",
            "BEST\n",
            "RMSE: 14819.93572475633\n",
            "MAE 14060.368361299576\n",
            "min RMSE 14819.93572475633\n",
            "{'num_filters': [64], 'Kernal_size(s)': [4], 'Activation': 'exponential', 'pool_size(s)': [3], 'Number of layers': 1}\n",
            "RMSE: 14824.344974802718\n",
            "MAE 14064.988022244775\n",
            "min RMSE 14819.93572475633\n",
            "{'num_filters': [64], 'Kernal_size(s)': [4], 'Activation': 'sigmoid', 'pool_size(s)': [3], 'Number of layers': 1}\n",
            "BEST\n",
            "RMSE: 14815.259804567699\n",
            "MAE 14055.23943312305\n",
            "min RMSE 14815.259804567699\n",
            "{'num_filters': [64], 'Kernal_size(s)': [4], 'Activation': 'tanh', 'pool_size(s)': [3], 'Number of layers': 1}\n",
            "RMSE: 14820.749573858027\n",
            "MAE 14061.3068597285\n",
            "min RMSE 14815.259804567699\n",
            "{'num_filters': [64, 32], 'Kernal_size(s)': [4, 3], 'Activation': 'relu', 'pool_size(s)': [2, 2], 'Number of layers': 2}\n",
            "RMSE: 14820.849097137383\n",
            "MAE 14061.322693175127\n",
            "min RMSE 14815.259804567699\n",
            "{'num_filters': [64, 32], 'Kernal_size(s)': [4, 3], 'Activation': 'elu', 'pool_size(s)': [2, 2], 'Number of layers': 2}\n",
            "RMSE: 14821.778707096557\n",
            "MAE 14062.17260482967\n",
            "min RMSE 14815.259804567699\n",
            "{'num_filters': [64, 32], 'Kernal_size(s)': [4, 3], 'Activation': 'exponential', 'pool_size(s)': [2, 2], 'Number of layers': 2}\n",
            "RMSE: 14818.349555187433\n",
            "MAE 14058.606442483637\n",
            "min RMSE 14815.259804567699\n",
            "{'num_filters': [64, 32], 'Kernal_size(s)': [4, 3], 'Activation': 'sigmoid', 'pool_size(s)': [2, 2], 'Number of layers': 2}\n",
            "RMSE: 14823.17883831876\n",
            "MAE 14063.53151546212\n",
            "min RMSE 14815.259804567699\n",
            "{'num_filters': [64, 32], 'Kernal_size(s)': [4, 3], 'Activation': 'tanh', 'pool_size(s)': [2, 2], 'Number of layers': 2}\n",
            "RMSE: 14820.642308292046\n",
            "MAE 14060.97920877272\n",
            "min RMSE 14815.259804567699\n",
            "{'num_filters': [64, 32, 16], 'Kernal_size(s)': [4, 3, 2], 'Activation': 'relu', 'pool_size(s)': [2, 2, 1], 'Number of layers': 3}\n",
            "RMSE: 14820.399621371835\n",
            "MAE 14060.908239596345\n",
            "min RMSE 14815.259804567699\n",
            "{'num_filters': [64, 32, 16], 'Kernal_size(s)': [4, 3, 2], 'Activation': 'elu', 'pool_size(s)': [2, 2, 1], 'Number of layers': 3}\n",
            "RMSE: 14817.631369708144\n",
            "MAE 14058.23167577557\n",
            "min RMSE 14815.259804567699\n",
            "{'num_filters': [64, 32, 16], 'Kernal_size(s)': [4, 3, 2], 'Activation': 'exponential', 'pool_size(s)': [2, 2, 1], 'Number of layers': 3}\n",
            "RMSE: 14820.889962835843\n",
            "MAE 14061.355839799033\n",
            "min RMSE 14815.259804567699\n",
            "{'num_filters': [64, 32, 16], 'Kernal_size(s)': [4, 3, 2], 'Activation': 'sigmoid', 'pool_size(s)': [2, 2, 1], 'Number of layers': 3}\n",
            "RMSE: 14816.219987577279\n",
            "MAE 14056.249286409078\n",
            "min RMSE 14815.259804567699\n",
            "{'num_filters': [64, 32, 16], 'Kernal_size(s)': [4, 3, 2], 'Activation': 'tanh', 'pool_size(s)': [2, 2, 1], 'Number of layers': 3}\n",
            "RMSE: 14821.495957736164\n",
            "MAE 14061.82899962288\n",
            "min RMSE 14815.259804567699\n"
          ]
        }
      ]
    },
    {
      "cell_type": "code",
      "source": [
        "precedent_result1=[]"
      ],
      "metadata": {
        "id": "9TJhY3a931n-"
      },
      "execution_count": 26,
      "outputs": []
    },
    {
      "cell_type": "code",
      "source": [
        "with open(\"./drive/MyDrive/DatosInvestigacion/CNN_HP_RS.txt\",'r') as fp:\n",
        "    for line in fp:\n",
        "      precedent_result1.append(json.loads(line))"
      ],
      "metadata": {
        "id": "-SUyYL5w38HC"
      },
      "execution_count": 27,
      "outputs": []
    },
    {
      "cell_type": "code",
      "source": [
        "df_result = pd.DataFrame(precedent_result1)"
      ],
      "metadata": {
        "id": "YXM0fYTb4CUt"
      },
      "execution_count": 28,
      "outputs": []
    },
    {
      "cell_type": "code",
      "source": [
        "best_param_s=df_result[df_result['RMSE']==df_result['RMSE'].min()]\n",
        "best_param2=df_result[df_result['MAE']==df_result['MAE'].min()]\n",
        "print(best_param_s)"
      ],
      "metadata": {
        "colab": {
          "base_uri": "https://localhost:8080/"
        },
        "id": "aiTEj15t4Frf",
        "outputId": "9e49d984-6a0f-4477-9de7-5cfa2f939f0e"
      },
      "execution_count": 29,
      "outputs": [
        {
          "output_type": "stream",
          "name": "stdout",
          "text": [
            "     num_filters Kernal_size(s) Activation pool_size(s)  Number of layers  \\\n",
            "14  [64, 32, 16]      [4, 3, 2]       tanh    [2, 2, 1]                 3   \n",
            "\n",
            "              MSE         MAE        RMSE  \n",
            "14  710785.618292  595.693284  843.081027  \n"
          ]
        }
      ]
    },
    {
      "cell_type": "code",
      "source": [
        "df_result.head(15)"
      ],
      "metadata": {
        "colab": {
          "base_uri": "https://localhost:8080/",
          "height": 520
        },
        "id": "DhZIZHqj4JQz",
        "outputId": "967a70c1-4ca3-46f0-ad4f-38dc939156f9"
      },
      "execution_count": 30,
      "outputs": [
        {
          "output_type": "execute_result",
          "data": {
            "text/plain": [
              "     num_filters Kernal_size(s)   Activation pool_size(s)  Number of layers  \\\n",
              "0           [64]            [4]         relu          [3]                 1   \n",
              "1           [64]            [4]          elu          [3]                 1   \n",
              "2           [64]            [4]  exponential          [3]                 1   \n",
              "3           [64]            [4]      sigmoid          [3]                 1   \n",
              "4           [64]            [4]         tanh          [3]                 1   \n",
              "5       [64, 32]         [4, 3]         relu       [2, 2]                 2   \n",
              "6       [64, 32]         [4, 3]          elu       [2, 2]                 2   \n",
              "7       [64, 32]         [4, 3]  exponential       [2, 2]                 2   \n",
              "8       [64, 32]         [4, 3]      sigmoid       [2, 2]                 2   \n",
              "9       [64, 32]         [4, 3]         tanh       [2, 2]                 2   \n",
              "10  [64, 32, 16]      [4, 3, 2]         relu    [2, 2, 1]                 3   \n",
              "11  [64, 32, 16]      [4, 3, 2]          elu    [2, 2, 1]                 3   \n",
              "12  [64, 32, 16]      [4, 3, 2]  exponential    [2, 2, 1]                 3   \n",
              "13  [64, 32, 16]      [4, 3, 2]      sigmoid    [2, 2, 1]                 3   \n",
              "14  [64, 32, 16]      [4, 3, 2]         tanh    [2, 2, 1]                 3   \n",
              "\n",
              "             MSE          MAE         RMSE  \n",
              "0   7.650357e+05   621.826403   874.663209  \n",
              "1   8.836989e+05   687.997906   940.052579  \n",
              "2   1.468983e+06   879.135409  1212.016012  \n",
              "3   1.831410e+06  1011.546227  1353.296040  \n",
              "4   9.118313e+05   687.398181   954.898598  \n",
              "5   7.108850e+05   595.637368   843.139974  \n",
              "6   7.443684e+05   611.666803   862.767878  \n",
              "7   2.715130e+06  1366.327511  1647.765078  \n",
              "8   1.217603e+06   838.561913  1103.450374  \n",
              "9   7.610688e+05   620.610264   872.392544  \n",
              "10  7.342890e+05   609.078284   856.906628  \n",
              "11  7.349664e+05   605.910639   857.301789  \n",
              "12  3.019992e+06  1256.400376  1737.812543  \n",
              "13  1.253936e+06   825.013218  1119.792862  \n",
              "14  7.107856e+05   595.693284   843.081027  "
            ],
            "text/html": [
              "\n",
              "  <div id=\"df-2179aa63-d8eb-4f84-8ac0-2f7b681e5eb0\">\n",
              "    <div class=\"colab-df-container\">\n",
              "      <div>\n",
              "<style scoped>\n",
              "    .dataframe tbody tr th:only-of-type {\n",
              "        vertical-align: middle;\n",
              "    }\n",
              "\n",
              "    .dataframe tbody tr th {\n",
              "        vertical-align: top;\n",
              "    }\n",
              "\n",
              "    .dataframe thead th {\n",
              "        text-align: right;\n",
              "    }\n",
              "</style>\n",
              "<table border=\"1\" class=\"dataframe\">\n",
              "  <thead>\n",
              "    <tr style=\"text-align: right;\">\n",
              "      <th></th>\n",
              "      <th>num_filters</th>\n",
              "      <th>Kernal_size(s)</th>\n",
              "      <th>Activation</th>\n",
              "      <th>pool_size(s)</th>\n",
              "      <th>Number of layers</th>\n",
              "      <th>MSE</th>\n",
              "      <th>MAE</th>\n",
              "      <th>RMSE</th>\n",
              "    </tr>\n",
              "  </thead>\n",
              "  <tbody>\n",
              "    <tr>\n",
              "      <th>0</th>\n",
              "      <td>[64]</td>\n",
              "      <td>[4]</td>\n",
              "      <td>relu</td>\n",
              "      <td>[3]</td>\n",
              "      <td>1</td>\n",
              "      <td>7.650357e+05</td>\n",
              "      <td>621.826403</td>\n",
              "      <td>874.663209</td>\n",
              "    </tr>\n",
              "    <tr>\n",
              "      <th>1</th>\n",
              "      <td>[64]</td>\n",
              "      <td>[4]</td>\n",
              "      <td>elu</td>\n",
              "      <td>[3]</td>\n",
              "      <td>1</td>\n",
              "      <td>8.836989e+05</td>\n",
              "      <td>687.997906</td>\n",
              "      <td>940.052579</td>\n",
              "    </tr>\n",
              "    <tr>\n",
              "      <th>2</th>\n",
              "      <td>[64]</td>\n",
              "      <td>[4]</td>\n",
              "      <td>exponential</td>\n",
              "      <td>[3]</td>\n",
              "      <td>1</td>\n",
              "      <td>1.468983e+06</td>\n",
              "      <td>879.135409</td>\n",
              "      <td>1212.016012</td>\n",
              "    </tr>\n",
              "    <tr>\n",
              "      <th>3</th>\n",
              "      <td>[64]</td>\n",
              "      <td>[4]</td>\n",
              "      <td>sigmoid</td>\n",
              "      <td>[3]</td>\n",
              "      <td>1</td>\n",
              "      <td>1.831410e+06</td>\n",
              "      <td>1011.546227</td>\n",
              "      <td>1353.296040</td>\n",
              "    </tr>\n",
              "    <tr>\n",
              "      <th>4</th>\n",
              "      <td>[64]</td>\n",
              "      <td>[4]</td>\n",
              "      <td>tanh</td>\n",
              "      <td>[3]</td>\n",
              "      <td>1</td>\n",
              "      <td>9.118313e+05</td>\n",
              "      <td>687.398181</td>\n",
              "      <td>954.898598</td>\n",
              "    </tr>\n",
              "    <tr>\n",
              "      <th>5</th>\n",
              "      <td>[64, 32]</td>\n",
              "      <td>[4, 3]</td>\n",
              "      <td>relu</td>\n",
              "      <td>[2, 2]</td>\n",
              "      <td>2</td>\n",
              "      <td>7.108850e+05</td>\n",
              "      <td>595.637368</td>\n",
              "      <td>843.139974</td>\n",
              "    </tr>\n",
              "    <tr>\n",
              "      <th>6</th>\n",
              "      <td>[64, 32]</td>\n",
              "      <td>[4, 3]</td>\n",
              "      <td>elu</td>\n",
              "      <td>[2, 2]</td>\n",
              "      <td>2</td>\n",
              "      <td>7.443684e+05</td>\n",
              "      <td>611.666803</td>\n",
              "      <td>862.767878</td>\n",
              "    </tr>\n",
              "    <tr>\n",
              "      <th>7</th>\n",
              "      <td>[64, 32]</td>\n",
              "      <td>[4, 3]</td>\n",
              "      <td>exponential</td>\n",
              "      <td>[2, 2]</td>\n",
              "      <td>2</td>\n",
              "      <td>2.715130e+06</td>\n",
              "      <td>1366.327511</td>\n",
              "      <td>1647.765078</td>\n",
              "    </tr>\n",
              "    <tr>\n",
              "      <th>8</th>\n",
              "      <td>[64, 32]</td>\n",
              "      <td>[4, 3]</td>\n",
              "      <td>sigmoid</td>\n",
              "      <td>[2, 2]</td>\n",
              "      <td>2</td>\n",
              "      <td>1.217603e+06</td>\n",
              "      <td>838.561913</td>\n",
              "      <td>1103.450374</td>\n",
              "    </tr>\n",
              "    <tr>\n",
              "      <th>9</th>\n",
              "      <td>[64, 32]</td>\n",
              "      <td>[4, 3]</td>\n",
              "      <td>tanh</td>\n",
              "      <td>[2, 2]</td>\n",
              "      <td>2</td>\n",
              "      <td>7.610688e+05</td>\n",
              "      <td>620.610264</td>\n",
              "      <td>872.392544</td>\n",
              "    </tr>\n",
              "    <tr>\n",
              "      <th>10</th>\n",
              "      <td>[64, 32, 16]</td>\n",
              "      <td>[4, 3, 2]</td>\n",
              "      <td>relu</td>\n",
              "      <td>[2, 2, 1]</td>\n",
              "      <td>3</td>\n",
              "      <td>7.342890e+05</td>\n",
              "      <td>609.078284</td>\n",
              "      <td>856.906628</td>\n",
              "    </tr>\n",
              "    <tr>\n",
              "      <th>11</th>\n",
              "      <td>[64, 32, 16]</td>\n",
              "      <td>[4, 3, 2]</td>\n",
              "      <td>elu</td>\n",
              "      <td>[2, 2, 1]</td>\n",
              "      <td>3</td>\n",
              "      <td>7.349664e+05</td>\n",
              "      <td>605.910639</td>\n",
              "      <td>857.301789</td>\n",
              "    </tr>\n",
              "    <tr>\n",
              "      <th>12</th>\n",
              "      <td>[64, 32, 16]</td>\n",
              "      <td>[4, 3, 2]</td>\n",
              "      <td>exponential</td>\n",
              "      <td>[2, 2, 1]</td>\n",
              "      <td>3</td>\n",
              "      <td>3.019992e+06</td>\n",
              "      <td>1256.400376</td>\n",
              "      <td>1737.812543</td>\n",
              "    </tr>\n",
              "    <tr>\n",
              "      <th>13</th>\n",
              "      <td>[64, 32, 16]</td>\n",
              "      <td>[4, 3, 2]</td>\n",
              "      <td>sigmoid</td>\n",
              "      <td>[2, 2, 1]</td>\n",
              "      <td>3</td>\n",
              "      <td>1.253936e+06</td>\n",
              "      <td>825.013218</td>\n",
              "      <td>1119.792862</td>\n",
              "    </tr>\n",
              "    <tr>\n",
              "      <th>14</th>\n",
              "      <td>[64, 32, 16]</td>\n",
              "      <td>[4, 3, 2]</td>\n",
              "      <td>tanh</td>\n",
              "      <td>[2, 2, 1]</td>\n",
              "      <td>3</td>\n",
              "      <td>7.107856e+05</td>\n",
              "      <td>595.693284</td>\n",
              "      <td>843.081027</td>\n",
              "    </tr>\n",
              "  </tbody>\n",
              "</table>\n",
              "</div>\n",
              "      <button class=\"colab-df-convert\" onclick=\"convertToInteractive('df-2179aa63-d8eb-4f84-8ac0-2f7b681e5eb0')\"\n",
              "              title=\"Convert this dataframe to an interactive table.\"\n",
              "              style=\"display:none;\">\n",
              "        \n",
              "  <svg xmlns=\"http://www.w3.org/2000/svg\" height=\"24px\"viewBox=\"0 0 24 24\"\n",
              "       width=\"24px\">\n",
              "    <path d=\"M0 0h24v24H0V0z\" fill=\"none\"/>\n",
              "    <path d=\"M18.56 5.44l.94 2.06.94-2.06 2.06-.94-2.06-.94-.94-2.06-.94 2.06-2.06.94zm-11 1L8.5 8.5l.94-2.06 2.06-.94-2.06-.94L8.5 2.5l-.94 2.06-2.06.94zm10 10l.94 2.06.94-2.06 2.06-.94-2.06-.94-.94-2.06-.94 2.06-2.06.94z\"/><path d=\"M17.41 7.96l-1.37-1.37c-.4-.4-.92-.59-1.43-.59-.52 0-1.04.2-1.43.59L10.3 9.45l-7.72 7.72c-.78.78-.78 2.05 0 2.83L4 21.41c.39.39.9.59 1.41.59.51 0 1.02-.2 1.41-.59l7.78-7.78 2.81-2.81c.8-.78.8-2.07 0-2.86zM5.41 20L4 18.59l7.72-7.72 1.47 1.35L5.41 20z\"/>\n",
              "  </svg>\n",
              "      </button>\n",
              "      \n",
              "  <style>\n",
              "    .colab-df-container {\n",
              "      display:flex;\n",
              "      flex-wrap:wrap;\n",
              "      gap: 12px;\n",
              "    }\n",
              "\n",
              "    .colab-df-convert {\n",
              "      background-color: #E8F0FE;\n",
              "      border: none;\n",
              "      border-radius: 50%;\n",
              "      cursor: pointer;\n",
              "      display: none;\n",
              "      fill: #1967D2;\n",
              "      height: 32px;\n",
              "      padding: 0 0 0 0;\n",
              "      width: 32px;\n",
              "    }\n",
              "\n",
              "    .colab-df-convert:hover {\n",
              "      background-color: #E2EBFA;\n",
              "      box-shadow: 0px 1px 2px rgba(60, 64, 67, 0.3), 0px 1px 3px 1px rgba(60, 64, 67, 0.15);\n",
              "      fill: #174EA6;\n",
              "    }\n",
              "\n",
              "    [theme=dark] .colab-df-convert {\n",
              "      background-color: #3B4455;\n",
              "      fill: #D2E3FC;\n",
              "    }\n",
              "\n",
              "    [theme=dark] .colab-df-convert:hover {\n",
              "      background-color: #434B5C;\n",
              "      box-shadow: 0px 1px 3px 1px rgba(0, 0, 0, 0.15);\n",
              "      filter: drop-shadow(0px 1px 2px rgba(0, 0, 0, 0.3));\n",
              "      fill: #FFFFFF;\n",
              "    }\n",
              "  </style>\n",
              "\n",
              "      <script>\n",
              "        const buttonEl =\n",
              "          document.querySelector('#df-2179aa63-d8eb-4f84-8ac0-2f7b681e5eb0 button.colab-df-convert');\n",
              "        buttonEl.style.display =\n",
              "          google.colab.kernel.accessAllowed ? 'block' : 'none';\n",
              "\n",
              "        async function convertToInteractive(key) {\n",
              "          const element = document.querySelector('#df-2179aa63-d8eb-4f84-8ac0-2f7b681e5eb0');\n",
              "          const dataTable =\n",
              "            await google.colab.kernel.invokeFunction('convertToInteractive',\n",
              "                                                     [key], {});\n",
              "          if (!dataTable) return;\n",
              "\n",
              "          const docLinkHtml = 'Like what you see? Visit the ' +\n",
              "            '<a target=\"_blank\" href=https://colab.research.google.com/notebooks/data_table.ipynb>data table notebook</a>'\n",
              "            + ' to learn more about interactive tables.';\n",
              "          element.innerHTML = '';\n",
              "          dataTable['output_type'] = 'display_data';\n",
              "          await google.colab.output.renderOutput(dataTable, element);\n",
              "          const docLink = document.createElement('div');\n",
              "          docLink.innerHTML = docLinkHtml;\n",
              "          element.appendChild(docLink);\n",
              "        }\n",
              "      </script>\n",
              "    </div>\n",
              "  </div>\n",
              "  "
            ]
          },
          "metadata": {},
          "execution_count": 30
        }
      ]
    }
  ],
  "metadata": {
    "colab": {
      "collapsed_sections": [],
      "name": "model cnn to predict.ipynb",
      "provenance": [],
      "mount_file_id": "12XebvHEj4_er7M0hCunA_2eqD0WBQ2UI",
      "authorship_tag": "ABX9TyNlR8H6Vf/seNrU0rVFutwc",
      "include_colab_link": true
    },
    "kernelspec": {
      "display_name": "Python 3",
      "name": "python3"
    },
    "language_info": {
      "name": "python"
    },
    "gpuClass": "standard"
  },
  "nbformat": 4,
  "nbformat_minor": 0
}