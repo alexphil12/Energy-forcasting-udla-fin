{
  "cells": [
    {
      "cell_type": "markdown",
      "metadata": {
        "id": "view-in-github",
        "colab_type": "text"
      },
      "source": [
        "<a href=\"https://colab.research.google.com/github/alexphil12/Energy-forcasting-UDLA/blob/main/RNN_univariate_to_forecast.ipynb\" target=\"_parent\"><img src=\"https://colab.research.google.com/assets/colab-badge.svg\" alt=\"Open In Colab\"/></a>"
      ]
    },
    {
      "cell_type": "code",
      "execution_count": null,
      "metadata": {
        "id": "JQ9Vm1-SDQxU"
      },
      "outputs": [],
      "source": [
        "import pandas as pd\n",
        "import matplotlib.pyplot as plt\n",
        "import numpy as np\n",
        "from sklearn.metrics import mean_squared_error\n",
        "from sklearn.metrics import mean_absolute_error\n"
      ]
    },
    {
      "cell_type": "code",
      "execution_count": null,
      "metadata": {
        "id": "4hdH8-bFEAGI"
      },
      "outputs": [],
      "source": [
        "\n",
        "df = pd.read_csv('/content/df_cov_continu_1_1.txt', index_col=0, parse_dates=True,sep=',')\n",
        "N1=len(list(df.iloc[:,3]))\n",
        "df_train=df.iloc[0:round(N1*0.8),:]\n",
        "df_test=df.iloc[round(N1*0.8):N1,:]"
      ]
    },
    {
      "cell_type": "code",
      "execution_count": null,
      "metadata": {
        "id": "nIMUFWqPQShX"
      },
      "outputs": [],
      "source": [
        "mesure=[\"Fecha\",\"Hora\"];\n",
        "mesure.append(\"Voltaje_(R)_[V]\")\t\n",
        "mesure.append(\"Voltaje_(S)_[V]\")\t\n",
        "mesure.append(\"Voltaje_(T)_[V]\")\t\n",
        "mesure.append(\"Voltaje_(RS)_[V]\")\t\n",
        "mesure.append(\"Voltaje_(ST)_[V]\")\t\n",
        "mesure.append(\"Voltaje_(TR)_[V]\")\t\n",
        "mesure.append(\"Corriente_R_[A]\")\t\n",
        "mesure.append(\"Corriente_S_[A]\")\t\n",
        "mesure.append(\"Corriente_T_[A]\")\t\n",
        "mesure.append(\"Potencia_R_[VA]\")\t\n",
        "mesure.append(\"Potencia_S_[VA]\")\t\n",
        "mesure.append(\"Potencia_T_[VA]\")\t\n",
        "mesure.append(\"Potencia_R_[W]\")\t\n",
        "mesure.append(\"Potencia_S_[W]\")\t\n",
        "mesure.append(\"Potencia_T_[W]\")\t\n",
        "mesure.append(\"Potencia_R_[VAR]\")\t\n",
        "mesure.append(\"Potencia_S_[VAR]\")\t\n",
        "mesure.append(\"Potencia_T_[VAR]\")\t\n",
        "mesure.append(\"Corriente_N_[A]\")\t\n",
        "mesure.append(\"Frecuencia_[Hz]\")\t\n",
        "mesure.append(\"not_sure_1\")\t\n",
        "mesure.append(\"not_sure_2\")\t\n",
        "mesure.append(\"not_sure_3\")\t\n",
        "mesure.append(\"Potencia_3F_[KVA]\")\t\n",
        "mesure.append(\"Potencia_3F_[W]\")\t\n",
        "mesure.append(\"Potencia_3F_[VAR]\")\t\n",
        "mesure.append(\"Factor de Potencia\")"
      ]
    },
    {
      "cell_type": "code",
      "execution_count": null,
      "metadata": {
        "id": "igsbCj2IEAYj"
      },
      "outputs": [],
      "source": [
        "RSG_train = df_train[mesure[14]].values"
      ]
    },
    {
      "cell_type": "code",
      "execution_count": null,
      "metadata": {
        "id": "BgrUJFsaEAa1"
      },
      "outputs": [],
      "source": [
        "RSG_train = np.reshape(RSG_train,(-1,1))"
      ]
    },
    {
      "cell_type": "code",
      "execution_count": null,
      "metadata": {
        "id": "buII3bexmbBy"
      },
      "outputs": [],
      "source": [
        "RSG_test = df_test[mesure[14]].values"
      ]
    },
    {
      "cell_type": "code",
      "execution_count": null,
      "metadata": {
        "id": "bdALno_smbEq"
      },
      "outputs": [],
      "source": [
        "RSG_test=np.reshape(RSG_test,(-1,1))"
      ]
    },
    {
      "cell_type": "code",
      "execution_count": null,
      "metadata": {
        "id": "VP8kU7PYmbHk"
      },
      "outputs": [],
      "source": [
        "from sklearn.preprocessing import MinMaxScaler"
      ]
    },
    {
      "cell_type": "code",
      "execution_count": null,
      "metadata": {
        "id": "KkHgKZYambKP"
      },
      "outputs": [],
      "source": [
        "scaler = MinMaxScaler()"
      ]
    },
    {
      "cell_type": "code",
      "execution_count": null,
      "metadata": {
        "id": "lBXDWWc3mbMf",
        "colab": {
          "base_uri": "https://localhost:8080/"
        },
        "outputId": "377761ea-3d95-4285-a589-5e7d5b48f743"
      },
      "outputs": [
        {
          "output_type": "execute_result",
          "data": {
            "text/plain": [
              "MinMaxScaler()"
            ]
          },
          "metadata": {},
          "execution_count": 248
        }
      ],
      "source": [
        "scaler.fit(RSG_train)"
      ]
    },
    {
      "cell_type": "code",
      "execution_count": null,
      "metadata": {
        "id": "ZmQmSzkonsz7"
      },
      "outputs": [],
      "source": [
        "scaled_train = scaler.transform(RSG_train)\n",
        "scaled_test = scaler.transform(RSG_test)"
      ]
    },
    {
      "cell_type": "code",
      "execution_count": null,
      "metadata": {
        "id": "luPay5Tsns3Q"
      },
      "outputs": [],
      "source": [
        "from keras.preprocessing.sequence import TimeseriesGenerator"
      ]
    },
    {
      "cell_type": "code",
      "execution_count": null,
      "metadata": {
        "id": "G6--TYptns6L"
      },
      "outputs": [],
      "source": [
        "n_input = 20\n",
        "n_features = 0\n",
        "train_generator = TimeseriesGenerator(scaled_train, scaled_train, length=n_input, batch_size=100)\n",
        "test_generator=TimeseriesGenerator(scaled_test, scaled_test, length=n_input, batch_size=100)"
      ]
    },
    {
      "cell_type": "code",
      "execution_count": null,
      "metadata": {
        "id": "KpoJJc2cns8v"
      },
      "outputs": [],
      "source": [
        "X,y = train_generator[0]"
      ]
    },
    {
      "cell_type": "code",
      "execution_count": null,
      "metadata": {
        "id": "VF5SYBcXns-_",
        "colab": {
          "base_uri": "https://localhost:8080/"
        },
        "outputId": "54ee1350-2e0a-43d7-b1f2-a290abd6db58"
      },
      "outputs": [
        {
          "output_type": "stream",
          "name": "stdout",
          "text": [
            "Predicción: \n",
            " [[0.67706627]\n",
            " [0.68677852]\n",
            " [0.71158907]\n",
            " [0.71819423]\n",
            " [0.72875023]\n",
            " [0.71728826]\n",
            " [0.70490472]\n",
            " [0.75152897]\n",
            " [0.76300896]\n",
            " [0.70552638]\n",
            " [0.67246783]\n",
            " [0.71139447]\n",
            " [0.77183938]\n",
            " [0.6718298 ]\n",
            " [0.67149913]\n",
            " [0.72564544]\n",
            " [0.73228382]\n",
            " [0.67805992]\n",
            " [0.67224842]\n",
            " [0.72256594]\n",
            " [0.75053521]\n",
            " [0.75358412]\n",
            " [0.71235958]\n",
            " [0.70868207]\n",
            " [0.74795719]\n",
            " [0.76881384]\n",
            " [0.73239726]\n",
            " [0.68060735]\n",
            " [0.72971337]\n",
            " [0.77312241]\n",
            " [0.73581636]\n",
            " [0.68727855]\n",
            " [0.6939264 ]\n",
            " [0.69676157]\n",
            " [0.72921679]\n",
            " [0.70446023]\n",
            " [0.6605753 ]\n",
            " [0.65168959]\n",
            " [0.73501861]\n",
            " [0.74217564]\n",
            " [0.69949149]\n",
            " [0.6771935 ]\n",
            " [0.71481906]\n",
            " [0.7489231 ]\n",
            " [0.73566375]\n",
            " [0.71609942]\n",
            " [0.72116367]\n",
            " [0.74467247]\n",
            " [0.78192591]\n",
            " [0.76475461]\n",
            " [0.71147919]\n",
            " [0.71304336]\n",
            " [0.75608222]\n",
            " [0.75000907]\n",
            " [0.680493  ]\n",
            " [0.73394443]\n",
            " [0.75211118]\n",
            " [0.72905151]\n",
            " [0.70083115]\n",
            " [0.70386218]\n",
            " [0.73727857]\n",
            " [0.72527806]\n",
            " [0.73193391]\n",
            " [0.6995855 ]\n",
            " [0.73993754]\n",
            " [0.75298203]\n",
            " [0.66921623]\n",
            " [0.66061025]\n",
            " [0.73415448]\n",
            " [0.70619042]\n",
            " [0.65752112]\n",
            " [0.67133129]\n",
            " [0.70901457]\n",
            " [0.67863136]\n",
            " [0.66705682]\n",
            " [0.66371252]\n",
            " [0.70846945]\n",
            " [0.72717754]\n",
            " [0.68937784]\n",
            " [0.68806236]\n",
            " [0.74024385]\n",
            " [0.76027844]\n",
            " [0.69519116]\n",
            " [0.68543569]\n",
            " [0.72725227]\n",
            " [0.74543509]\n",
            " [0.69641545]\n",
            " [0.69286961]\n",
            " [0.70549815]\n",
            " [0.72669677]\n",
            " [0.66457003]\n",
            " [0.6502442 ]\n",
            " [0.67282285]\n",
            " [0.65799767]\n",
            " [0.48885118]\n",
            " [0.47623443]\n",
            " [0.52355116]\n",
            " [0.56034173]\n",
            " [0.51074974]\n",
            " [0.49946237]]\n"
          ]
        }
      ],
      "source": [
        "\n",
        "print(f'Predicción: \\n {y}')"
      ]
    },
    {
      "cell_type": "code",
      "execution_count": null,
      "metadata": {
        "id": "vDUGp1eRpbMi"
      },
      "outputs": [],
      "source": [
        "from tensorflow import keras\n",
        "from keras.models import Sequential\n",
        "from keras.layers import Dense\n",
        "from keras.layers import GRU\n",
        "from keras.layers import Dropout"
      ]
    },
    {
      "cell_type": "code",
      "execution_count": null,
      "metadata": {
        "id": "H9NaX40EpbOz"
      },
      "outputs": [],
      "source": [
        "from keras.layers.recurrent_v2 import LSTM\n",
        "# define model\n",
        "model = Sequential()\n",
        "model.add(GRU(100, input_shape=(n_input,n_features+1),activation='relu',return_sequences=False))\n",
        "model.add(Dense(1, activation = \"linear\"))\n",
        "\n",
        "model.compile(loss='mse', optimizer='adam')"
      ]
    },
    {
      "cell_type": "code",
      "execution_count": null,
      "metadata": {
        "id": "oGPzja6xpbRC",
        "colab": {
          "base_uri": "https://localhost:8080/"
        },
        "outputId": "f71d9ffb-aae3-47a6-aed4-724707c35a29"
      },
      "outputs": [
        {
          "output_type": "stream",
          "name": "stdout",
          "text": [
            "Model: \"sequential_10\"\n",
            "_________________________________________________________________\n",
            " Layer (type)                Output Shape              Param #   \n",
            "=================================================================\n",
            " gru_6 (GRU)                 (None, 100)               30900     \n",
            "                                                                 \n",
            " dense_10 (Dense)            (None, 1)                 101       \n",
            "                                                                 \n",
            "=================================================================\n",
            "Total params: 31,001\n",
            "Trainable params: 31,001\n",
            "Non-trainable params: 0\n",
            "_________________________________________________________________\n"
          ]
        }
      ],
      "source": [
        "model.summary()"
      ]
    },
    {
      "cell_type": "code",
      "execution_count": null,
      "metadata": {
        "id": "Re_hRdqQpbTY",
        "colab": {
          "base_uri": "https://localhost:8080/"
        },
        "outputId": "f2c71386-58b3-481c-e5d5-df0bfebea7d4"
      },
      "outputs": [
        {
          "output_type": "stream",
          "name": "stdout",
          "text": [
            "Epoch 1/50\n"
          ]
        },
        {
          "output_type": "stream",
          "name": "stderr",
          "text": [
            "/usr/local/lib/python3.7/dist-packages/ipykernel_launcher.py:1: UserWarning: `Model.fit_generator` is deprecated and will be removed in a future version. Please use `Model.fit`, which supports generators.\n",
            "  \"\"\"Entry point for launching an IPython kernel.\n"
          ]
        },
        {
          "output_type": "stream",
          "name": "stdout",
          "text": [
            "82/82 [==============================] - 4s 35ms/step - loss: 0.0277 - val_loss: 0.0037\n",
            "Epoch 2/50\n",
            "82/82 [==============================] - 3s 33ms/step - loss: 0.0022 - val_loss: 0.0015\n",
            "Epoch 3/50\n",
            "82/82 [==============================] - 3s 33ms/step - loss: 0.0016 - val_loss: 0.0015\n",
            "Epoch 4/50\n",
            "82/82 [==============================] - 3s 33ms/step - loss: 0.0016 - val_loss: 0.0014\n",
            "Epoch 5/50\n",
            "82/82 [==============================] - 3s 33ms/step - loss: 0.0016 - val_loss: 0.0014\n",
            "Epoch 6/50\n",
            "82/82 [==============================] - 3s 33ms/step - loss: 0.0016 - val_loss: 0.0014\n",
            "Epoch 7/50\n",
            "82/82 [==============================] - 3s 33ms/step - loss: 0.0016 - val_loss: 0.0014\n",
            "Epoch 8/50\n",
            "82/82 [==============================] - 3s 33ms/step - loss: 0.0016 - val_loss: 0.0015\n",
            "Epoch 9/50\n",
            "82/82 [==============================] - 3s 33ms/step - loss: 0.0016 - val_loss: 0.0014\n",
            "Epoch 10/50\n",
            "82/82 [==============================] - 3s 33ms/step - loss: 0.0016 - val_loss: 0.0014\n",
            "Epoch 11/50\n",
            "82/82 [==============================] - 3s 33ms/step - loss: 0.0016 - val_loss: 0.0013\n",
            "Epoch 12/50\n",
            "82/82 [==============================] - 3s 32ms/step - loss: 0.0015 - val_loss: 0.0013\n",
            "Epoch 13/50\n",
            "82/82 [==============================] - 3s 33ms/step - loss: 0.0015 - val_loss: 0.0012\n",
            "Epoch 14/50\n",
            "82/82 [==============================] - 3s 33ms/step - loss: 0.0014 - val_loss: 0.0013\n",
            "Epoch 15/50\n",
            "82/82 [==============================] - 3s 33ms/step - loss: 0.0014 - val_loss: 0.0011\n",
            "Epoch 16/50\n",
            "82/82 [==============================] - 3s 33ms/step - loss: 0.0013 - val_loss: 0.0010\n",
            "Epoch 17/50\n",
            "82/82 [==============================] - 3s 34ms/step - loss: 0.0012 - val_loss: 0.0010\n",
            "Epoch 18/50\n",
            "82/82 [==============================] - 3s 33ms/step - loss: 0.0012 - val_loss: 9.7698e-04\n",
            "Epoch 19/50\n",
            "82/82 [==============================] - 3s 33ms/step - loss: 0.0012 - val_loss: 9.4592e-04\n",
            "Epoch 20/50\n",
            "82/82 [==============================] - 3s 34ms/step - loss: 0.0011 - val_loss: 9.5546e-04\n",
            "Epoch 21/50\n",
            "82/82 [==============================] - 3s 34ms/step - loss: 0.0011 - val_loss: 9.4139e-04\n",
            "Epoch 22/50\n",
            "82/82 [==============================] - 3s 33ms/step - loss: 0.0012 - val_loss: 9.3656e-04\n",
            "Epoch 23/50\n",
            "82/82 [==============================] - 3s 33ms/step - loss: 0.0012 - val_loss: 9.7447e-04\n",
            "Epoch 24/50\n",
            "82/82 [==============================] - 3s 34ms/step - loss: 0.0012 - val_loss: 0.0010\n",
            "Epoch 25/50\n",
            "82/82 [==============================] - 3s 33ms/step - loss: 0.0012 - val_loss: 9.8012e-04\n",
            "Epoch 26/50\n",
            "82/82 [==============================] - 3s 33ms/step - loss: 0.0011 - val_loss: 9.9494e-04\n",
            "Epoch 27/50\n",
            "82/82 [==============================] - 3s 33ms/step - loss: 0.0012 - val_loss: 9.1183e-04\n",
            "Epoch 28/50\n",
            "82/82 [==============================] - 3s 33ms/step - loss: 0.0011 - val_loss: 9.5127e-04\n",
            "Epoch 29/50\n",
            "82/82 [==============================] - 3s 33ms/step - loss: 0.0011 - val_loss: 9.3611e-04\n",
            "Epoch 30/50\n",
            "82/82 [==============================] - 3s 33ms/step - loss: 0.0012 - val_loss: 0.0012\n",
            "Epoch 31/50\n",
            "82/82 [==============================] - 3s 33ms/step - loss: 0.0011 - val_loss: 9.2087e-04\n",
            "Epoch 32/50\n",
            "82/82 [==============================] - 3s 33ms/step - loss: 0.0012 - val_loss: 9.1369e-04\n",
            "Epoch 33/50\n",
            "82/82 [==============================] - 3s 33ms/step - loss: 0.0011 - val_loss: 9.2016e-04\n",
            "Epoch 34/50\n",
            "82/82 [==============================] - 3s 33ms/step - loss: 0.0011 - val_loss: 9.6663e-04\n",
            "Epoch 35/50\n",
            "82/82 [==============================] - 3s 33ms/step - loss: 0.0011 - val_loss: 9.0751e-04\n",
            "Epoch 36/50\n",
            "82/82 [==============================] - 3s 34ms/step - loss: 0.0011 - val_loss: 9.7345e-04\n",
            "Epoch 37/50\n",
            "82/82 [==============================] - 3s 34ms/step - loss: 0.0011 - val_loss: 9.3945e-04\n",
            "Epoch 38/50\n",
            "82/82 [==============================] - 3s 33ms/step - loss: 0.0011 - val_loss: 9.4322e-04\n",
            "Epoch 39/50\n",
            "82/82 [==============================] - 3s 33ms/step - loss: 0.0011 - val_loss: 9.0521e-04\n",
            "Epoch 40/50\n",
            "82/82 [==============================] - 3s 33ms/step - loss: 0.0011 - val_loss: 0.0011\n",
            "Epoch 41/50\n",
            "82/82 [==============================] - 3s 34ms/step - loss: 0.0011 - val_loss: 9.8437e-04\n",
            "Epoch 42/50\n",
            "82/82 [==============================] - 3s 33ms/step - loss: 0.0011 - val_loss: 9.0302e-04\n",
            "Epoch 43/50\n",
            "82/82 [==============================] - 3s 33ms/step - loss: 0.0012 - val_loss: 0.0011\n",
            "Epoch 44/50\n",
            "82/82 [==============================] - 3s 33ms/step - loss: 0.0011 - val_loss: 0.0011\n",
            "Epoch 45/50\n",
            "82/82 [==============================] - 3s 33ms/step - loss: 0.0011 - val_loss: 9.0682e-04\n",
            "Epoch 46/50\n",
            "82/82 [==============================] - 3s 34ms/step - loss: 0.0011 - val_loss: 9.2561e-04\n",
            "Epoch 47/50\n",
            "82/82 [==============================] - 3s 34ms/step - loss: 0.0011 - val_loss: 8.9794e-04\n",
            "Epoch 48/50\n",
            "82/82 [==============================] - 4s 50ms/step - loss: 0.0011 - val_loss: 9.4341e-04\n",
            "Epoch 49/50\n",
            "82/82 [==============================] - 3s 33ms/step - loss: 0.0011 - val_loss: 9.4654e-04\n",
            "Epoch 50/50\n",
            "82/82 [==============================] - 3s 33ms/step - loss: 0.0011 - val_loss: 8.9447e-04\n"
          ]
        },
        {
          "output_type": "execute_result",
          "data": {
            "text/plain": [
              "<keras.callbacks.History at 0x7f8adbe74ed0>"
            ]
          },
          "metadata": {},
          "execution_count": 257
        }
      ],
      "source": [
        "model.fit_generator(train_generator, epochs=50,validation_data=test_generator)"
      ]
    },
    {
      "cell_type": "code",
      "execution_count": null,
      "metadata": {
        "id": "-vVYmc49pbWB",
        "colab": {
          "base_uri": "https://localhost:8080/",
          "height": 282
        },
        "outputId": "af43c95b-3bae-452d-d5fa-bf4eadfd2252"
      },
      "outputs": [
        {
          "output_type": "execute_result",
          "data": {
            "text/plain": [
              "<matplotlib.legend.Legend at 0x7f8ae0f31cd0>"
            ]
          },
          "metadata": {},
          "execution_count": 258
        },
        {
          "output_type": "display_data",
          "data": {
            "text/plain": [
              "<Figure size 432x288 with 1 Axes>"
            ],
            "image/png": "[encoded data removed]"
          },
          "metadata": {
            "needs_background": "light"
          }
        }
      ],
      "source": [
        "loss_per_epoch = model.history.history['loss']\n",
        "loss_vall=model.history.history['val_loss']\n",
        "plt.plot(range(len(loss_per_epoch)),loss_per_epoch,label=\"test-loss\")\n",
        "plt.plot(range(len(loss_vall)),loss_vall,label=\"validation-loss\")\n",
        "plt.legend()\n"
      ]
    },
    {
      "cell_type": "code",
      "execution_count": null,
      "metadata": {
        "id": "LJZKyn9zpbYT"
      },
      "outputs": [],
      "source": [
        "test_predictions = []\n",
        "Q=0\n",
        "N=1000\n",
        "first_eval_batch = scaled_train[Q:Q+n_input]\n",
        "current_batch = first_eval_batch.reshape((1, n_input, n_features+1))\n",
        "for i in range(N):\n",
        "    \n",
        "    # obtener la predicción ([0] es para obtener solo el número en lugar de [matriz])\n",
        "    current_pred = model.predict(current_batch)[0]\n",
        "    \n",
        "    # guardar la predicción\n",
        "    test_predictions.append(current_pred) \n",
        "    \n",
        "    # actualizar el lote para incluir ahora la predicción y soltar primer valor\n",
        "    current_batch = np.append(current_batch[:,1:,:],[[current_pred]],axis=1)"
      ]
    },
    {
      "cell_type": "code",
      "execution_count": null,
      "metadata": {
        "id": "a1eYCkuGpbag"
      },
      "outputs": [],
      "source": [
        "true_predictions = scaler.inverse_transform(test_predictions)"
      ]
    },
    {
      "cell_type": "code",
      "execution_count": null,
      "metadata": {
        "id": "FVc6MlNV1Qa9"
      },
      "outputs": [],
      "source": [
        "L_true=  list(df_train[mesure[14]][n_input+1+Q:n_input+1+Q+N])"
      ]
    },
    {
      "cell_type": "code",
      "execution_count": null,
      "metadata": {
        "id": "WcAXmiaC1Qdl"
      },
      "outputs": [],
      "source": [
        "L_prediction= list(true_predictions)"
      ]
    },
    {
      "cell_type": "code",
      "execution_count": null,
      "metadata": {
        "id": "RixnGed0T_hN",
        "colab": {
          "base_uri": "https://localhost:8080/"
        },
        "outputId": "78f48e75-dfd6-46ca-bf47-3e0e6cdd405d"
      },
      "outputs": [
        {
          "output_type": "stream",
          "name": "stderr",
          "text": [
            "/usr/local/lib/python3.7/dist-packages/ipykernel_launcher.py:1: UserWarning: `Model.evaluate_generator` is deprecated and will be removed in a future version. Please use `Model.evaluate`, which supports generators.\n",
            "  \"\"\"Entry point for launching an IPython kernel.\n",
            "/usr/local/lib/python3.7/dist-packages/ipykernel_launcher.py:2: UserWarning: `Model.predict_generator` is deprecated and will be removed in a future version. Please use `Model.predict`, which supports generators.\n",
            "  \n",
            "/usr/local/lib/python3.7/dist-packages/ipykernel_launcher.py:3: UserWarning: `Model.predict_generator` is deprecated and will be removed in a future version. Please use `Model.predict`, which supports generators.\n",
            "  This is separate from the ipykernel package so we can avoid doing imports until\n"
          ]
        }
      ],
      "source": [
        "model.evaluate_generator(test_generator)\n",
        "trainPredict = model.predict_generator(train_generator)\n",
        "testPredict = model.predict_generator(test_generator)\n",
        "true_pre=scaler.inverse_transform(trainPredict)\n",
        "true_pre_test=scaler.inverse_transform(testPredict)"
      ]
    },
    {
      "cell_type": "code",
      "execution_count": null,
      "metadata": {
        "id": "JTTREm-a1QgL",
        "colab": {
          "base_uri": "https://localhost:8080/",
          "height": 294
        },
        "outputId": "8882d1cf-cd26-4390-e763-ddd0eaedae33"
      },
      "outputs": [
        {
          "output_type": "display_data",
          "data": {
            "text/plain": [
              "<Figure size 432x288 with 1 Axes>"
            ],
            "image/png": "[encoded data removed]"
          },
          "metadata": {
            "needs_background": "light"
          }
        }
      ],
      "source": [
        "plt.suptitle('Time-Series Prediction')\n",
        "plt.plot(range(len(L_true)),true_pre[Q:Q+N],label='Prediction global',c=\"green\")\n",
        "plt.plot(range(len(L_true)),L_prediction,label='Prediction reiterate',c=\"blue\")\n",
        "plt.plot(range(len(L_true)),L_true,label='True value',c=\"red\")\n",
        "plt.legend()\n",
        "plt.show()"
      ]
    },
    {
      "cell_type": "code",
      "source": [
        "Resul_rmse=np.sqrt(mean_squared_error(true_pre_test,RSG_test[n_input:]))\n",
        "print(Resul_rmse)"
      ],
      "metadata": {
        "colab": {
          "base_uri": "https://localhost:8080/"
        },
        "id": "t2vE8u2ckEFm",
        "outputId": "971a575f-9abe-4635-b391-25ac5e47a404"
      },
      "execution_count": null,
      "outputs": [
        {
          "output_type": "stream",
          "name": "stdout",
          "text": [
            "849.7503636391003\n"
          ]
        }
      ]
    }
  ],
  "metadata": {
    "colab": {
      "collapsed_sections": [],
      "name": "RNN univariate to forecast",
      "provenance": [],
      "authorship_tag": "ABX9TyNb4mlVGQ4avmOfuHe7+6+E",
      "include_colab_link": true
    },
    "kernelspec": {
      "display_name": "Python 3",
      "name": "python3"
    },
    "language_info": {
      "name": "python"
    }
  },
  "nbformat": 4,
  "nbformat_minor": 0
}