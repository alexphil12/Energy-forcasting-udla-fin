{
  "cells": [
    {
      "cell_type": "markdown",
      "metadata": {
        "id": "view-in-github",
        "colab_type": "text"
      },
      "source": [
        "<a href=\"https://colab.research.google.com/github/alexphil12/Energy-forcasting-UDLA/blob/main/Copie_de_Cnn_2D.ipynb\" target=\"_parent\"><img src=\"https://colab.research.google.com/assets/colab-badge.svg\" alt=\"Open In Colab\"/></a>"
      ]
    },
    {
      "cell_type": "code",
      "execution_count": null,
      "metadata": {
        "id": "luj-JYGWxe5i"
      },
      "outputs": [],
      "source": [
        "import pandas as pd\n",
        "import matplotlib.pyplot as plt\n",
        "import numpy as np\n",
        "from sklearn.metrics import mean_squared_error\n",
        "from sklearn.metrics import mean_absolute_error\n",
        "from scipy import signal\n",
        "from scipy.fft import fftshift\n",
        "import matplotlib.pyplot as plt\n",
        "import numpy as np\n",
        "rng = np.random.default_rng()\n",
        "import tensorflow as tf\n",
        "import copy as cp"
      ]
    },
    {
      "cell_type": "code",
      "execution_count": null,
      "metadata": {
        "id": "yaVbCBd2yDid"
      },
      "outputs": [],
      "source": [
        "from tensorflow import keras\n",
        "from keras.models import Sequential\n",
        "from keras.layers import Dense\n",
        "from keras.layers import Flatten\n",
        "from keras.layers import Conv2D\n",
        "from keras.layers import MaxPooling2D\n",
        "import tensorflow as tf\n",
        "from tensorflow.keras import datasets, layers, models\n",
        "import matplotlib.pyplot as plt\n",
        "import numpy as np\n",
        "from sklearn.preprocessing import MinMaxScaler\n",
        "import random as rd"
      ]
    },
    {
      "cell_type": "code",
      "source": [
        "from sklearn.preprocessing import MinMaxScaler"
      ],
      "metadata": {
        "id": "_f-GQ3neo4rM"
      },
      "execution_count": null,
      "outputs": []
    },
    {
      "cell_type": "code",
      "execution_count": null,
      "metadata": {
        "id": "CbOrO0fkxhWU"
      },
      "outputs": [],
      "source": [
        "df = pd.read_csv('/content/df_cov_continu_1_8.txt', index_col=0, parse_dates=True,sep=',')\n",
        "N=len(list(df.iloc[:,3]))\n",
        "df_train=df.iloc[0:round(N*0.8),:]\n",
        "df_test=df.iloc[round(N*0.8):N,:]"
      ]
    },
    {
      "cell_type": "code",
      "execution_count": null,
      "metadata": {
        "id": "gKcNEgYHIiBc"
      },
      "outputs": [],
      "source": [
        "scaler = MinMaxScaler()"
      ]
    },
    {
      "cell_type": "code",
      "execution_count": null,
      "metadata": {
        "id": "OHd_u-SSxhUB"
      },
      "outputs": [],
      "source": [
        "mesure=[\"Fecha\",\"Hora\"];\n",
        "mesure.append(\"Voltaje_(R)_[V]\")\t\n",
        "mesure.append(\"Voltaje_(S)_[V]\")\t\n",
        "mesure.append(\"Voltaje_(T)_[V]\")\t\n",
        "mesure.append(\"Voltaje_(RS)_[V]\")\t\n",
        "mesure.append(\"Voltaje_(ST)_[V]\")\t\n",
        "mesure.append(\"Voltaje_(TR)_[V]\")\t\n",
        "mesure.append(\"Corriente_R_[A]\")\t\n",
        "mesure.append(\"Corriente_S_[A]\")\t\n",
        "mesure.append(\"Corriente_T_[A]\")\t\n",
        "mesure.append(\"Potencia_R_[VA]\")\t\n",
        "mesure.append(\"Potencia_S_[VA]\")\t\n",
        "mesure.append(\"Potencia_T_[VA]\")\t\n",
        "mesure.append(\"Potencia_R_[W]\")\t\n",
        "mesure.append(\"Potencia_S_[W]\")\t\n",
        "mesure.append(\"Potencia_T_[W]\")\t\n",
        "mesure.append(\"Potencia_R_[VAR]\")\t\n",
        "mesure.append(\"Potencia_S_[VAR]\")\t\n",
        "mesure.append(\"Potencia_T_[VAR]\")\t\n",
        "mesure.append(\"Corriente_N_[A]\")\t\n",
        "mesure.append(\"Frecuencia_[Hz]\")\t\n",
        "mesure.append(\"not_sure_1\")\t\n",
        "mesure.append(\"not_sure_2\")\t\n",
        "mesure.append(\"not_sure_3\")\t\n",
        "mesure.append(\"Potencia_3F_[KVA]\")\t\n",
        "mesure.append(\"Potencia_3F_[W]\")\t\n",
        "mesure.append(\"Potencia_3F_[VAR]\")\t\n",
        "mesure.append(\"Factor de Potencia\")"
      ]
    },
    {
      "cell_type": "code",
      "execution_count": null,
      "metadata": {
        "id": "dQpslFxCxhRq"
      },
      "outputs": [],
      "source": [
        "RSG_train = df_train[mesure[10]].values\n",
        "RSG_test=df_test[mesure[10]].values\n",
        "window_len=2500\n",
        "long=len(RSG_train)\n",
        "long_test=len(RSG_test)\n",
        "Q=long-window_len\n",
        "Q_test=long_test-window_len\n",
        "Spectro=np.zeros((1000,11,Q-1))\n",
        "Spectro_test=np.zeros((1000,11,Q_test-1))\n",
        "Y=[]\n",
        "Y_test=[]"
      ]
    },
    {
      "cell_type": "code",
      "execution_count": null,
      "metadata": {
        "id": "EkxpB2bgxhPc"
      },
      "outputs": [],
      "source": [
        "\n",
        "Q=long-window_len\n",
        "scalers=[]\n",
        "for j in range(Q-1):\n",
        "  f, t, Sxx = signal.spectrogram(RSG_train[0+j:window_len+j], fs=1/120,nfft=2**13)\n",
        "  inter=20*np.log10(cp.deepcopy(Sxx[0:1000,:]))\n",
        "  Spectro[:,:,j]=inter\n",
        "  Y.append(RSG_train[window_len+j])\n",
        "  #plt.pcolormesh(t, f[0:1000], Spectro[:,:,j],cmap='jet')\n",
        "  #plt.ylabel('Frequency [Hz]')\n",
        "  #plt.xlabel('Time [sec]')\n",
        "  #plt.show()\n",
        "for j in range(Q_test-1):\n",
        "  f, t, Sxx = signal.spectrogram(RSG_test[0+j:window_len+j], fs=1/120,nfft=2**13)\n",
        "  inter=20*np.log10(cp.deepcopy(Sxx[0:1000,:]))\n",
        "  Spectro_test[:,:,j]=inter\n",
        "  Y_test.append(RSG_test[window_len+j])\n",
        "min=np.min(Spectro)\n",
        "max=np.max(Spectro)\n",
        "Spec_scaled=(-1/(min-max))*(Spectro-max)+1\n",
        "min1=np.min(Spectro_test)\n",
        "max1=np.max(Spectro_test)\n",
        "Spec_test_scaled=(-1/(min1-max1))*(Spectro_test-max1)+1\n",
        "Y = np.array(Y)\n",
        "Y_test=np.array(Y_test)\n",
        "scaler=MinMaxScaler()\n",
        "scaler.fit(Y.reshape(-1,1))  \n",
        "Y_scaled=scaler.transform(Y.reshape(-1,1))\n",
        "Y_test_scaled=scaler.transform(Y_test.reshape(-1,1))\n",
        "  \n",
        "  "
      ]
    },
    {
      "cell_type": "code",
      "source": [
        "def autocorr_matrix(x,order):\n",
        "    R = np.zeros((order, order))\n",
        "    for i in range(0,order):\n",
        "        for j in range(0,order):\n",
        "            R[i,j] = autocorrelate(x, abs(i-j))\n",
        "    return R\n",
        "def autocorrelate(x,lag):\n",
        "    return np.correlate(x[0:len(x)-lag],x[lag:len(x)])"
      ],
      "metadata": {
        "id": "dKvdNrmrku1N"
      },
      "execution_count": null,
      "outputs": []
    },
    {
      "cell_type": "code",
      "source": [
        "taille=30\n",
        "longueur=len(RSG_train)\n",
        "longueur_test=len(RSG_test)"
      ],
      "metadata": {
        "id": "U8vz-bi9gB9H"
      },
      "execution_count": null,
      "outputs": []
    },
    {
      "cell_type": "code",
      "source": [
        "autocor=np.zeros((taille,taille,longueur-taille))\n",
        "autocor_test=np.zeros((taille,taille,longueur_test-taille))"
      ],
      "metadata": {
        "id": "_guWhC-Rlbkj"
      },
      "execution_count": null,
      "outputs": []
    },
    {
      "cell_type": "code",
      "source": [
        "y_auto=[]\n",
        "y_auto_test=[]\n",
        "for j in range(longueur-taille):\n",
        "  sig=RSG_train[j:j+taille]\n",
        "  Auto_inter=autocorr_matrix(sig,taille)\n",
        "  autocor[:,:,j]=Auto_inter\n",
        "  y_auto.append(RSG_train[(j+taille)])\n",
        "for j in range(longueur_test-taille):\n",
        "  sig=RSG_test[j:j+taille]\n",
        "  Auto_inter=autocorr_matrix(sig,taille)\n",
        "  autocor_test[:,:,j]=Auto_inter\n",
        "  y_auto_test.append(RSG_train[(j+taille)])\n",
        "y_auto=np.array(y_auto)\n",
        "y_auto_test=np.array(y_auto_test)\n",
        "scaler2=MinMaxScaler()\n",
        "scaler2_test=MinMaxScaler()\n",
        "scaler2.fit(y_auto.reshape(-1,1))\n",
        "scaler2_test.fit(y_auto_test.reshape(-1,1))\n",
        "y_auto_scaled=scaler2.transform(y_auto.reshape(-1,1))\n",
        "y_auto_test_scaled=scaler2_test.transform(y_auto_test.reshape(-1,1))\n",
        "min_a=np.amin(autocor)\n",
        "max_a=np.amax(autocor)\n",
        "autocor_scaled=(-1/(min_a-max_a))*(autocor-max_a)+1\n",
        "min_a_test=np.amin(autocor_test)\n",
        "max_a_test=np.amax(autocor_test)\n",
        "autocor_test_scaled=(-1/(min_a_test-max_a_test))*(autocor_test-max_a_test)+1"
      ],
      "metadata": {
        "id": "IJZUv3NWluaT"
      },
      "execution_count": null,
      "outputs": []
    },
    {
      "cell_type": "code",
      "source": [
        ""
      ],
      "metadata": {
        "id": "MMCc7gNhrNiK"
      },
      "execution_count": null,
      "outputs": []
    },
    {
      "cell_type": "code",
      "execution_count": null,
      "metadata": {
        "id": "TsGT4oo9xhNI"
      },
      "outputs": [],
      "source": [
        "from sklearn.preprocessing import MinMaxScaler"
      ]
    },
    {
      "cell_type": "code",
      "execution_count": null,
      "metadata": {
        "id": "wD3LLUoNIpvX"
      },
      "outputs": [],
      "source": [
        ""
      ]
    },
    {
      "cell_type": "code",
      "execution_count": null,
      "metadata": {
        "colab": {
          "base_uri": "https://localhost:8080/"
        },
        "id": "MRp0qdWvx82G",
        "outputId": "3a40d15c-a7b3-4abd-e0b0-bbbeb35e1721"
      },
      "outputs": [
        {
          "output_type": "stream",
          "name": "stdout",
          "text": [
            "(9387, 1000, 11, 1)\n"
          ]
        }
      ],
      "source": [
        "Spec_scaled = np.array(Spec_scaled).reshape(Q-1,1000,11,1)\n",
        "Spec_test_scaled=np.array(Spec_test_scaled).reshape(Q_test-1,1000,11,1)\n",
        "print(Spec_scaled.shape)"
      ]
    },
    {
      "cell_type": "code",
      "execution_count": null,
      "metadata": {
        "id": "pVlV3JP8xhKk"
      },
      "outputs": [],
      "source": [
        "cnn = models.Sequential([\n",
        "    layers.Conv2D(filters=32, kernel_size=(3, 3), activation='relu', input_shape=(taille,taille, 1)),\n",
        "    layers.MaxPooling2D((2, 2)),\n",
        "    \n",
        "    layers.Flatten(),\n",
        "    layers.Dense(64, activation='relu'),\n",
        "    layers.Dense(1, activation='linear')\n",
        "])"
      ]
    },
    {
      "cell_type": "code",
      "execution_count": null,
      "metadata": {
        "id": "TqEmVkRHxhIO"
      },
      "outputs": [],
      "source": [
        "N=100\n",
        "#plt.figure(figsize=(7,5))\n",
        "#plt.pcolormesh(Spectro[0,:,:],cmap='jet')\n",
        "#plt.colorbar"
      ]
    },
    {
      "cell_type": "code",
      "execution_count": null,
      "metadata": {
        "colab": {
          "base_uri": "https://localhost:8080/"
        },
        "id": "cNZYF4jWyNCJ",
        "outputId": "98db6275-4acd-4967-aa73-173eb51152c1"
      },
      "outputs": [
        {
          "output_type": "stream",
          "name": "stdout",
          "text": [
            "Epoch 1/20\n",
            "119/119 [==============================] - 8s 61ms/step - loss: 0.0558 - val_loss: 0.0410\n",
            "Epoch 2/20\n",
            "119/119 [==============================] - 6s 48ms/step - loss: 0.0376 - val_loss: 0.0350\n",
            "Epoch 3/20\n",
            "119/119 [==============================] - 6s 48ms/step - loss: 0.0378 - val_loss: 0.0398\n",
            "Epoch 4/20\n",
            "119/119 [==============================] - 6s 48ms/step - loss: 0.0376 - val_loss: 0.0358\n",
            "Epoch 5/20\n",
            "119/119 [==============================] - 6s 48ms/step - loss: 0.0377 - val_loss: 0.0377\n",
            "Epoch 6/20\n",
            "119/119 [==============================] - 6s 47ms/step - loss: 0.0370 - val_loss: 0.0367\n",
            "Epoch 7/20\n",
            "119/119 [==============================] - 6s 47ms/step - loss: 0.0372 - val_loss: 0.0356\n",
            "Epoch 8/20\n",
            "119/119 [==============================] - 6s 47ms/step - loss: 0.0369 - val_loss: 0.0350\n",
            "Epoch 9/20\n",
            "119/119 [==============================] - 7s 57ms/step - loss: 0.0368 - val_loss: 0.0362\n",
            "Epoch 10/20\n",
            "119/119 [==============================] - 6s 48ms/step - loss: 0.0369 - val_loss: 0.0364\n",
            "Epoch 11/20\n",
            "119/119 [==============================] - 6s 46ms/step - loss: 0.0369 - val_loss: 0.0362\n",
            "Epoch 12/20\n",
            "119/119 [==============================] - 6s 47ms/step - loss: 0.0368 - val_loss: 0.0356\n",
            "Epoch 13/20\n",
            "119/119 [==============================] - 6s 47ms/step - loss: 0.0368 - val_loss: 0.0375\n",
            "Epoch 14/20\n",
            "119/119 [==============================] - 6s 47ms/step - loss: 0.0369 - val_loss: 0.0368\n",
            "Epoch 15/20\n",
            "119/119 [==============================] - 6s 47ms/step - loss: 0.0370 - val_loss: 0.0357\n",
            "Epoch 16/20\n",
            "119/119 [==============================] - 6s 47ms/step - loss: 0.0367 - val_loss: 0.0373\n",
            "Epoch 17/20\n",
            "119/119 [==============================] - 6s 46ms/step - loss: 0.0370 - val_loss: 0.0352\n",
            "Epoch 18/20\n",
            "119/119 [==============================] - 6s 47ms/step - loss: 0.0366 - val_loss: 0.0373\n",
            "Epoch 19/20\n",
            "119/119 [==============================] - 6s 46ms/step - loss: 0.0367 - val_loss: 0.0366\n",
            "Epoch 20/20\n",
            "119/119 [==============================] - 5s 46ms/step - loss: 0.0365 - val_loss: 0.0367\n"
          ]
        },
        {
          "output_type": "execute_result",
          "data": {
            "text/plain": [
              "<keras.callbacks.History at 0x7fa3c094c9d0>"
            ]
          },
          "metadata": {},
          "execution_count": 17
        }
      ],
      "source": [
        "autocor_scaled=autocor_scaled.reshape(11858,30,30)\n",
        "autocor_test_scaled=autocor_test_scaled.reshape(2942,30,30)\n",
        "cnn.compile(optimizer='adam',\n",
        "              loss='mse')\n",
        "cnn.fit(autocor_scaled,y_auto_scaled,epochs=20, verbose=1,batch_size=100,validation_data=(autocor_test_scaled,y_auto_test_scaled))"
      ]
    },
    {
      "cell_type": "code",
      "execution_count": null,
      "metadata": {
        "colab": {
          "base_uri": "https://localhost:8080/",
          "height": 282
        },
        "id": "6ekWpjyJcEVi",
        "outputId": "6e3d0517-13e8-4924-bbde-10378ce07a74"
      },
      "outputs": [
        {
          "output_type": "execute_result",
          "data": {
            "text/plain": [
              "<matplotlib.legend.Legend at 0x7fa3bc1ab110>"
            ]
          },
          "metadata": {},
          "execution_count": 18
        },
        {
          "output_type": "display_data",
          "data": {
            "text/plain": [
              "<Figure size 432x288 with 1 Axes>"
            ],
            "image/png": "[encoded data removed]"
          },
          "metadata": {
            "needs_background": "light"
          }
        }
      ],
      "source": [
        "loss_per_epoch = cnn.history.history['loss']\n",
        "loss_vall=cnn.history.history['val_loss']\n",
        "plt.plot(range(len(loss_per_epoch)),loss_per_epoch,label=\"train-loss\")\n",
        "plt.plot(range(len(loss_vall)),loss_vall,label=\"validation-loss\")\n",
        "plt.legend()"
      ]
    },
    {
      "cell_type": "code",
      "execution_count": null,
      "metadata": {
        "id": "BjzDmWCfcHwf"
      },
      "outputs": [],
      "source": [
        "trainPredict = cnn.predict(autocor_scaled)\n",
        "Y_true=scaler2.inverse_transform(trainPredict)\n",
        "RSG_train=RSG_train.tolist()\n",
        "Y_true=Y_true.tolist()"
      ]
    },
    {
      "cell_type": "code",
      "execution_count": null,
      "metadata": {
        "id": "7k8ackpUtCCV"
      },
      "outputs": [],
      "source": [
        "Q=0\n",
        "N=9000"
      ]
    },
    {
      "cell_type": "code",
      "execution_count": null,
      "metadata": {
        "colab": {
          "base_uri": "https://localhost:8080/",
          "height": 294
        },
        "id": "pUhtGO27cHpB",
        "outputId": "b1b9bd03-4f23-4702-f7a9-22ba31771d06"
      },
      "outputs": [
        {
          "output_type": "display_data",
          "data": {
            "text/plain": [
              "<Figure size 432x288 with 1 Axes>"
            ],
            "image/png": "[encoded data removed]"
          },
          "metadata": {
            "needs_background": "light"
          }
        }
      ],
      "source": [
        "plt.suptitle('Time-Series Prediction')\n",
        "plt.plot(range(len(Y_true[Q:Q+N])),Y_true[Q:Q+N],label='Prediction global',c=\"green\")\n",
        "plt.plot(range(len(Y_true[Q:Q+N])),RSG_train[Q:Q+N],label='True value',c=\"red\")\n",
        "plt.legend()\n",
        "plt.show()"
      ]
    }
  ],
  "metadata": {
    "colab": {
      "name": "Copie de Cnn 2D.ipynb",
      "provenance": [],
      "authorship_tag": "ABX9TyPzqwTC4GJzdeSe/DfMe3PD",
      "include_colab_link": true
    },
    "kernelspec": {
      "display_name": "Python 3",
      "name": "python3"
    },
    "language_info": {
      "name": "python"
    },
    "gpuClass": "standard"
  },
  "nbformat": 4,
  "nbformat_minor": 0
}