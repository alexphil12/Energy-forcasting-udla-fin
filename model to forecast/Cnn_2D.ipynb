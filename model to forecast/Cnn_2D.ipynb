{
  "cells": [
    {
      "cell_type": "markdown",
      "metadata": {
        "id": "view-in-github",
        "colab_type": "text"
      },
      "source": [
        "<a href=\"https://colab.research.google.com/github/alexphil12/Energy-forcasting-UDLA/blob/main/Cnn_2D.ipynb\" target=\"_parent\"><img src=\"https://colab.research.google.com/assets/colab-badge.svg\" alt=\"Open In Colab\"/></a>"
      ]
    },
    {
      "cell_type": "code",
      "execution_count": null,
      "metadata": {
        "id": "luj-JYGWxe5i"
      },
      "outputs": [],
      "source": [
        "import pandas as pd\n",
        "import matplotlib.pyplot as plt\n",
        "import numpy as np\n",
        "from sklearn.metrics import mean_squared_error\n",
        "from sklearn.metrics import mean_absolute_error\n",
        "from scipy import signal\n",
        "from scipy.fft import fftshift\n",
        "import matplotlib.pyplot as plt\n",
        "import numpy as np\n",
        "rng = np.random.default_rng()\n",
        "import tensorflow as tf\n",
        "import copy as cp"
      ]
    },
    {
      "cell_type": "code",
      "execution_count": null,
      "metadata": {
        "id": "yaVbCBd2yDid"
      },
      "outputs": [],
      "source": [
        "from tensorflow import keras\n",
        "from keras.models import Sequential\n",
        "from keras.layers import Dense\n",
        "from keras.layers import Flatten\n",
        "from keras.layers import Conv2D\n",
        "from keras.layers import MaxPooling2D\n",
        "import tensorflow as tf\n",
        "from tensorflow.keras import datasets, layers, models\n",
        "import matplotlib.pyplot as plt\n",
        "import numpy as np\n",
        "from sklearn.preprocessing import MinMaxScaler\n",
        "import random as rd"
      ]
    },
    {
      "cell_type": "code",
      "source": [
        "from sklearn.preprocessing import MinMaxScaler"
      ],
      "metadata": {
        "id": "_f-GQ3neo4rM"
      },
      "execution_count": null,
      "outputs": []
    },
    {
      "cell_type": "code",
      "execution_count": null,
      "metadata": {
        "id": "CbOrO0fkxhWU"
      },
      "outputs": [],
      "source": [
        "df = pd.read_csv('/content/df_cov_continu_1_8.txt', index_col=0, parse_dates=True,sep=',')\n",
        "N=len(list(df.iloc[:,3]))\n",
        "df_train=df.iloc[0:round(N*0.8),:]\n",
        "df_test=df.iloc[round(N*0.8):N,:]"
      ]
    },
    {
      "cell_type": "code",
      "execution_count": null,
      "metadata": {
        "id": "gKcNEgYHIiBc"
      },
      "outputs": [],
      "source": [
        "scaler = MinMaxScaler()"
      ]
    },
    {
      "cell_type": "code",
      "execution_count": null,
      "metadata": {
        "id": "OHd_u-SSxhUB"
      },
      "outputs": [],
      "source": [
        "mesure=[\"Fecha\",\"Hora\"];\n",
        "mesure.append(\"Voltaje_(R)_[V]\")\t\n",
        "mesure.append(\"Voltaje_(S)_[V]\")\t\n",
        "mesure.append(\"Voltaje_(T)_[V]\")\t\n",
        "mesure.append(\"Voltaje_(RS)_[V]\")\t\n",
        "mesure.append(\"Voltaje_(ST)_[V]\")\t\n",
        "mesure.append(\"Voltaje_(TR)_[V]\")\t\n",
        "mesure.append(\"Corriente_R_[A]\")\t\n",
        "mesure.append(\"Corriente_S_[A]\")\t\n",
        "mesure.append(\"Corriente_T_[A]\")\t\n",
        "mesure.append(\"Potencia_R_[VA]\")\t\n",
        "mesure.append(\"Potencia_S_[VA]\")\t\n",
        "mesure.append(\"Potencia_T_[VA]\")\t\n",
        "mesure.append(\"Potencia_R_[W]\")\t\n",
        "mesure.append(\"Potencia_S_[W]\")\t\n",
        "mesure.append(\"Potencia_T_[W]\")\t\n",
        "mesure.append(\"Potencia_R_[VAR]\")\t\n",
        "mesure.append(\"Potencia_S_[VAR]\")\t\n",
        "mesure.append(\"Potencia_T_[VAR]\")\t\n",
        "mesure.append(\"Corriente_N_[A]\")\t\n",
        "mesure.append(\"Frecuencia_[Hz]\")\t\n",
        "mesure.append(\"not_sure_1\")\t\n",
        "mesure.append(\"not_sure_2\")\t\n",
        "mesure.append(\"not_sure_3\")\t\n",
        "mesure.append(\"Potencia_3F_[KVA]\")\t\n",
        "mesure.append(\"Potencia_3F_[W]\")\t\n",
        "mesure.append(\"Potencia_3F_[VAR]\")\t\n",
        "mesure.append(\"Factor de Potencia\")"
      ]
    },
    {
      "cell_type": "code",
      "source": [
        "RSG_train = df_train[mesure[15]].values\n",
        "RSG_test=df_test[mesure[15]].values\n",
        "long=len(RSG_train)\n",
        "long_test=len(RSG_test)\n",
        "RSG_train_ima=df_train.loc[:,mesure[2:28]]\n",
        "RSG_test_ima=df_test.loc[:,mesure[2:28]]\n",
        "RSG_deco=RSG_train_ima.drop(columns=[mesure[3],mesure[4],mesure[5],mesure[6],mesure[7],mesure[8],mesure[9],mesure[10],mesure[14],mesure[15],mesure[16],mesure[17],mesure[18],mesure[19],mesure[23],mesure[24],mesure[25],mesure[26]],inplace=False)\n",
        "RSG_deco_test=RSG_test_ima.drop(columns=[mesure[3],mesure[4],mesure[5],mesure[6],mesure[7],mesure[8],mesure[9],mesure[10],mesure[14],mesure[15],mesure[16],mesure[17],mesure[18],mesure[19],mesure[23],mesure[24],mesure[25],mesure[26]],inplace=False)\n",
        "RSG_train_ima=RSG_train_ima.loc[:,[\"Potencia_3F_[W]\",\"not_sure_3\",\"Potencia_3F_[KVA]\",\"Corriente_T_[A]\",\"Potencia_R_[VA]\",\"Potencia_T_[VA]\",\"Corriente_R_[A]\",\"Potencia_S_[VA]\",\"Potencia_T_[VAR]\",\"Corriente_S_[A]\"]]\n",
        "RSG_test_ima=RSG_test_ima.loc[:,[\"Potencia_3F_[W]\",\"not_sure_3\",\"Potencia_3F_[KVA]\",\"Corriente_T_[A]\",\"Potencia_R_[VA]\",\"Potencia_T_[VA]\",\"Corriente_R_[A]\",\"Potencia_S_[VA]\",\"Potencia_T_[VAR]\",\"Corriente_S_[A]\"]]\n",
        "scaler_im=MinMaxScaler()\n",
        "scaler_im.fit(RSG_train_ima)\n",
        "scaler_deco=MinMaxScaler()\n",
        "scaler_deco.fit(RSG_deco)\n",
        "RSG_train_ima_scaled=scaler_im.transform(RSG_train_ima)\n",
        "RSG_test_ima_scaled=scaler_im.transform(RSG_test_ima)\n",
        "RSG_train_deco_scaled=scaler_deco.transform(RSG_deco)\n",
        "RSG_test_deco_scaled=scaler_deco.transform(RSG_deco_test)\n",
        "taille_image=20\n",
        "Q_ima=long-taille_image\n",
        "Q_test_ima=long_test-taille_image\n",
        "Image_data=np.zeros((taille_image,10,Q_ima-1))\n",
        "Image_data_test=np.zeros((taille_image,10,Q_test_ima-1))\n",
        "Image_data_deco=np.zeros((taille_image,8,Q_ima-1))\n",
        "Image_data_test_deco=np.zeros((taille_image,8,Q_test_ima-1))\n",
        "\n",
        "Y_ima=[]\n",
        "Y_ima_test=[]"
      ],
      "metadata": {
        "id": "KXA-d4KZr6dc"
      },
      "execution_count": null,
      "outputs": []
    },
    {
      "cell_type": "code",
      "source": [
        "for j in range(Q_ima-1):\n",
        "  Image_data[:,:,j]=RSG_train_ima_scaled[j:taille_image+j,:]\n",
        "  Image_data_deco[:,:,j]=RSG_train_deco_scaled[j:taille_image+j,:]\n",
        "  Y_ima.append(RSG_train[j+taille_image+1])\n",
        "for j in range(Q_test_ima-1):\n",
        "  Image_data_test[:,:,j]=RSG_test_ima_scaled[j:taille_image+j,:]\n",
        "  Image_data_test_deco[:,:,j]=RSG_test_deco_scaled[j:taille_image+j,:]\n",
        "  Y_ima_test.append(RSG_test[j+taille_image+1])"
      ],
      "metadata": {
        "id": "mdp0uB_msYDV"
      },
      "execution_count": null,
      "outputs": []
    },
    {
      "cell_type": "code",
      "source": [
        ""
      ],
      "metadata": {
        "id": "3fRbq9Z2T672"
      },
      "execution_count": null,
      "outputs": []
    },
    {
      "cell_type": "code",
      "source": [
        "scalerY=MinMaxScaler()\n",
        "Y_ima=np.array(Y_ima)\n",
        "Y_ima_test=np.array(Y_ima_test)\n",
        "scalerY.fit(Y_ima.reshape(-1,1))\n",
        "Y_ima_scaled=scalerY.transform(Y_ima.reshape(-1,1))\n",
        "Y_ima_test_scaled=scalerY.transform(Y_ima_test.reshape(-1,1))"
      ],
      "metadata": {
        "id": "7Yfk0-Wc517p"
      },
      "execution_count": null,
      "outputs": []
    },
    {
      "cell_type": "code",
      "execution_count": null,
      "metadata": {
        "id": "dQpslFxCxhRq"
      },
      "outputs": [],
      "source": [
        "\n",
        "window_len=2500\n",
        "Q=long-window_len\n",
        "Q_test=long_test-window_len\n",
        "Spectro=np.zeros((1000,11,Q-1))\n",
        "Spectro_test=np.zeros((1000,11,Q_test-1))\n",
        "Y=[]\n",
        "Y_test=[]"
      ]
    },
    {
      "cell_type": "code",
      "execution_count": null,
      "metadata": {
        "id": "EkxpB2bgxhPc"
      },
      "outputs": [],
      "source": [
        "\n",
        "scalers=[]\n",
        "for j in range(Q-1):\n",
        "  f, t, Sxx = signal.spectrogram(RSG_train[0+j:window_len+j], fs=1/120,nfft=2**13)\n",
        "  inter=20*np.log10(cp.deepcopy(Sxx[0:1000,:]))\n",
        "  Spectro[:,:,j]=inter\n",
        "  Y.append(RSG_train[window_len+j])\n",
        "  #plt.pcolormesh(t, f[0:1000], Spectro[:,:,j],cmap='jet')\n",
        "  #plt.ylabel('Frequency [Hz]')\n",
        "  #plt.xlabel('Time [sec]')\n",
        "  #plt.show()\n",
        "for j in range(Q_test-1):\n",
        "  f, t, Sxx = signal.spectrogram(RSG_test[0+j:window_len+j], fs=1/120,nfft=2**13)\n",
        "  inter=20*np.log10(cp.deepcopy(Sxx[0:1000,:]))\n",
        "  Spectro_test[:,:,j]=inter\n",
        "  Y_test.append(RSG_test[window_len+j])\n",
        "min=np.min(Spectro)\n",
        "max=np.max(Spectro)\n",
        "Spec_scaled=(-1/(min-max))*(Spectro-max)+1\n",
        "min1=np.min(Spectro_test)\n",
        "max1=np.max(Spectro_test)\n",
        "Spec_test_scaled=(-1/(min1-max1))*(Spectro_test-max1)+1\n",
        "Y = np.array(Y)\n",
        "Y_test=np.array(Y_test)\n",
        "scaler=MinMaxScaler()\n",
        "scaler.fit(Y.reshape(-1,1))  \n",
        "Y_scaled=scaler.transform(Y.reshape(-1,1))\n",
        "Y_test_scaled=scaler.transform(Y_test.reshape(-1,1))\n",
        "  \n",
        "  "
      ]
    },
    {
      "cell_type": "code",
      "source": [
        "def autocorr_matrix(x,order):\n",
        "    R = np.zeros((order, order))\n",
        "    for i in range(0,order):\n",
        "        for j in range(0,order):\n",
        "            R[i,j] = autocorrelate(x, abs(i-j))\n",
        "    return R\n",
        "def autocorrelate(x,lag):\n",
        "    return np.correlate(x[0:len(x)-lag],x[lag:len(x)])"
      ],
      "metadata": {
        "id": "dKvdNrmrku1N"
      },
      "execution_count": null,
      "outputs": []
    },
    {
      "cell_type": "code",
      "source": [
        "taille=30\n",
        "longueur=len(RSG_train)\n",
        "longueur_test=len(RSG_test)"
      ],
      "metadata": {
        "id": "U8vz-bi9gB9H"
      },
      "execution_count": null,
      "outputs": []
    },
    {
      "cell_type": "code",
      "source": [
        "autocor=np.zeros((taille,taille,longueur-taille))\n",
        "autocor_test=np.zeros((taille,taille,longueur_test-taille))"
      ],
      "metadata": {
        "id": "_guWhC-Rlbkj"
      },
      "execution_count": null,
      "outputs": []
    },
    {
      "cell_type": "code",
      "source": [
        "y_auto=[]\n",
        "y_auto_test=[]\n",
        "for j in range(longueur-taille):\n",
        "  sig=RSG_train[j:j+taille]\n",
        "  Auto_inter=autocorr_matrix(sig,taille)\n",
        "  autocor[:,:,j]=Auto_inter\n",
        "  y_auto.append(RSG_train[(j+taille)])\n",
        "for j in range(longueur_test-taille):\n",
        "  sig=RSG_test[j:j+taille]\n",
        "  Auto_inter=autocorr_matrix(sig,taille)\n",
        "  autocor_test[:,:,j]=Auto_inter\n",
        "  y_auto_test.append(RSG_train[(j+taille)])\n",
        "y_auto=np.array(y_auto)\n",
        "y_auto_test=np.array(y_auto_test)\n",
        "scaler2=MinMaxScaler()\n",
        "scaler2_test=MinMaxScaler()\n",
        "scaler2.fit(y_auto.reshape(-1,1))\n",
        "scaler2_test.fit(y_auto_test.reshape(-1,1))\n",
        "y_auto_scaled=scaler2.transform(y_auto.reshape(-1,1))\n",
        "y_auto_test_scaled=scaler2_test.transform(y_auto_test.reshape(-1,1))\n",
        "min_a=np.amin(autocor)\n",
        "max_a=np.amax(autocor)\n",
        "autocor_scaled=(-1/(min_a-max_a))*(autocor-max_a)+1\n",
        "min_a_test=np.amin(autocor_test)\n",
        "max_a_test=np.amax(autocor_test)\n",
        "autocor_test_scaled=(-1/(min_a_test-max_a_test))*(autocor_test-max_a_test)+1"
      ],
      "metadata": {
        "id": "IJZUv3NWluaT"
      },
      "execution_count": null,
      "outputs": []
    },
    {
      "cell_type": "code",
      "source": [
        ""
      ],
      "metadata": {
        "id": "MMCc7gNhrNiK"
      },
      "execution_count": null,
      "outputs": []
    },
    {
      "cell_type": "code",
      "execution_count": null,
      "metadata": {
        "id": "TsGT4oo9xhNI"
      },
      "outputs": [],
      "source": [
        "from sklearn.preprocessing import MinMaxScaler"
      ]
    },
    {
      "cell_type": "code",
      "execution_count": null,
      "metadata": {
        "id": "wD3LLUoNIpvX"
      },
      "outputs": [],
      "source": [
        ""
      ]
    },
    {
      "cell_type": "code",
      "execution_count": null,
      "metadata": {
        "colab": {
          "base_uri": "https://localhost:8080/"
        },
        "id": "MRp0qdWvx82G",
        "outputId": "49449a4f-b649-4ba4-fd17-66ce4c966fd3"
      },
      "outputs": [
        {
          "output_type": "stream",
          "name": "stdout",
          "text": [
            "(20, 10, 2951)\n"
          ]
        }
      ],
      "source": [
        "Spec_scaled = np.array(Spec_scaled).reshape(Q-1,1000,11,1)\n",
        "Spec_test_scaled=np.array(Spec_test_scaled).reshape(Q_test-1,1000,11,1)\n",
        "Image_data=np.array(Image_data).reshape(Q_ima-1,taille_image,10,1)\n",
        "print(Image_data_test.shape)\n",
        "Image_data_test=np.array(Image_data_test).reshape(Q_test_ima-1,taille_image,10,1)\n",
        "Image_data_deco=np.array(Image_data_deco).reshape(Q_ima-1,taille_image,8,1)\n",
        "Image_data_test_deco=np.array(Image_data_test_deco).reshape(Q_test_ima-1,taille_image,8,1)"
      ]
    },
    {
      "cell_type": "code",
      "execution_count": null,
      "metadata": {
        "id": "pVlV3JP8xhKk"
      },
      "outputs": [],
      "source": [
        "cnn = models.Sequential([\n",
        "    layers.Conv2D(filters=32, kernel_size=(3, 3), activation='relu', input_shape=(taille_image, 10, 1)),\n",
        "    layers.MaxPooling2D((2, 2)),\n",
        "    \n",
        "    layers.Flatten(),\n",
        "    layers.Dense(64, activation='relu'),\n",
        "    layers.Dense(1, activation='linear')\n",
        "])"
      ]
    },
    {
      "cell_type": "code",
      "source": [
        "cnn2 = models.Sequential([\n",
        "    layers.Conv2D(filters=32, kernel_size=(3, 3), activation='relu', input_shape=(taille_image, 8, 1)),\n",
        "    layers.MaxPooling2D((2, 2)),\n",
        "    \n",
        "    layers.Flatten(),\n",
        "    layers.Dense(64, activation='relu'),\n",
        "    layers.Dense(1, activation='linear')\n",
        "])"
      ],
      "metadata": {
        "id": "2Zw9ZdXDpKJm"
      },
      "execution_count": null,
      "outputs": []
    },
    {
      "cell_type": "code",
      "execution_count": null,
      "metadata": {
        "id": "TqEmVkRHxhIO"
      },
      "outputs": [],
      "source": [
        "N=100\n",
        "#plt.figure(figsize=(7,5))\n",
        "#plt.pcolormesh(Spectro[0,:,:],cmap='jet')\n",
        "#plt.colorbar"
      ]
    },
    {
      "cell_type": "code",
      "execution_count": null,
      "metadata": {
        "colab": {
          "base_uri": "https://localhost:8080/"
        },
        "id": "cNZYF4jWyNCJ",
        "outputId": "279d86d7-658d-4656-fec6-d9353d7932b2"
      },
      "outputs": [
        {
          "output_type": "stream",
          "name": "stdout",
          "text": [
            "Epoch 1/50\n",
            "119/119 [==============================] - 10s 78ms/step - loss: 0.0496 - val_loss: 0.0553\n",
            "Epoch 2/50\n",
            "119/119 [==============================] - 5s 39ms/step - loss: 0.0405 - val_loss: 0.0583\n",
            "Epoch 3/50\n",
            "119/119 [==============================] - 5s 42ms/step - loss: 0.0405 - val_loss: 0.0593\n",
            "Epoch 4/50\n",
            "119/119 [==============================] - 5s 42ms/step - loss: 0.0401 - val_loss: 0.0523\n",
            "Epoch 5/50\n",
            "119/119 [==============================] - 3s 25ms/step - loss: 0.0401 - val_loss: 0.0498\n",
            "Epoch 6/50\n",
            "119/119 [==============================] - 3s 26ms/step - loss: 0.0398 - val_loss: 0.0557\n",
            "Epoch 7/50\n",
            "119/119 [==============================] - 3s 25ms/step - loss: 0.0397 - val_loss: 0.0600\n",
            "Epoch 8/50\n",
            "119/119 [==============================] - 4s 30ms/step - loss: 0.0398 - val_loss: 0.0623\n",
            "Epoch 9/50\n",
            "119/119 [==============================] - 5s 46ms/step - loss: 0.0399 - val_loss: 0.0581\n",
            "Epoch 10/50\n",
            "119/119 [==============================] - 4s 32ms/step - loss: 0.0397 - val_loss: 0.0571\n",
            "Epoch 11/50\n",
            "119/119 [==============================] - 5s 41ms/step - loss: 0.0398 - val_loss: 0.0522\n",
            "Epoch 12/50\n",
            "119/119 [==============================] - 4s 36ms/step - loss: 0.0397 - val_loss: 0.0565\n",
            "Epoch 13/50\n",
            "119/119 [==============================] - 5s 41ms/step - loss: 0.0394 - val_loss: 0.0524\n",
            "Epoch 14/50\n",
            "119/119 [==============================] - 6s 53ms/step - loss: 0.0394 - val_loss: 0.0592\n",
            "Epoch 15/50\n",
            "119/119 [==============================] - 4s 38ms/step - loss: 0.0392 - val_loss: 0.0573\n",
            "Epoch 16/50\n",
            "119/119 [==============================] - 5s 42ms/step - loss: 0.0392 - val_loss: 0.0570\n",
            "Epoch 17/50\n",
            "119/119 [==============================] - 3s 26ms/step - loss: 0.0392 - val_loss: 0.0531\n",
            "Epoch 18/50\n",
            "119/119 [==============================] - 5s 43ms/step - loss: 0.0393 - val_loss: 0.0540\n",
            "Epoch 19/50\n",
            "119/119 [==============================] - 7s 59ms/step - loss: 0.0391 - val_loss: 0.0588\n",
            "Epoch 20/50\n",
            "119/119 [==============================] - 3s 25ms/step - loss: 0.0389 - val_loss: 0.0546\n",
            "Epoch 21/50\n",
            "119/119 [==============================] - 6s 48ms/step - loss: 0.0391 - val_loss: 0.0563\n",
            "Epoch 22/50\n",
            "119/119 [==============================] - 6s 54ms/step - loss: 0.0391 - val_loss: 0.0554\n",
            "Epoch 23/50\n",
            "119/119 [==============================] - 3s 24ms/step - loss: 0.0389 - val_loss: 0.0598\n",
            "Epoch 24/50\n",
            "119/119 [==============================] - 4s 30ms/step - loss: 0.0387 - val_loss: 0.0576\n",
            "Epoch 25/50\n",
            "119/119 [==============================] - 6s 49ms/step - loss: 0.0387 - val_loss: 0.0624\n",
            "Epoch 26/50\n",
            "119/119 [==============================] - 4s 35ms/step - loss: 0.0387 - val_loss: 0.0525\n",
            "Epoch 27/50\n",
            "119/119 [==============================] - 7s 62ms/step - loss: 0.0387 - val_loss: 0.0564\n",
            "Epoch 28/50\n",
            "119/119 [==============================] - 4s 30ms/step - loss: 0.0387 - val_loss: 0.0540\n",
            "Epoch 29/50\n",
            "119/119 [==============================] - 4s 37ms/step - loss: 0.0385 - val_loss: 0.0579\n",
            "Epoch 30/50\n",
            "119/119 [==============================] - 4s 37ms/step - loss: 0.0386 - val_loss: 0.0565\n",
            "Epoch 31/50\n",
            "119/119 [==============================] - 5s 40ms/step - loss: 0.0384 - val_loss: 0.0547\n",
            "Epoch 32/50\n",
            "119/119 [==============================] - 5s 43ms/step - loss: 0.0384 - val_loss: 0.0576\n",
            "Epoch 33/50\n",
            "119/119 [==============================] - 7s 58ms/step - loss: 0.0383 - val_loss: 0.0598\n",
            "Epoch 34/50\n",
            "119/119 [==============================] - 4s 38ms/step - loss: 0.0383 - val_loss: 0.0561\n",
            "Epoch 35/50\n",
            "119/119 [==============================] - 5s 30ms/step - loss: 0.0383 - val_loss: 0.0607\n",
            "Epoch 36/50\n",
            "119/119 [==============================] - 4s 36ms/step - loss: 0.0380 - val_loss: 0.0597\n",
            "Epoch 37/50\n",
            "119/119 [==============================] - 5s 41ms/step - loss: 0.0380 - val_loss: 0.0557\n",
            "Epoch 38/50\n",
            "119/119 [==============================] - 5s 41ms/step - loss: 0.0380 - val_loss: 0.0597\n",
            "Epoch 39/50\n",
            "119/119 [==============================] - 4s 36ms/step - loss: 0.0378 - val_loss: 0.0564\n",
            "Epoch 40/50\n",
            "119/119 [==============================] - 5s 42ms/step - loss: 0.0377 - val_loss: 0.0616\n",
            "Epoch 41/50\n",
            "119/119 [==============================] - 4s 37ms/step - loss: 0.0378 - val_loss: 0.0569\n",
            "Epoch 42/50\n",
            "119/119 [==============================] - 4s 37ms/step - loss: 0.0377 - val_loss: 0.0533\n",
            "Epoch 43/50\n",
            "119/119 [==============================] - 4s 36ms/step - loss: 0.0376 - val_loss: 0.0560\n",
            "Epoch 44/50\n",
            "119/119 [==============================] - 5s 40ms/step - loss: 0.0372 - val_loss: 0.0567\n",
            "Epoch 45/50\n",
            "119/119 [==============================] - 5s 43ms/step - loss: 0.0373 - val_loss: 0.0546\n",
            "Epoch 46/50\n",
            "119/119 [==============================] - 4s 36ms/step - loss: 0.0370 - val_loss: 0.0546\n",
            "Epoch 47/50\n",
            "119/119 [==============================] - 5s 41ms/step - loss: 0.0368 - val_loss: 0.0589\n",
            "Epoch 48/50\n",
            "119/119 [==============================] - 5s 42ms/step - loss: 0.0368 - val_loss: 0.0595\n",
            "Epoch 49/50\n",
            "119/119 [==============================] - 4s 37ms/step - loss: 0.0366 - val_loss: 0.0563\n",
            "Epoch 50/50\n",
            "119/119 [==============================] - 5s 44ms/step - loss: 0.0366 - val_loss: 0.0587\n",
            "Epoch 1/50\n",
            "119/119 [==============================] - 5s 35ms/step - loss: 0.0476 - val_loss: 0.0541\n",
            "Epoch 2/50\n",
            "119/119 [==============================] - 3s 27ms/step - loss: 0.0405 - val_loss: 0.0527\n",
            "Epoch 3/50\n",
            "119/119 [==============================] - 4s 34ms/step - loss: 0.0402 - val_loss: 0.0568\n",
            "Epoch 4/50\n",
            "119/119 [==============================] - 6s 50ms/step - loss: 0.0401 - val_loss: 0.0652\n",
            "Epoch 5/50\n",
            "119/119 [==============================] - 4s 33ms/step - loss: 0.0399 - val_loss: 0.0536\n",
            "Epoch 6/50\n",
            "119/119 [==============================] - 3s 22ms/step - loss: 0.0395 - val_loss: 0.0524\n",
            "Epoch 7/50\n",
            "119/119 [==============================] - 5s 42ms/step - loss: 0.0393 - val_loss: 0.0601\n",
            "Epoch 8/50\n",
            "119/119 [==============================] - 3s 23ms/step - loss: 0.0389 - val_loss: 0.0538\n",
            "Epoch 9/50\n",
            "119/119 [==============================] - 7s 62ms/step - loss: 0.0389 - val_loss: 0.0595\n",
            "Epoch 10/50\n",
            "119/119 [==============================] - 4s 32ms/step - loss: 0.0386 - val_loss: 0.0555\n",
            "Epoch 11/50\n",
            "119/119 [==============================] - 4s 38ms/step - loss: 0.0384 - val_loss: 0.0532\n",
            "Epoch 12/50\n",
            "119/119 [==============================] - 5s 38ms/step - loss: 0.0383 - val_loss: 0.0586\n",
            "Epoch 13/50\n",
            "119/119 [==============================] - 3s 26ms/step - loss: 0.0380 - val_loss: 0.0570\n",
            "Epoch 14/50\n",
            "119/119 [==============================] - 4s 35ms/step - loss: 0.0378 - val_loss: 0.0570\n",
            "Epoch 15/50\n",
            "119/119 [==============================] - 3s 22ms/step - loss: 0.0375 - val_loss: 0.0608\n",
            "Epoch 16/50\n",
            "119/119 [==============================] - 3s 27ms/step - loss: 0.0376 - val_loss: 0.0574\n",
            "Epoch 17/50\n",
            "119/119 [==============================] - 3s 27ms/step - loss: 0.0373 - val_loss: 0.0583\n",
            "Epoch 18/50\n",
            "119/119 [==============================] - 5s 27ms/step - loss: 0.0371 - val_loss: 0.0588\n",
            "Epoch 19/50\n",
            "119/119 [==============================] - 3s 29ms/step - loss: 0.0369 - val_loss: 0.0615\n",
            "Epoch 20/50\n",
            "119/119 [==============================] - 3s 27ms/step - loss: 0.0367 - val_loss: 0.0628\n",
            "Epoch 21/50\n",
            "119/119 [==============================] - 9s 73ms/step - loss: 0.0367 - val_loss: 0.0594\n",
            "Epoch 22/50\n",
            "119/119 [==============================] - 3s 22ms/step - loss: 0.0363 - val_loss: 0.0613\n",
            "Epoch 23/50\n",
            "119/119 [==============================] - 5s 27ms/step - loss: 0.0361 - val_loss: 0.0633\n",
            "Epoch 24/50\n",
            "119/119 [==============================] - 5s 39ms/step - loss: 0.0359 - val_loss: 0.0607\n",
            "Epoch 25/50\n",
            "119/119 [==============================] - 3s 29ms/step - loss: 0.0358 - val_loss: 0.0551\n",
            "Epoch 26/50\n",
            "119/119 [==============================] - 3s 27ms/step - loss: 0.0354 - val_loss: 0.0615\n",
            "Epoch 27/50\n",
            "119/119 [==============================] - 4s 36ms/step - loss: 0.0355 - val_loss: 0.0567\n",
            "Epoch 28/50\n",
            "119/119 [==============================] - 5s 38ms/step - loss: 0.0352 - val_loss: 0.0568\n",
            "Epoch 29/50\n",
            "119/119 [==============================] - 3s 22ms/step - loss: 0.0350 - val_loss: 0.0617\n",
            "Epoch 30/50\n",
            "119/119 [==============================] - 3s 22ms/step - loss: 0.0348 - val_loss: 0.0593\n",
            "Epoch 31/50\n",
            "119/119 [==============================] - 5s 43ms/step - loss: 0.0347 - val_loss: 0.0594\n",
            "Epoch 32/50\n",
            "119/119 [==============================] - 3s 27ms/step - loss: 0.0345 - val_loss: 0.0597\n",
            "Epoch 33/50\n",
            "119/119 [==============================] - 4s 35ms/step - loss: 0.0343 - val_loss: 0.0633\n",
            "Epoch 34/50\n",
            "119/119 [==============================] - 4s 34ms/step - loss: 0.0341 - val_loss: 0.0631\n",
            "Epoch 35/50\n",
            "119/119 [==============================] - 7s 60ms/step - loss: 0.0338 - val_loss: 0.0616\n",
            "Epoch 36/50\n",
            "119/119 [==============================] - 3s 24ms/step - loss: 0.0336 - val_loss: 0.0659\n",
            "Epoch 37/50\n",
            "119/119 [==============================] - 3s 22ms/step - loss: 0.0333 - val_loss: 0.0667\n",
            "Epoch 38/50\n",
            "119/119 [==============================] - 5s 45ms/step - loss: 0.0336 - val_loss: 0.0588\n",
            "Epoch 39/50\n",
            "119/119 [==============================] - 5s 41ms/step - loss: 0.0331 - val_loss: 0.0653\n",
            "Epoch 40/50\n",
            "119/119 [==============================] - 3s 22ms/step - loss: 0.0332 - val_loss: 0.0656\n",
            "Epoch 41/50\n",
            "119/119 [==============================] - 4s 38ms/step - loss: 0.0326 - val_loss: 0.0632\n",
            "Epoch 42/50\n",
            "119/119 [==============================] - 5s 38ms/step - loss: 0.0325 - val_loss: 0.0592\n",
            "Epoch 43/50\n",
            "119/119 [==============================] - 3s 28ms/step - loss: 0.0324 - val_loss: 0.0632\n",
            "Epoch 44/50\n",
            "119/119 [==============================] - 3s 22ms/step - loss: 0.0319 - val_loss: 0.0637\n",
            "Epoch 45/50\n",
            "119/119 [==============================] - 6s 54ms/step - loss: 0.0318 - val_loss: 0.0673\n",
            "Epoch 46/50\n",
            "119/119 [==============================] - 4s 35ms/step - loss: 0.0314 - val_loss: 0.0653\n",
            "Epoch 47/50\n",
            "119/119 [==============================] - 3s 22ms/step - loss: 0.0315 - val_loss: 0.0668\n",
            "Epoch 48/50\n",
            "119/119 [==============================] - 3s 22ms/step - loss: 0.0310 - val_loss: 0.0644\n",
            "Epoch 49/50\n",
            "119/119 [==============================] - 6s 49ms/step - loss: 0.0310 - val_loss: 0.0646\n",
            "Epoch 50/50\n",
            "119/119 [==============================] - 4s 37ms/step - loss: 0.0306 - val_loss: 0.0696\n"
          ]
        },
        {
          "output_type": "execute_result",
          "data": {
            "text/plain": [
              "<keras.callbacks.History at 0x7f86f4ce3e10>"
            ]
          },
          "metadata": {},
          "execution_count": 463
        }
      ],
      "source": [
        "autocor_scaled=autocor_scaled.reshape(11858,30,30)\n",
        "autocor_test_scaled=autocor_test_scaled.reshape(2942,30,30)\n",
        "cnn.compile(optimizer='adam',loss='mse')\n",
        "cnn2.compile(optimizer='adam',loss='mse')\n",
        "cnn.fit(Image_data,Y_ima_scaled,epochs=50, verbose=1,batch_size=100,validation_data=(Image_data_test,Y_ima_test_scaled))\n",
        "cnn2.fit(Image_data_deco,Y_ima_scaled,epochs=50,verbose=1,batch_size=100,validation_data=(Image_data_test_deco,Y_ima_test_scaled))"
      ]
    },
    {
      "cell_type": "code",
      "execution_count": null,
      "metadata": {
        "colab": {
          "base_uri": "https://localhost:8080/",
          "height": 282
        },
        "id": "6ekWpjyJcEVi",
        "outputId": "7cfb1f84-ffca-4a37-c0c3-598250319722"
      },
      "outputs": [
        {
          "output_type": "execute_result",
          "data": {
            "text/plain": [
              "<matplotlib.legend.Legend at 0x7f86ea219b10>"
            ]
          },
          "metadata": {},
          "execution_count": 464
        },
        {
          "output_type": "display_data",
          "data": {
            "text/plain": [
              "<Figure size 432x288 with 1 Axes>"
            ],
            "image/png": "[encoded data removed]"
          },
          "metadata": {
            "needs_background": "light"
          }
        }
      ],
      "source": [
        "loss_per_epoch = cnn.history.history['loss']\n",
        "loss_vall=cnn.history.history['val_loss']\n",
        "plt.plot(range(len(loss_per_epoch)),loss_per_epoch,label=\"train-loss\")\n",
        "plt.plot(range(len(loss_vall)),loss_vall,label=\"validation-loss\")\n",
        "plt.legend()"
      ]
    },
    {
      "cell_type": "code",
      "source": [
        "loss_per_epoch = cnn2.history.history['loss']\n",
        "loss_vall=cnn2.history.history['val_loss']\n",
        "plt.plot(range(len(loss_per_epoch)),loss_per_epoch,label=\"train-loss\")\n",
        "plt.plot(range(len(loss_vall)),loss_vall,label=\"validation-loss\")\n",
        "plt.legend()"
      ],
      "metadata": {
        "colab": {
          "base_uri": "https://localhost:8080/",
          "height": 282
        },
        "id": "XI4L6bQOsynM",
        "outputId": "ddc6d945-7667-4a38-fb24-d8c8b615ed7d"
      },
      "execution_count": null,
      "outputs": [
        {
          "output_type": "execute_result",
          "data": {
            "text/plain": [
              "<matplotlib.legend.Legend at 0x7f86f4c96490>"
            ]
          },
          "metadata": {},
          "execution_count": 465
        },
        {
          "output_type": "display_data",
          "data": {
            "text/plain": [
              "<Figure size 432x288 with 1 Axes>"
            ],
            "image/png": "[encoded data removed]"
          },
          "metadata": {
            "needs_background": "light"
          }
        }
      ]
    },
    {
      "cell_type": "code",
      "execution_count": null,
      "metadata": {
        "id": "BjzDmWCfcHwf"
      },
      "outputs": [],
      "source": [
        "trainPredict = cnn.predict(Image_data)\n",
        "trainPredict2=cnn2.predict(Image_data_deco)\n",
        "Y_true=scalerY.inverse_transform(trainPredict.reshape(-1,1))\n",
        "Y_true_deco=scalerY.inverse_transform(trainPredict2.reshape(-1,1))\n",
        "RSG_train=RSG_train.tolist()\n",
        "Y_true=Y_true.tolist()\n",
        "Y_true_deco=Y_true_deco.tolist()"
      ]
    },
    {
      "cell_type": "code",
      "execution_count": null,
      "metadata": {
        "id": "7k8ackpUtCCV"
      },
      "outputs": [],
      "source": [
        "Q=0\n",
        "N=1000"
      ]
    },
    {
      "cell_type": "code",
      "execution_count": null,
      "metadata": {
        "colab": {
          "base_uri": "https://localhost:8080/",
          "height": 294
        },
        "id": "pUhtGO27cHpB",
        "outputId": "a77832ed-1bdb-4986-b3cd-deaaa920c059"
      },
      "outputs": [
        {
          "output_type": "display_data",
          "data": {
            "text/plain": [
              "<Figure size 432x288 with 1 Axes>"
            ],
            "image/png": "[encoded data removed]"
          },
          "metadata": {
            "needs_background": "light"
          }
        }
      ],
      "source": [
        "plt.suptitle('Time-Series Prediction')\n",
        "plt.plot(range(len(Y_true[Q:Q+N])),Y_true[Q:Q+N],label='Prediction global correlate',c=\"green\")\n",
        "plt.plot(range(len(Y_true[Q:Q+N])),RSG_train[Q:Q+N],label='True value',c=\"red\")\n",
        "plt.plot(range(len(Y_true[Q:Q+N])),Y_true_deco[Q:Q+N],label='Prediction global decorrelate',c=\"blue\")\n",
        "plt.legend()\n",
        "plt.show()"
      ]
    }
  ],
  "metadata": {
    "colab": {
      "name": "Cnn 2D.ipynb",
      "provenance": [],
      "authorship_tag": "ABX9TyNYJ2CBkQSiwJR34ixdduWZ",
      "include_colab_link": true
    },
    "kernelspec": {
      "display_name": "Python 3",
      "name": "python3"
    },
    "language_info": {
      "name": "python"
    },
    "gpuClass": "standard"
  },
  "nbformat": 4,
  "nbformat_minor": 0
}