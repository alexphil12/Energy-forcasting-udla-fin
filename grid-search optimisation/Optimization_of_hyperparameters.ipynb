{
  "cells": [
    {
      "cell_type": "markdown",
      "metadata": {
        "id": "view-in-github",
        "colab_type": "text"
      },
      "source": [
        "<a href=\"https://colab.research.google.com/github/alexphil12/Energy-forcasting-UDLA/blob/main/Optimization_of_hyperparameters.ipynb\" target=\"_parent\"><img src=\"https://colab.research.google.com/assets/colab-badge.svg\" alt=\"Open In Colab\"/></a>"
      ]
    },
    {
      "cell_type": "markdown",
      "source": [
        "The global goal of this notebook is to obtain a \"grid search\" dataframe of univariate and multivariate reccurent neural networks to obtains the best possible model to forcast the power. The univariate models use and predict the Potencia_R_[W] feature. The multivariate models use 10 feature selected by a random forest model to predict Potencia_R, Potencia_S and Potencia_T [W] feature."
      ],
      "metadata": {
        "id": "f47SA2ojb7wv"
      }
    },
    {
      "cell_type": "code",
      "execution_count": null,
      "metadata": {
        "id": "fHP1H9LpLY2m"
      },
      "outputs": [],
      "source": [
        "import pandas as pd\n",
        "import matplotlib.pyplot as plt\n",
        "import numpy as np\n",
        "from sklearn.metrics import mean_squared_error\n",
        "from sklearn.metrics import mean_absolute_error\n",
        "from scipy import signal\n",
        "import matplotlib.pyplot as plt\n",
        "import numpy as np\n",
        "import tensorflow as tf\n",
        "import copy as cp\n",
        "from keras.preprocessing.sequence import TimeseriesGenerator"
      ]
    },
    {
      "cell_type": "code",
      "execution_count": null,
      "metadata": {
        "id": "eCzU5cBQMWQe"
      },
      "outputs": [],
      "source": [
        "from sklearn.preprocessing import MinMaxScaler"
      ]
    },
    {
      "cell_type": "code",
      "execution_count": null,
      "metadata": {
        "id": "nL5krfl4tXKP"
      },
      "outputs": [],
      "source": [
        "from tensorflow import keras\n",
        "from keras.models import Sequential\n",
        "from keras.layers import Dense\n",
        "from keras.layers import GRU\n",
        "from keras.layers import SimpleRNN\n",
        "from keras.layers import Dropout,Bidirectional\n"
      ]
    },
    {
      "cell_type": "code",
      "execution_count": null,
      "metadata": {
        "id": "CelSpomnLumg"
      },
      "outputs": [],
      "source": [
        "df = pd.read_csv('/content/df_cov_continu_1_1.txt', index_col=0, parse_dates=True,sep=',')\n",
        "N=len(list(df.iloc[:,3]))\n",
        "df_train=df.iloc[0:round(N*0.8),:]\n",
        "df_test=df.iloc[round(N*0.8):N,:]"
      ]
    },
    {
      "cell_type": "code",
      "execution_count": null,
      "metadata": {
        "id": "S_VC3eAVLzRl"
      },
      "outputs": [],
      "source": [
        "mesure=[\"Fecha\",\"Hora\"];\n",
        "mesure.append(\"Voltaje_(R)_[V]\")\t\n",
        "mesure.append(\"Voltaje_(S)_[V]\")\t\n",
        "mesure.append(\"Voltaje_(T)_[V]\")\t\n",
        "mesure.append(\"Voltaje_(RS)_[V]\")\t\n",
        "mesure.append(\"Voltaje_(ST)_[V]\")\t\n",
        "mesure.append(\"Voltaje_(TR)_[V]\")\t\n",
        "mesure.append(\"Corriente_R_[A]\")\t\n",
        "mesure.append(\"Corriente_S_[A]\")\t\n",
        "mesure.append(\"Corriente_T_[A]\")\t\n",
        "mesure.append(\"Potencia_R_[VA]\")\t\n",
        "mesure.append(\"Potencia_S_[VA]\")\t\n",
        "mesure.append(\"Potencia_T_[VA]\")\t\n",
        "mesure.append(\"Potencia_R_[W]\")\t\n",
        "mesure.append(\"Potencia_S_[W]\")\t\n",
        "mesure.append(\"Potencia_T_[W]\")\t\n",
        "mesure.append(\"Potencia_R_[VAR]\")\t\n",
        "mesure.append(\"Potencia_S_[VAR]\")\t\n",
        "mesure.append(\"Potencia_T_[VAR]\")\t\n",
        "mesure.append(\"Corriente_N_[A]\")\t\n",
        "mesure.append(\"Frecuencia_[Hz]\")\t\n",
        "mesure.append(\"not_sure_1\")\t\n",
        "mesure.append(\"not_sure_2\")\t\n",
        "mesure.append(\"not_sure_3\")\t\n",
        "mesure.append(\"Potencia_3F_[KVA]\")\t\n",
        "mesure.append(\"Potencia_3F_[W]\")\t\n",
        "mesure.append(\"Potencia_3F_[VAR]\")\t\n",
        "mesure.append(\"Factor de Potencia\")"
      ]
    },
    {
      "cell_type": "code",
      "execution_count": null,
      "metadata": {
        "colab": {
          "base_uri": "https://localhost:8080/"
        },
        "id": "4duswvYdcQqo",
        "outputId": "c9c256b9-3ccd-4d77-c505-9ca623c116bf"
      },
      "outputs": [
        {
          "output_type": "stream",
          "name": "stderr",
          "text": [
            "/usr/local/lib/python3.7/dist-packages/pandas/core/frame.py:4913: SettingWithCopyWarning: \n",
            "A value is trying to be set on a copy of a slice from a DataFrame\n",
            "\n",
            "See the caveats in the documentation: https://pandas.pydata.org/pandas-docs/stable/user_guide/indexing.html#returning-a-view-versus-a-copy\n",
            "  errors=errors,\n"
          ]
        }
      ],
      "source": [
        "df_train.drop(columns=[mesure[0],mesure[1]],inplace=True)\n",
        "df_test.drop(columns=[mesure[0],mesure[1]],inplace=True)\n",
        "RSG_train = df_train[mesure[14]].values\n",
        "RSG_test = df_test[mesure[14]].values\n",
        "\n",
        "RSG_train_X_multi=df_train.drop(columns=[\"Potencia_R_[W]\",\"Potencia_S_[W]\",\"Potencia_T_[W]\"])\n",
        "RSG_test_X_multi=df_test.drop(columns=[\"Potencia_R_[W]\",\"Potencia_S_[W]\",\"Potencia_T_[W]\"])\n",
        "RSG_train_Y_multi=df_train.loc[:,[\"Potencia_R_[W]\",\"Potencia_S_[W]\",\"Potencia_T_[W]\"]]\n",
        "RSG_test_Y_multi=df_test.loc[:,[\"Potencia_R_[W]\",\"Potencia_S_[W]\",\"Potencia_T_[W]\"]]\n"
      ]
    },
    {
      "cell_type": "code",
      "execution_count": null,
      "metadata": {
        "id": "NEVmuLPdMZhi"
      },
      "outputs": [],
      "source": [
        "scaler = MinMaxScaler()\n",
        "scaler_test=MinMaxScaler()\n",
        "scaler.fit(RSG_train.reshape(-1,1))\n",
        "scaler_test.fit(RSG_test.reshape(-1,1))\n",
        "scaled_train=scaler.transform(RSG_train.reshape(-1,1))\n",
        "scaled_test=scaler_test.transform(RSG_test.reshape(-1,1))"
      ]
    },
    {
      "cell_type": "markdown",
      "metadata": {
        "id": "qaFJ0eAkNOjK"
      },
      "source": [
        "CNN part of Data preprocessing"
      ]
    },
    {
      "cell_type": "code",
      "execution_count": null,
      "metadata": {
        "id": "LdIh0tMbNNYI"
      },
      "outputs": [],
      "source": [
        "def split_sequence(sequence, n_steps):\n",
        "\tX, y = list(), list()\n",
        "\tfor i in range(len(sequence)):\n",
        "\t\tend_ix = i + n_steps\n",
        "\t\tif end_ix > len(sequence)-1:\n",
        "\t\t\tbreak\n",
        "\t\tseq_x, seq_y = sequence[i:end_ix], sequence[end_ix]\n",
        "\t\tX.append(seq_x)\n",
        "\t\ty.append(seq_y)\n",
        "\treturn np.array(X), np.array(y)"
      ]
    },
    {
      "cell_type": "code",
      "execution_count": null,
      "metadata": {
        "id": "on230psHNWgj"
      },
      "outputs": [],
      "source": [
        "n_steps=20\n",
        "n_features=1\n",
        "X_CNN,y_CNN=split_sequence(scaled_train,n_steps)\n",
        "X_CNN_test,y_CNN_test=split_sequence(scaled_test,n_steps)"
      ]
    },
    {
      "cell_type": "markdown",
      "metadata": {
        "id": "eU1J3qyfN3JH"
      },
      "source": [
        "LSTM,GRU, CNN  univariate part of Data Preprocessing"
      ]
    },
    {
      "cell_type": "code",
      "execution_count": null,
      "metadata": {
        "id": "MKKKFltjN-FV"
      },
      "outputs": [],
      "source": [
        "n_input = 20\n",
        "n_features = 0\n",
        "train_generator = TimeseriesGenerator(scaled_train, scaled_train, length=n_input, batch_size=10)\n",
        "test_generator= TimeseriesGenerator(scaled_test,scaled_test,length=n_input,batch_size=10)"
      ]
    },
    {
      "cell_type": "markdown",
      "metadata": {
        "id": "IAZGk4-kQzYy"
      },
      "source": [
        "LSTM,GRU,CNN multivairate part of Data Preprocessing"
      ]
    },
    {
      "cell_type": "code",
      "execution_count": null,
      "metadata": {
        "id": "Yhongyw3RL-f"
      },
      "outputs": [],
      "source": [
        "from sklearn.ensemble import RandomForestRegressor\n",
        "from sklearn.feature_selection import SelectFromModel\n",
        "from sklearn.model_selection import RandomizedSearchCV"
      ]
    },
    {
      "cell_type": "markdown",
      "metadata": {
        "id": "iM--Y5WLfEmx"
      },
      "source": [
        "Features selection using Random Forest"
      ]
    },
    {
      "cell_type": "code",
      "execution_count": null,
      "metadata": {
        "id": "SuJqjC0CYZ_O"
      },
      "outputs": [],
      "source": [
        "rf = RandomForestRegressor()"
      ]
    },
    {
      "cell_type": "code",
      "execution_count": null,
      "metadata": {
        "id": "dtWFtN27Z68T"
      },
      "outputs": [],
      "source": [
        "# Number of trees in random forest\n",
        "n_estimators = [100,200,300,400,500]\n",
        "# Number of features to consider at every split\n",
        "max_features = ['auto', 'sqrt']\n",
        "# Maximum number of levels in tree\n",
        "max_depth = [20,50,70,100,200]\n",
        "# Minimum number of samples required to split a node\n",
        "min_samples_split = [2, 5, 10,20,30]\n",
        "# Minimum number of samples required at each leaf node\n",
        "min_samples_leaf = [1, 2, 4]\n",
        "# Method of selecting samples for training each tree\n",
        "bootstrap = [True, False]\n",
        "# Create the random grid\n",
        "random_grid = {'n_estimators': n_estimators,\n",
        "               'max_features': max_features,\n",
        "               'max_depth': max_depth,\n",
        "               'min_samples_split': min_samples_split,\n",
        "               'min_samples_leaf': min_samples_leaf,\n",
        "               'bootstrap': bootstrap}"
      ]
    },
    {
      "cell_type": "code",
      "execution_count": null,
      "metadata": {
        "colab": {
          "base_uri": "https://localhost:8080/"
        },
        "id": "CkmRdKoSaFKg",
        "outputId": "7fea2af7-dbb8-481b-b4dd-a650873a9f95"
      },
      "outputs": [
        {
          "output_type": "stream",
          "name": "stdout",
          "text": [
            "Fitting 3 folds for each of 10 candidates, totalling 30 fits\n"
          ]
        },
        {
          "output_type": "execute_result",
          "data": {
            "text/plain": [
              "RandomizedSearchCV(cv=3, estimator=RandomForestRegressor(), n_jobs=-1,\n",
              "                   param_distributions={'bootstrap': [True, False],\n",
              "                                        'max_depth': [20, 50, 70, 100, 200],\n",
              "                                        'max_features': ['auto', 'sqrt'],\n",
              "                                        'min_samples_leaf': [1, 2, 4],\n",
              "                                        'min_samples_split': [2, 5, 10, 20, 30],\n",
              "                                        'n_estimators': [100, 200, 300, 400,\n",
              "                                                         500]},\n",
              "                   random_state=42, verbose=2)"
            ]
          },
          "metadata": {},
          "execution_count": 18
        }
      ],
      "source": [
        "# Random search of parameters, using 3 fold cross validation, \n",
        "# search across 100 different combinations, and use all available cores\n",
        "rf_random = RandomizedSearchCV(estimator = rf, param_distributions = random_grid, n_iter = 10, cv = 3, verbose=2, random_state=42, n_jobs = -1)\n",
        "# Fit the random search model\n",
        "rf_random.fit(RSG_train_X_multi,RSG_train_Y_multi)"
      ]
    },
    {
      "cell_type": "code",
      "execution_count": null,
      "metadata": {
        "colab": {
          "base_uri": "https://localhost:8080/"
        },
        "id": "fERLEvIhbw8W",
        "outputId": "ee11ba73-d3aa-4ea4-c84c-551a14aac7b4"
      },
      "outputs": [
        {
          "output_type": "execute_result",
          "data": {
            "text/plain": [
              "{'bootstrap': False,\n",
              " 'max_depth': 70,\n",
              " 'max_features': 'sqrt',\n",
              " 'min_samples_leaf': 1,\n",
              " 'min_samples_split': 2,\n",
              " 'n_estimators': 200}"
            ]
          },
          "metadata": {},
          "execution_count": 19
        }
      ],
      "source": [
        "rf_random.best_params_"
      ]
    },
    {
      "cell_type": "code",
      "execution_count": null,
      "metadata": {
        "id": "lhWjgURWbyPU"
      },
      "outputs": [],
      "source": [
        "best_random = rf_random.best_estimator_"
      ]
    },
    {
      "cell_type": "code",
      "execution_count": null,
      "metadata": {
        "colab": {
          "base_uri": "https://localhost:8080/"
        },
        "id": "wzmSYCw5b0qZ",
        "outputId": "4ad927c2-be20-4989-ee61-15c1620a4184"
      },
      "outputs": [
        {
          "output_type": "execute_result",
          "data": {
            "text/plain": [
              "RandomForestRegressor(bootstrap=False, max_depth=70, max_features='sqrt',\n",
              "                      n_estimators=200)"
            ]
          },
          "metadata": {},
          "execution_count": 21
        }
      ],
      "source": [
        "best_random"
      ]
    },
    {
      "cell_type": "code",
      "execution_count": null,
      "metadata": {
        "id": "8UX1ciz8b27t"
      },
      "outputs": [],
      "source": [
        "features = RSG_train_X_multi.columns"
      ]
    },
    {
      "cell_type": "code",
      "execution_count": null,
      "metadata": {
        "colab": {
          "base_uri": "https://localhost:8080/",
          "height": 265
        },
        "id": "sK3_xcFDb4zT",
        "outputId": "60a4ccda-452b-4e1a-e935-3da4d8e994a5"
      },
      "outputs": [
        {
          "output_type": "display_data",
          "data": {
            "text/plain": [
              "<Figure size 432x288 with 1 Axes>"
            ],
            "image/png": "[encoded data removed]"
          },
          "metadata": {
            "needs_background": "light"
          }
        }
      ],
      "source": [
        "f_i = list(zip(features,best_random.feature_importances_))\n",
        "f_i.sort(key = lambda x : x[1])\n",
        "plt.barh([x[0] for x in f_i],[x[1] for x in f_i])\n",
        "\n",
        "plt.show()"
      ]
    },
    {
      "cell_type": "markdown",
      "source": [
        "Selection of the 10 most importants features. We remark that the features are highly correlated and also highly correlated to the targets."
      ],
      "metadata": {
        "id": "S1OjSYdQYYAt"
      }
    },
    {
      "cell_type": "code",
      "execution_count": null,
      "metadata": {
        "id": "VqTsyF8dnGym"
      },
      "outputs": [],
      "source": [
        "RSG_train_X_multi=RSG_train_X_multi.loc[:,[\"Potencia_3F_[W]\",\"not_sure_3\",\"Potencia_3F_[KVA]\",\"Corriente_T_[A]\",\"Potencia_R_[VA]\",\"Potencia_T_[VA]\",\"Corriente_R_[A]\",\"Potencia_S_[VA]\",\"Potencia_T_[VAR]\",\"Corriente_S_[A]\"]]\n",
        "RSG_test_X_multi=RSG_test_X_multi.loc[:,[\"Potencia_3F_[W]\",\"not_sure_3\",\"Potencia_3F_[KVA]\",\"Corriente_T_[A]\",\"Potencia_R_[VA]\",\"Potencia_T_[VA]\",\"Corriente_R_[A]\",\"Potencia_S_[VA]\",\"Potencia_T_[VAR]\",\"Corriente_S_[A]\"]]"
      ]
    },
    {
      "cell_type": "code",
      "execution_count": null,
      "metadata": {
        "colab": {
          "base_uri": "https://localhost:8080/",
          "height": 595
        },
        "id": "oRscgKIXnDPH",
        "outputId": "b9f5b54a-69c1-46fb-ecd4-b0e23f110cf3"
      },
      "outputs": [
        {
          "output_type": "execute_result",
          "data": {
            "text/plain": [
              "<matplotlib.colorbar.Colorbar at 0x7f4e53a7d710>"
            ]
          },
          "metadata": {},
          "execution_count": 25
        },
        {
          "output_type": "display_data",
          "data": {
            "text/plain": [
              "<Figure size 720x720 with 2 Axes>"
            ],
            "image/png": "[encoded data removed]"
          },
          "metadata": {
            "needs_background": "light"
          }
        }
      ],
      "source": [
        "plt.figure(figsize=(10,10))\n",
        "plt.imshow(RSG_train_X_multi.corr(),cmap=\"gray\")\n",
        "plt.colorbar()"
      ]
    },
    {
      "cell_type": "code",
      "execution_count": null,
      "metadata": {
        "id": "jgG248EiMNmX"
      },
      "outputs": [],
      "source": [
        "scaler_X_multi=MinMaxScaler()\n",
        "scaler_Y_multi=MinMaxScaler()\n",
        "scaler_X_multi.fit(RSG_train_X_multi)\n",
        "scaler_Y_multi.fit(RSG_train_Y_multi)\n",
        "scaled_X_train_multi=scaler_X_multi.transform(RSG_train_X_multi)\n",
        "scaled_X_test_multi=scaler_X_multi.transform(RSG_test_X_multi)\n",
        "scaled_Y_train_multi=scaler_Y_multi.transform(RSG_train_Y_multi)\n",
        "scaled_Y_test_multi=scaler_Y_multi.transform(RSG_test_Y_multi)"
      ]
    },
    {
      "cell_type": "code",
      "execution_count": null,
      "metadata": {
        "id": "AyR72pOQnFyJ"
      },
      "outputs": [],
      "source": [
        "train_generator_multi = TimeseriesGenerator(scaled_X_train_multi, scaled_Y_train_multi, length=n_steps, batch_size=100)\n",
        "test_generator_multi=TimeseriesGenerator(scaled_X_test_multi, scaled_Y_test_multi,length=n_steps,batch_size=100)"
      ]
    },
    {
      "cell_type": "code",
      "execution_count": null,
      "metadata": {
        "id": "O6Q6am2at4jf"
      },
      "outputs": [],
      "source": [
        "X,y=train_generator_multi[0]\n"
      ]
    },
    {
      "cell_type": "markdown",
      "source": [
        "In this part we created a simple 2 layers LSTM to test the feature selection and also the preprocessing of data."
      ],
      "metadata": {
        "id": "LgYHLYbjZrkY"
      }
    },
    {
      "cell_type": "code",
      "execution_count": null,
      "metadata": {
        "id": "BpA4R0Kss051"
      },
      "outputs": [],
      "source": [
        "from keras.layers.recurrent_v2 import LSTM\n",
        "# define model\n",
        "n_features=10\n",
        "model = Sequential()\n",
        "model.add(LSTM(30, input_shape=(n_steps,n_features),activation='relu',return_sequences=True))\n",
        "model.add(LSTM(30,activation='relu',return_sequences=False))\n",
        "model.add(Dense(3, activation = \"linear\"))\n",
        "\n",
        "model.compile(loss='mse', optimizer='adam')"
      ]
    },
    {
      "cell_type": "code",
      "execution_count": null,
      "metadata": {
        "colab": {
          "base_uri": "https://localhost:8080/"
        },
        "id": "4ENryDJZtTnJ",
        "outputId": "5d1eaf4c-7d60-48c2-e976-3278228865a8"
      },
      "outputs": [
        {
          "output_type": "stream",
          "name": "stdout",
          "text": [
            "Model: \"sequential\"\n",
            "_________________________________________________________________\n",
            " Layer (type)                Output Shape              Param #   \n",
            "=================================================================\n",
            " lstm (LSTM)                 (None, 20, 30)            4920      \n",
            "                                                                 \n",
            " lstm_1 (LSTM)               (None, 30)                7320      \n",
            "                                                                 \n",
            " dense (Dense)               (None, 3)                 93        \n",
            "                                                                 \n",
            "=================================================================\n",
            "Total params: 12,333\n",
            "Trainable params: 12,333\n",
            "Non-trainable params: 0\n",
            "_________________________________________________________________\n"
          ]
        }
      ],
      "source": [
        "model.summary()"
      ]
    },
    {
      "cell_type": "code",
      "execution_count": null,
      "metadata": {
        "colab": {
          "base_uri": "https://localhost:8080/"
        },
        "id": "D3ltG3PNthrO",
        "outputId": "1a64b378-14fc-4c2c-e770-1afd7ea9e0d3"
      },
      "outputs": [
        {
          "output_type": "stream",
          "name": "stdout",
          "text": [
            "Epoch 1/100\n",
            "82/82 [==============================] - 5s 28ms/step - loss: 0.0787 - val_loss: 0.0094\n",
            "Epoch 2/100\n",
            "82/82 [==============================] - 2s 26ms/step - loss: 0.0048 - val_loss: 0.0028\n",
            "Epoch 3/100\n",
            "82/82 [==============================] - 2s 23ms/step - loss: 0.0028 - val_loss: 0.0028\n",
            "Epoch 4/100\n",
            "82/82 [==============================] - 2s 24ms/step - loss: 0.0028 - val_loss: 0.0028\n",
            "Epoch 5/100\n",
            "82/82 [==============================] - 2s 25ms/step - loss: 0.0028 - val_loss: 0.0028\n",
            "Epoch 6/100\n",
            "82/82 [==============================] - 2s 24ms/step - loss: 0.0029 - val_loss: 0.0027\n",
            "Epoch 7/100\n",
            "82/82 [==============================] - 2s 25ms/step - loss: 0.0026 - val_loss: 0.0034\n",
            "Epoch 8/100\n",
            "82/82 [==============================] - 2s 24ms/step - loss: 0.0026 - val_loss: 0.0023\n",
            "Epoch 9/100\n",
            "82/82 [==============================] - 2s 23ms/step - loss: 0.0025 - val_loss: 0.0029\n",
            "Epoch 10/100\n",
            "82/82 [==============================] - 2s 25ms/step - loss: 0.0028 - val_loss: 0.0021\n",
            "Epoch 11/100\n",
            "82/82 [==============================] - 2s 27ms/step - loss: 0.0024 - val_loss: 0.0021\n",
            "Epoch 12/100\n",
            "82/82 [==============================] - 2s 24ms/step - loss: 0.0023 - val_loss: 0.0024\n",
            "Epoch 13/100\n",
            "82/82 [==============================] - 2s 25ms/step - loss: 0.0023 - val_loss: 0.0021\n",
            "Epoch 14/100\n",
            "82/82 [==============================] - 2s 25ms/step - loss: 0.0025 - val_loss: 0.0019\n",
            "Epoch 15/100\n",
            "82/82 [==============================] - 2s 25ms/step - loss: 0.0023 - val_loss: 0.0020\n",
            "Epoch 16/100\n",
            "82/82 [==============================] - 2s 25ms/step - loss: 0.0021 - val_loss: 0.0022\n",
            "Epoch 17/100\n",
            "82/82 [==============================] - 2s 24ms/step - loss: 0.0022 - val_loss: 0.0018\n",
            "Epoch 18/100\n",
            "82/82 [==============================] - 2s 25ms/step - loss: 0.0020 - val_loss: 0.0022\n",
            "Epoch 19/100\n",
            "82/82 [==============================] - 2s 23ms/step - loss: 0.0020 - val_loss: 0.0020\n",
            "Epoch 20/100\n",
            "82/82 [==============================] - 2s 25ms/step - loss: 0.0020 - val_loss: 0.0017\n",
            "Epoch 21/100\n",
            "82/82 [==============================] - 3s 38ms/step - loss: 0.0020 - val_loss: 0.0020\n",
            "Epoch 22/100\n",
            "82/82 [==============================] - 2s 25ms/step - loss: 0.0020 - val_loss: 0.0020\n",
            "Epoch 23/100\n",
            "82/82 [==============================] - 2s 24ms/step - loss: 0.0020 - val_loss: 0.0016\n",
            "Epoch 24/100\n",
            "82/82 [==============================] - 2s 24ms/step - loss: 0.0018 - val_loss: 0.0016\n",
            "Epoch 25/100\n",
            "82/82 [==============================] - 2s 24ms/step - loss: 0.0020 - val_loss: 0.0021\n",
            "Epoch 26/100\n",
            "82/82 [==============================] - 2s 23ms/step - loss: 0.0019 - val_loss: 0.0021\n",
            "Epoch 27/100\n",
            "82/82 [==============================] - 2s 24ms/step - loss: 0.0017 - val_loss: 0.0016\n",
            "Epoch 28/100\n",
            "82/82 [==============================] - 2s 24ms/step - loss: 0.0017 - val_loss: 0.0016\n",
            "Epoch 29/100\n",
            "82/82 [==============================] - 2s 23ms/step - loss: 0.0016 - val_loss: 0.0015\n",
            "Epoch 30/100\n",
            "82/82 [==============================] - 2s 24ms/step - loss: 0.0017 - val_loss: 0.0017\n",
            "Epoch 31/100\n",
            "82/82 [==============================] - 2s 24ms/step - loss: 0.0017 - val_loss: 0.0023\n",
            "Epoch 32/100\n",
            "82/82 [==============================] - 2s 24ms/step - loss: 0.0017 - val_loss: 0.0013\n",
            "Epoch 33/100\n",
            "82/82 [==============================] - 2s 25ms/step - loss: 0.0016 - val_loss: 0.0014\n",
            "Epoch 34/100\n",
            "82/82 [==============================] - 2s 24ms/step - loss: 0.0016 - val_loss: 0.0017\n",
            "Epoch 35/100\n",
            "82/82 [==============================] - 2s 24ms/step - loss: 0.0014 - val_loss: 0.0012\n",
            "Epoch 36/100\n",
            "82/82 [==============================] - 2s 24ms/step - loss: 0.0014 - val_loss: 0.0013\n",
            "Epoch 37/100\n",
            "82/82 [==============================] - 2s 26ms/step - loss: 0.0014 - val_loss: 0.0013\n",
            "Epoch 38/100\n",
            "82/82 [==============================] - 2s 24ms/step - loss: 0.0014 - val_loss: 0.0015\n",
            "Epoch 39/100\n",
            "82/82 [==============================] - 2s 24ms/step - loss: 0.0014 - val_loss: 0.0013\n",
            "Epoch 40/100\n",
            "82/82 [==============================] - 2s 25ms/step - loss: 0.0015 - val_loss: 0.0014\n",
            "Epoch 41/100\n",
            "82/82 [==============================] - 2s 25ms/step - loss: 0.0018 - val_loss: 0.0012\n",
            "Epoch 42/100\n",
            "82/82 [==============================] - 2s 23ms/step - loss: 0.0015 - val_loss: 0.0012\n",
            "Epoch 43/100\n",
            "82/82 [==============================] - 2s 24ms/step - loss: 0.0015 - val_loss: 0.0013\n",
            "Epoch 44/100\n",
            "82/82 [==============================] - 2s 23ms/step - loss: 0.0014 - val_loss: 0.0013\n",
            "Epoch 45/100\n",
            "82/82 [==============================] - 2s 25ms/step - loss: 0.0013 - val_loss: 0.0013\n",
            "Epoch 46/100\n",
            "82/82 [==============================] - 2s 24ms/step - loss: 0.0013 - val_loss: 0.0014\n",
            "Epoch 47/100\n",
            "82/82 [==============================] - 2s 24ms/step - loss: 0.0014 - val_loss: 0.0012\n",
            "Epoch 48/100\n",
            "82/82 [==============================] - 2s 23ms/step - loss: 0.0013 - val_loss: 0.0011\n",
            "Epoch 49/100\n",
            "82/82 [==============================] - 2s 24ms/step - loss: 0.0013 - val_loss: 0.0012\n",
            "Epoch 50/100\n",
            "82/82 [==============================] - 2s 26ms/step - loss: 0.0013 - val_loss: 0.0011\n",
            "Epoch 51/100\n",
            "82/82 [==============================] - 2s 23ms/step - loss: 0.0013 - val_loss: 0.0012\n",
            "Epoch 52/100\n",
            "82/82 [==============================] - 2s 24ms/step - loss: 0.0013 - val_loss: 0.0011\n",
            "Epoch 53/100\n",
            "82/82 [==============================] - 2s 24ms/step - loss: 0.0012 - val_loss: 0.0012\n",
            "Epoch 54/100\n",
            "82/82 [==============================] - 2s 23ms/step - loss: 0.0014 - val_loss: 0.0012\n",
            "Epoch 55/100\n",
            "82/82 [==============================] - 2s 23ms/step - loss: 0.0013 - val_loss: 0.0012\n",
            "Epoch 56/100\n",
            "82/82 [==============================] - 2s 23ms/step - loss: 0.0012 - val_loss: 0.0011\n",
            "Epoch 57/100\n",
            "82/82 [==============================] - 2s 24ms/step - loss: 0.0012 - val_loss: 0.0012\n",
            "Epoch 58/100\n",
            "82/82 [==============================] - 2s 24ms/step - loss: 0.0012 - val_loss: 0.0011\n",
            "Epoch 59/100\n",
            "82/82 [==============================] - 2s 24ms/step - loss: 0.0012 - val_loss: 0.0012\n",
            "Epoch 60/100\n",
            "82/82 [==============================] - 2s 24ms/step - loss: 0.0012 - val_loss: 0.0013\n",
            "Epoch 61/100\n",
            "82/82 [==============================] - 2s 24ms/step - loss: 0.0012 - val_loss: 0.0013\n",
            "Epoch 62/100\n",
            "82/82 [==============================] - 2s 25ms/step - loss: 0.0011 - val_loss: 0.0012\n",
            "Epoch 63/100\n",
            "82/82 [==============================] - 2s 24ms/step - loss: 0.0014 - val_loss: 0.0020\n",
            "Epoch 64/100\n",
            "82/82 [==============================] - 2s 23ms/step - loss: 0.0014 - val_loss: 0.0010\n",
            "Epoch 65/100\n",
            "82/82 [==============================] - 2s 24ms/step - loss: 0.0012 - val_loss: 0.0011\n",
            "Epoch 66/100\n",
            "82/82 [==============================] - 2s 24ms/step - loss: 0.0011 - val_loss: 0.0012\n",
            "Epoch 67/100\n",
            "82/82 [==============================] - 2s 24ms/step - loss: 0.0011 - val_loss: 0.0011\n",
            "Epoch 68/100\n",
            "82/82 [==============================] - 2s 24ms/step - loss: 0.0011 - val_loss: 0.0010\n",
            "Epoch 69/100\n",
            "82/82 [==============================] - 2s 24ms/step - loss: 0.0011 - val_loss: 0.0012\n",
            "Epoch 70/100\n",
            "82/82 [==============================] - 2s 27ms/step - loss: 0.0011 - val_loss: 0.0010\n",
            "Epoch 71/100\n",
            "82/82 [==============================] - 2s 24ms/step - loss: 0.0011 - val_loss: 0.0011\n",
            "Epoch 72/100\n",
            "82/82 [==============================] - 2s 24ms/step - loss: 0.0011 - val_loss: 0.0012\n",
            "Epoch 73/100\n",
            "82/82 [==============================] - 2s 24ms/step - loss: 0.0011 - val_loss: 0.0010\n",
            "Epoch 74/100\n",
            "82/82 [==============================] - 2s 23ms/step - loss: 0.0012 - val_loss: 0.0011\n",
            "Epoch 75/100\n",
            "82/82 [==============================] - 2s 25ms/step - loss: 0.0011 - val_loss: 0.0010\n",
            "Epoch 76/100\n",
            "82/82 [==============================] - 2s 24ms/step - loss: 0.0011 - val_loss: 0.0010\n",
            "Epoch 77/100\n",
            "82/82 [==============================] - 2s 23ms/step - loss: 0.0011 - val_loss: 9.9733e-04\n",
            "Epoch 78/100\n",
            "82/82 [==============================] - 2s 24ms/step - loss: 0.0010 - val_loss: 9.4693e-04\n",
            "Epoch 79/100\n",
            "82/82 [==============================] - 2s 24ms/step - loss: 0.0011 - val_loss: 0.0012\n",
            "Epoch 80/100\n",
            "82/82 [==============================] - 2s 24ms/step - loss: 0.0010 - val_loss: 9.3817e-04\n",
            "Epoch 81/100\n",
            "82/82 [==============================] - 3s 31ms/step - loss: 0.0010 - val_loss: 0.0010\n",
            "Epoch 82/100\n",
            "82/82 [==============================] - 2s 23ms/step - loss: 0.0011 - val_loss: 0.0010\n",
            "Epoch 83/100\n",
            "82/82 [==============================] - 2s 25ms/step - loss: 0.0011 - val_loss: 9.8780e-04\n",
            "Epoch 84/100\n",
            "82/82 [==============================] - 2s 23ms/step - loss: 0.0010 - val_loss: 0.0011\n",
            "Epoch 85/100\n",
            "82/82 [==============================] - 2s 23ms/step - loss: 0.0010 - val_loss: 0.0011\n",
            "Epoch 86/100\n",
            "82/82 [==============================] - 2s 25ms/step - loss: 0.0011 - val_loss: 0.0012\n",
            "Epoch 87/100\n",
            "82/82 [==============================] - 2s 24ms/step - loss: 0.0011 - val_loss: 9.9064e-04\n",
            "Epoch 88/100\n",
            "82/82 [==============================] - 2s 24ms/step - loss: 0.0010 - val_loss: 0.0011\n",
            "Epoch 89/100\n",
            "82/82 [==============================] - 2s 23ms/step - loss: 0.0010 - val_loss: 9.6788e-04\n",
            "Epoch 90/100\n",
            "82/82 [==============================] - 2s 24ms/step - loss: 9.9359e-04 - val_loss: 0.0010\n",
            "Epoch 91/100\n",
            "82/82 [==============================] - 2s 24ms/step - loss: 0.0010 - val_loss: 9.6722e-04\n",
            "Epoch 92/100\n",
            "82/82 [==============================] - 2s 24ms/step - loss: 0.0010 - val_loss: 0.0010\n",
            "Epoch 93/100\n",
            "82/82 [==============================] - 2s 25ms/step - loss: 0.0010 - val_loss: 9.3856e-04\n",
            "Epoch 94/100\n",
            "82/82 [==============================] - 2s 24ms/step - loss: 0.0010 - val_loss: 0.0012\n",
            "Epoch 95/100\n",
            "82/82 [==============================] - 2s 25ms/step - loss: 0.0011 - val_loss: 9.4379e-04\n",
            "Epoch 96/100\n",
            "82/82 [==============================] - 2s 24ms/step - loss: 0.0012 - val_loss: 9.7178e-04\n",
            "Epoch 97/100\n",
            "82/82 [==============================] - 2s 24ms/step - loss: 0.0010 - val_loss: 9.9314e-04\n",
            "Epoch 98/100\n",
            "82/82 [==============================] - 2s 24ms/step - loss: 9.7938e-04 - val_loss: 8.9982e-04\n",
            "Epoch 99/100\n",
            "82/82 [==============================] - 2s 23ms/step - loss: 9.8374e-04 - val_loss: 9.2011e-04\n",
            "Epoch 100/100\n",
            "82/82 [==============================] - 2s 24ms/step - loss: 9.9432e-04 - val_loss: 9.6655e-04\n"
          ]
        },
        {
          "output_type": "execute_result",
          "data": {
            "text/plain": [
              "<keras.callbacks.History at 0x7f4e4fbd4190>"
            ]
          },
          "metadata": {},
          "execution_count": 31
        }
      ],
      "source": [
        "model.fit(train_generator_multi, epochs=100,validation_data=test_generator_multi)"
      ]
    },
    {
      "cell_type": "code",
      "execution_count": null,
      "metadata": {
        "colab": {
          "base_uri": "https://localhost:8080/",
          "height": 282
        },
        "id": "vHNR-Ajmw-ZR",
        "outputId": "8fe8b5ae-2d93-486f-8765-189695fef62a"
      },
      "outputs": [
        {
          "output_type": "execute_result",
          "data": {
            "text/plain": [
              "<matplotlib.legend.Legend at 0x7f4e4e2f0d10>"
            ]
          },
          "metadata": {},
          "execution_count": 32
        },
        {
          "output_type": "display_data",
          "data": {
            "text/plain": [
              "<Figure size 432x288 with 1 Axes>"
            ],
            "image/png": "[encoded data removed]"
          },
          "metadata": {
            "needs_background": "light"
          }
        }
      ],
      "source": [
        "loss_per_epoch = model.history.history['loss']\n",
        "loss_vall=model.history.history['val_loss']\n",
        "plt.plot(range(len(loss_per_epoch)),loss_per_epoch,label=\"test-loss\")\n",
        "plt.plot(range(len(loss_vall)),loss_vall,label=\"validation-loss\")\n",
        "plt.legend()"
      ]
    },
    {
      "cell_type": "markdown",
      "source": [
        "In comparison to the notebook prediction_power_lstm_multi, it appears that the training go smoothly and we don't have overtfitting issue."
      ],
      "metadata": {
        "id": "m_N6Ix5raFkS"
      }
    },
    {
      "cell_type": "code",
      "execution_count": null,
      "metadata": {
        "id": "KX-9mRsevDl7"
      },
      "outputs": [],
      "source": [
        "N=1000\n",
        "Q=0\n",
        "L_true_R=  list(RSG_train_Y_multi.iloc[n_steps+1+Q:n_steps+1+Q+N,0])\n",
        "L_true_S=  list(RSG_train_Y_multi.iloc[n_steps+1+Q:n_steps+1+Q+N,1])\n",
        "L_true_T=  list(RSG_train_Y_multi.iloc[n_steps+1+Q:n_steps+1+Q+N,2])"
      ]
    },
    {
      "cell_type": "code",
      "execution_count": null,
      "metadata": {
        "id": "7A5IwjRRvPu_"
      },
      "outputs": [],
      "source": [
        "trainPredict = model.predict(train_generator_multi)\n",
        "testPredict = model.predict(test_generator_multi)"
      ]
    },
    {
      "cell_type": "code",
      "execution_count": null,
      "metadata": {
        "id": "DZaBJ8H1vVFc"
      },
      "outputs": [],
      "source": [
        "true_pre_r=scaler_Y_multi.inverse_transform(trainPredict)"
      ]
    },
    {
      "cell_type": "code",
      "execution_count": null,
      "metadata": {
        "colab": {
          "base_uri": "https://localhost:8080/",
          "height": 265
        },
        "id": "3XVoWW4DvYrJ",
        "outputId": "7555ce30-33ca-474a-c339-e3d501b88e69"
      },
      "outputs": [
        {
          "output_type": "display_data",
          "data": {
            "text/plain": [
              "<Figure size 432x288 with 1 Axes>"
            ],
            "image/png": "[encoded data removed]"
          },
          "metadata": {
            "needs_background": "light"
          }
        }
      ],
      "source": [
        "plt.plot(range(len(L_true_R)),true_pre_r[Q:Q+N,0],label='Prediction global R')\n",
        "plt.plot(range(len(L_true_R)),true_pre_r[Q:Q+N,1],label='Prediction global S')\n",
        "plt.plot(range(len(L_true_R)),true_pre_r[Q:Q+N,2],label='Prediction global T')\n",
        "plt.plot(range(len(L_true_R)),L_true_R,label='RSG_R')\n",
        "plt.plot(range(len(L_true_S)),L_true_S,label='RSG_S')\n",
        "plt.plot(range(len(L_true_T)),L_true_T,label='RSG_T')\n",
        "plt.legend()\n",
        "plt.show()"
      ]
    },
    {
      "cell_type": "markdown",
      "source": [
        "The prediction seems here to be very good, but as the features are highly correlated to the targets, it's not very surprising. The two functions bellow serve to create models using input such as the number of layer, number of neurons pro layer etc. It allow to make a lot of different model into a loop."
      ],
      "metadata": {
        "id": "p0gOjyXKaofF"
      }
    },
    {
      "cell_type": "code",
      "execution_count": null,
      "metadata": {
        "id": "UA1p9KFFOuzE"
      },
      "outputs": [],
      "source": [
        "def create_Model_uni(n_input, neurons = 100, layers=3,n_features=0,type_mod=\"LSTM\"):\n",
        "  # define model\n",
        "  model = Sequential()\n",
        "  if(type_mod==\"LSTM\"):\n",
        "    if(layers>1):\n",
        "      model.add(LSTM(neurons, activation='relu', input_shape=(n_input, n_features+1),return_sequences=True))\n",
        "      for i in range(layers-2):\n",
        "        model.add(LSTM(neurons, activation='relu',return_sequences=True))\n",
        "      model.add(LSTM(neurons, activation='relu'))\n",
        "    else:\n",
        "      model.add(LSTM(neurons, activation='relu', input_shape=(n_input, n_features+1)))\n",
        "    model.add(Dense(1))\n",
        "  if(type_mod==\"GRU\"):\n",
        "    if(layers>1):\n",
        "      model.add(GRU(neurons, activation='relu', input_shape=(n_input, n_features+1),return_sequences=True))\n",
        "      for i in range(layers-2):\n",
        "        model.add(GRU(neurons, activation='relu',return_sequences=True))\n",
        "      model.add(GRU(neurons, activation='relu'))\n",
        "    else:\n",
        "      model.add(GRU(neurons, activation='relu', input_shape=(n_input, n_features+1)))\n",
        "    model.add(Dense(1))\n",
        "  if(type_mod==\"RNN\"):\n",
        "    if(layers>1):\n",
        "      model.add(SimpleRNN(neurons, activation='relu', input_shape=(n_input, n_features+1),return_sequences=True))\n",
        "      for i in range(layers-2):\n",
        "        model.add(SimpleRNN(neurons, activation='relu',return_sequences=True))\n",
        "      model.add(SimpleRNN(neurons, activation='relu'))\n",
        "    else:\n",
        "      model.add(SimpleRNN(neurons, activation='relu', input_shape=(n_input, n_features+1)))\n",
        "    model.add(Dense(1))\n",
        "  if(type_mod==\"LSTM_BI\"):\n",
        "    if(layers>1):\n",
        "      model.add(Bidirectional(LSTM(neurons, activation='relu', input_shape=(n_steps, n_features),return_sequences=True)))\n",
        "      for i in range(layers-2):\n",
        "        model.add(Bidirectional(LSTM(neurons, activation='relu',return_sequences=True)))\n",
        "      model.add(Bidirectional(LSTM(neurons, activation='relu')))\n",
        "    else:\n",
        "      model.add(Bidirectional(LSTM(neurons, activation='relu', input_shape=(n_input, n_features+1))))\n",
        "    model.add(Dense(1))\n",
        "  model.compile(loss='mse', optimizer='adam')\n",
        "  return model"
      ]
    },
    {
      "cell_type": "code",
      "execution_count": null,
      "metadata": {
        "id": "R2kDHPdeSTnZ"
      },
      "outputs": [],
      "source": [
        "def create_Model(n_input, neurons = 100, layers=3,n_features=9,type_mod=\"LSTM\"):\n",
        "  # define model\n",
        "  model = Sequential()\n",
        "  if(type_mod==\"LSTM\"):\n",
        "    if(layers>1):\n",
        "      model.add(LSTM(neurons, activation='relu', input_shape=(n_input, n_features+1),return_sequences=True))\n",
        "      for i in range(layers-2):\n",
        "        model.add(LSTM(neurons, activation='relu',return_sequences=True))\n",
        "      model.add(LSTM(neurons, activation='relu'))\n",
        "    else:\n",
        "      model.add(LSTM(neurons, activation='relu', input_shape=(n_input, n_features+1)))\n",
        "    model.add(Dense(3))\n",
        "  if(type_mod==\"GRU\"):\n",
        "    if(layers>1):\n",
        "      model.add(GRU(neurons, activation='relu', input_shape=(n_input, n_features+1),return_sequences=True))\n",
        "      for i in range(layers-2):\n",
        "        model.add(GRU(neurons, activation='relu',return_sequences=True))\n",
        "      model.add(GRU(neurons, activation='relu'))\n",
        "    else:\n",
        "      model.add(GRU(neurons, activation='relu', input_shape=(n_input, n_features+1)))\n",
        "    model.add(Dense(3))\n",
        "  if(type_mod==\"RNN\"):\n",
        "    if(layers>1):\n",
        "      model.add(SimpleRNN(neurons, activation='relu', input_shape=(n_input, n_features+1),return_sequences=True))\n",
        "      for i in range(layers-2):\n",
        "        model.add(SimpleRNN(neurons, activation='relu',return_sequences=True))\n",
        "      model.add(SimpleRNN(neurons, activation='relu'))\n",
        "    else:\n",
        "      model.add(SimpleRNN(neurons, activation='relu', input_shape=(n_input, n_features+1)))\n",
        "    model.add(Dense(3))\n",
        "  if(type_mod==\"LSTM_BI\"):\n",
        "    if(layers>1):\n",
        "      model.add(Bidirectional(LSTM(neurons, activation='relu', input_shape=(n_steps, n_features),return_sequences=True)))\n",
        "      for i in range(layers-2):\n",
        "        model.add(Bidirectional(LSTM(neurons, activation='relu',return_sequences=True)))\n",
        "      model.add(Bidirectional(LSTM(neurons, activation='relu')))\n",
        "    else:\n",
        "      model.add(Bidirectional(LSTM(neurons, activation='relu', input_shape=(n_input, n_features+1))))\n",
        "    model.add(Dense(3))\n",
        "  model.compile(loss='mse', optimizer='adam')\n",
        "  return model"
      ]
    },
    {
      "cell_type": "code",
      "execution_count": null,
      "metadata": {
        "id": "K0tV08WJSTkq"
      },
      "outputs": [],
      "source": [
        "precedent_result=[]"
      ]
    },
    {
      "cell_type": "code",
      "execution_count": null,
      "metadata": {
        "id": "rF_cAjcTSTg5"
      },
      "outputs": [],
      "source": [
        "import json"
      ]
    },
    {
      "cell_type": "code",
      "execution_count": null,
      "metadata": {
        "id": "GE6_AnNXSTaU"
      },
      "outputs": [],
      "source": [
        "with open(\"./drive/MyDrive/DatosInvestigacion/Reccurent_neural_network_result.txt\",'r') as fp:\n",
        "    for line in fp:\n",
        "      precedent_result.append(json.loads(line))"
      ]
    },
    {
      "cell_type": "code",
      "execution_count": null,
      "metadata": {
        "id": "nNRDOY93STPZ"
      },
      "outputs": [],
      "source": [
        "df_precedent_result = pd.DataFrame(precedent_result)"
      ]
    },
    {
      "cell_type": "code",
      "execution_count": null,
      "metadata": {
        "id": "Xtm6YYMhY6l6"
      },
      "outputs": [],
      "source": [
        "already_happen_combination=[]"
      ]
    },
    {
      "cell_type": "code",
      "execution_count": null,
      "metadata": {
        "id": "LR_x1jprZB0U"
      },
      "outputs": [],
      "source": [
        "df_result=df_precedent_result"
      ]
    },
    {
      "cell_type": "code",
      "execution_count": null,
      "metadata": {
        "id": "ZLw_sarkZIxK"
      },
      "outputs": [],
      "source": [
        "for i in range(len(df_result)):\n",
        "  already_happen_combination.append((int(df_result.iloc[i]['N_input']),\n",
        "                                   int(df_result.iloc[i]['Neurons']),\n",
        "                                   int(df_result.iloc[i]['Batch size']),\n",
        "                                   int(df_result.iloc[i]['Number of layer']),\n",
        "                                   str(df_result.iloc[i]['Type of model'])))"
      ]
    },
    {
      "cell_type": "code",
      "execution_count": null,
      "metadata": {
        "colab": {
          "base_uri": "https://localhost:8080/"
        },
        "id": "bFSArOiQ_dCX",
        "outputId": "40b7bf71-3b89-4fe0-fbb2-949ee70c7f84"
      },
      "outputs": [
        {
          "output_type": "execute_result",
          "data": {
            "text/plain": [
              "True"
            ]
          },
          "metadata": {},
          "execution_count": 46
        }
      ],
      "source": [
        "(18,50,150,3, \"LSTM\") in already_happen_combination\n",
        "\n"
      ]
    },
    {
      "cell_type": "markdown",
      "source": [
        "Bellow, you have the two procedures used to create dataset including the model caracteristics and his performance using: rmse,mse and mae. One of the procedure concern univariate model, the other multivariate one. "
      ],
      "metadata": {
        "id": "nlUbYzl-bavb"
      }
    },
    {
      "cell_type": "code",
      "execution_count": null,
      "metadata": {
        "id": "5jNr8C7-aCMN"
      },
      "outputs": [],
      "source": [
        "model_type=[\"LSTM\",\"RNN\",\"GRU\",\"LSTM_BI\"]\n",
        "min_RMSE=10000\n",
        "for mod_typ in model_type:\n",
        "  for N_input in range(18,28,2):\n",
        "    for num_neurons in range(50,126,25): \n",
        "      for batch_size in range(50,201,50):\n",
        "        for num_layers in range(1,4):\n",
        "          if((N_input,num_neurons,batch_size,num_layers,mod_typ) in already_happen_combination):\n",
        "            continue\n",
        "          print({\n",
        "              'N_input':N_input,\n",
        "              'Neurons':num_neurons,\n",
        "              'Batch size':batch_size,\n",
        "              'Number of layers': num_layers,\n",
        "              'Type of model':mod_typ,\n",
        "          })\n",
        "          n_input = N_input\n",
        "          n_output = 3\n",
        "          n_features = 9\n",
        "          train_generator_multi_2 = TimeseriesGenerator(scaled_X_train_multi, scaled_Y_train_multi, length=N_input, batch_size=batch_size)\n",
        "          test_generator_multi_2=TimeseriesGenerator(scaled_X_test_multi, scaled_Y_test_multi,length=N_input,batch_size=batch_size)\n",
        "          X,y=train_generator_multi_2[0]\n",
        "          model2 = create_Model(N_input,num_neurons,num_layers,n_features,mod_typ)\n",
        "          model2.fit(train_generator_multi_2, epochs=10,verbose=0)\n",
        "          predictions = model2.predict(test_generator_multi_2)\n",
        "          true_predictions=scaler_Y_multi.inverse_transform(predictions)  \n",
        "          true_values = df_test.iloc[n_input:][[\"Potencia_R_[W]\",\"Potencia_S_[W]\",\"Potencia_T_[W]\"]]\n",
        "\n",
        "          errorMSE = mean_squared_error(true_values,true_predictions)\n",
        "          errorMAE = mean_absolute_error(true_values,true_predictions)\n",
        "          errorRMSE = np.sqrt(errorMSE)\n",
        "          if(errorRMSE<min_RMSE):\n",
        "            print('BEST')\n",
        "            model.save('./drive/MyDrive/DatosInvestigacion/Reccurent_neural_network_result.h5')\n",
        "            min_RMSE = errorRMSE\n",
        "\n",
        "          print('RMSE:',errorRMSE)\n",
        "          print('MAE',errorMAE)\n",
        "          print('min RMSE',min_RMSE)\n",
        "          resultado = {\n",
        "            'N_input':N_input,\n",
        "            'Neurons':num_neurons,\n",
        "            'Batch size':batch_size,\n",
        "            'Number of layer': num_layers,\n",
        "            'Type of model':mod_typ,\n",
        "            'MSE':errorMSE,\n",
        "            'MAE':errorMAE,\n",
        "            'RMSE':errorRMSE\n",
        "        }\n",
        "          with open(\"./drive/MyDrive/DatosInvestigacion/Reccurent_neural_network_result.txt\",\"a\") as file:\n",
        "            resultado = json.dumps(resultado)\n",
        "            file.write(resultado)\n",
        "            file.write('\\n')"
      ]
    },
    {
      "cell_type": "code",
      "execution_count": null,
      "metadata": {
        "id": "ASAqXmDcma1V"
      },
      "outputs": [],
      "source": [
        "precedent_result1=[]"
      ]
    },
    {
      "cell_type": "code",
      "execution_count": null,
      "metadata": {
        "id": "tsJI9X3Qgp5J"
      },
      "outputs": [],
      "source": [
        "with open(\"./drive/MyDrive/DatosInvestigacion/Reccurent_neural_network_result.txt\",'r') as fp:\n",
        "    for line in fp:\n",
        "      precedent_result1.append(json.loads(line))"
      ]
    },
    {
      "cell_type": "code",
      "execution_count": null,
      "metadata": {
        "id": "UBkv1FzXgrM_"
      },
      "outputs": [],
      "source": [
        "df_result = pd.DataFrame(precedent_result1)\n",
        "df_result.drop_duplicates(keep = 'first', inplace=True)"
      ]
    },
    {
      "cell_type": "markdown",
      "source": [
        "The best model here seem to be a vanilla RNN one wich may see a bit surprising. It may have occured because the number of epochs for all model is just 10 wich may be not enough for every model to reach a local minimum in cost function."
      ],
      "metadata": {
        "id": "6qMJn503dnfb"
      }
    },
    {
      "cell_type": "code",
      "execution_count": null,
      "metadata": {
        "colab": {
          "base_uri": "https://localhost:8080/"
        },
        "id": "wucymBPygx3J",
        "outputId": "d1e32de4-4b9d-4c05-f668-6aaadb2e0cac"
      },
      "outputs": [
        {
          "output_type": "stream",
          "name": "stdout",
          "text": [
            "     N_input  Neurons  Batch size  Number of layer Type of model  \\\n",
            "276       18      125          50                1           RNN   \n",
            "\n",
            "               MSE         MAE        RMSE  \n",
            "276  668801.793758  570.670605  817.803029  \n"
          ]
        }
      ],
      "source": [
        "best_param_s=df_result[df_result['RMSE']==df_result['RMSE'].min()]\n",
        "best_param2=df_result[df_result['MAE']==df_result['MAE'].min()]\n",
        "print(best_param_s)"
      ]
    },
    {
      "cell_type": "code",
      "execution_count": null,
      "metadata": {
        "colab": {
          "base_uri": "https://localhost:8080/",
          "height": 522
        },
        "id": "2t7UCqPvykwL",
        "outputId": "1826c585-73ce-474c-f235-976d39b9f055"
      },
      "outputs": [
        {
          "output_type": "execute_result",
          "data": {
            "text/plain": [
              "     N_input  Neurons  Batch size  Number of layer Type of model  \\\n",
              "0         18       50          50                1          LSTM   \n",
              "1         18       50          50                2          LSTM   \n",
              "2         18       50          50                3          LSTM   \n",
              "3         18       50         100                1          LSTM   \n",
              "4         18       50         100                2          LSTM   \n",
              "..       ...      ...         ...              ...           ...   \n",
              "954       26      125         150                1       LSTM_BI   \n",
              "955       26      125         150                2       LSTM_BI   \n",
              "956       26      125         150                3       LSTM_BI   \n",
              "957       26      125         200                1       LSTM_BI   \n",
              "958       26      125         200                2       LSTM_BI   \n",
              "\n",
              "              MSE          MAE         RMSE  \n",
              "0    1.273778e+06   877.160538  1128.617818  \n",
              "1    1.078209e+06   766.257324  1038.368659  \n",
              "2    1.978462e+06  1065.955094  1406.578098  \n",
              "3    1.634014e+06   989.666705  1278.285618  \n",
              "4    1.440096e+06   901.067377  1200.040122  \n",
              "..            ...          ...          ...  \n",
              "954  1.239226e+06   825.394989  1113.205223  \n",
              "955  1.488378e+06   927.803449  1219.990976  \n",
              "956  1.885091e+06  1052.777633  1372.986199  \n",
              "957  1.520910e+06   935.476423  1233.251622  \n",
              "958  1.706762e+06   983.648016  1306.430897  \n",
              "\n",
              "[959 rows x 8 columns]"
            ],
            "text/html": [
              "\n",
              "  <div id=\"df-5de38e0e-b7ea-4b80-ad2c-3f98a327b3a4\">\n",
              "    <div class=\"colab-df-container\">\n",
              "      <div>\n",
              "<style scoped>\n",
              "    .dataframe tbody tr th:only-of-type {\n",
              "        vertical-align: middle;\n",
              "    }\n",
              "\n",
              "    .dataframe tbody tr th {\n",
              "        vertical-align: top;\n",
              "    }\n",
              "\n",
              "    .dataframe thead th {\n",
              "        text-align: right;\n",
              "    }\n",
              "</style>\n",
              "<table border=\"1\" class=\"dataframe\">\n",
              "  <thead>\n",
              "    <tr style=\"text-align: right;\">\n",
              "      <th></th>\n",
              "      <th>N_input</th>\n",
              "      <th>Neurons</th>\n",
              "      <th>Batch size</th>\n",
              "      <th>Number of layer</th>\n",
              "      <th>Type of model</th>\n",
              "      <th>MSE</th>\n",
              "      <th>MAE</th>\n",
              "      <th>RMSE</th>\n",
              "    </tr>\n",
              "  </thead>\n",
              "  <tbody>\n",
              "    <tr>\n",
              "      <th>0</th>\n",
              "      <td>18</td>\n",
              "      <td>50</td>\n",
              "      <td>50</td>\n",
              "      <td>1</td>\n",
              "      <td>LSTM</td>\n",
              "      <td>1.273778e+06</td>\n",
              "      <td>877.160538</td>\n",
              "      <td>1128.617818</td>\n",
              "    </tr>\n",
              "    <tr>\n",
              "      <th>1</th>\n",
              "      <td>18</td>\n",
              "      <td>50</td>\n",
              "      <td>50</td>\n",
              "      <td>2</td>\n",
              "      <td>LSTM</td>\n",
              "      <td>1.078209e+06</td>\n",
              "      <td>766.257324</td>\n",
              "      <td>1038.368659</td>\n",
              "    </tr>\n",
              "    <tr>\n",
              "      <th>2</th>\n",
              "      <td>18</td>\n",
              "      <td>50</td>\n",
              "      <td>50</td>\n",
              "      <td>3</td>\n",
              "      <td>LSTM</td>\n",
              "      <td>1.978462e+06</td>\n",
              "      <td>1065.955094</td>\n",
              "      <td>1406.578098</td>\n",
              "    </tr>\n",
              "    <tr>\n",
              "      <th>3</th>\n",
              "      <td>18</td>\n",
              "      <td>50</td>\n",
              "      <td>100</td>\n",
              "      <td>1</td>\n",
              "      <td>LSTM</td>\n",
              "      <td>1.634014e+06</td>\n",
              "      <td>989.666705</td>\n",
              "      <td>1278.285618</td>\n",
              "    </tr>\n",
              "    <tr>\n",
              "      <th>4</th>\n",
              "      <td>18</td>\n",
              "      <td>50</td>\n",
              "      <td>100</td>\n",
              "      <td>2</td>\n",
              "      <td>LSTM</td>\n",
              "      <td>1.440096e+06</td>\n",
              "      <td>901.067377</td>\n",
              "      <td>1200.040122</td>\n",
              "    </tr>\n",
              "    <tr>\n",
              "      <th>...</th>\n",
              "      <td>...</td>\n",
              "      <td>...</td>\n",
              "      <td>...</td>\n",
              "      <td>...</td>\n",
              "      <td>...</td>\n",
              "      <td>...</td>\n",
              "      <td>...</td>\n",
              "      <td>...</td>\n",
              "    </tr>\n",
              "    <tr>\n",
              "      <th>954</th>\n",
              "      <td>26</td>\n",
              "      <td>125</td>\n",
              "      <td>150</td>\n",
              "      <td>1</td>\n",
              "      <td>LSTM_BI</td>\n",
              "      <td>1.239226e+06</td>\n",
              "      <td>825.394989</td>\n",
              "      <td>1113.205223</td>\n",
              "    </tr>\n",
              "    <tr>\n",
              "      <th>955</th>\n",
              "      <td>26</td>\n",
              "      <td>125</td>\n",
              "      <td>150</td>\n",
              "      <td>2</td>\n",
              "      <td>LSTM_BI</td>\n",
              "      <td>1.488378e+06</td>\n",
              "      <td>927.803449</td>\n",
              "      <td>1219.990976</td>\n",
              "    </tr>\n",
              "    <tr>\n",
              "      <th>956</th>\n",
              "      <td>26</td>\n",
              "      <td>125</td>\n",
              "      <td>150</td>\n",
              "      <td>3</td>\n",
              "      <td>LSTM_BI</td>\n",
              "      <td>1.885091e+06</td>\n",
              "      <td>1052.777633</td>\n",
              "      <td>1372.986199</td>\n",
              "    </tr>\n",
              "    <tr>\n",
              "      <th>957</th>\n",
              "      <td>26</td>\n",
              "      <td>125</td>\n",
              "      <td>200</td>\n",
              "      <td>1</td>\n",
              "      <td>LSTM_BI</td>\n",
              "      <td>1.520910e+06</td>\n",
              "      <td>935.476423</td>\n",
              "      <td>1233.251622</td>\n",
              "    </tr>\n",
              "    <tr>\n",
              "      <th>958</th>\n",
              "      <td>26</td>\n",
              "      <td>125</td>\n",
              "      <td>200</td>\n",
              "      <td>2</td>\n",
              "      <td>LSTM_BI</td>\n",
              "      <td>1.706762e+06</td>\n",
              "      <td>983.648016</td>\n",
              "      <td>1306.430897</td>\n",
              "    </tr>\n",
              "  </tbody>\n",
              "</table>\n",
              "<p>959 rows × 8 columns</p>\n",
              "</div>\n",
              "      <button class=\"colab-df-convert\" onclick=\"convertToInteractive('df-5de38e0e-b7ea-4b80-ad2c-3f98a327b3a4')\"\n",
              "              title=\"Convert this dataframe to an interactive table.\"\n",
              "              style=\"display:none;\">\n",
              "        \n",
              "  <svg xmlns=\"http://www.w3.org/2000/svg\" height=\"24px\"viewBox=\"0 0 24 24\"\n",
              "       width=\"24px\">\n",
              "    <path d=\"M0 0h24v24H0V0z\" fill=\"none\"/>\n",
              "    <path d=\"M18.56 5.44l.94 2.06.94-2.06 2.06-.94-2.06-.94-.94-2.06-.94 2.06-2.06.94zm-11 1L8.5 8.5l.94-2.06 2.06-.94-2.06-.94L8.5 2.5l-.94 2.06-2.06.94zm10 10l.94 2.06.94-2.06 2.06-.94-2.06-.94-.94-2.06-.94 2.06-2.06.94z\"/><path d=\"M17.41 7.96l-1.37-1.37c-.4-.4-.92-.59-1.43-.59-.52 0-1.04.2-1.43.59L10.3 9.45l-7.72 7.72c-.78.78-.78 2.05 0 2.83L4 21.41c.39.39.9.59 1.41.59.51 0 1.02-.2 1.41-.59l7.78-7.78 2.81-2.81c.8-.78.8-2.07 0-2.86zM5.41 20L4 18.59l7.72-7.72 1.47 1.35L5.41 20z\"/>\n",
              "  </svg>\n",
              "      </button>\n",
              "      \n",
              "  <style>\n",
              "    .colab-df-container {\n",
              "      display:flex;\n",
              "      flex-wrap:wrap;\n",
              "      gap: 12px;\n",
              "    }\n",
              "\n",
              "    .colab-df-convert {\n",
              "      background-color: #E8F0FE;\n",
              "      border: none;\n",
              "      border-radius: 50%;\n",
              "      cursor: pointer;\n",
              "      display: none;\n",
              "      fill: #1967D2;\n",
              "      height: 32px;\n",
              "      padding: 0 0 0 0;\n",
              "      width: 32px;\n",
              "    }\n",
              "\n",
              "    .colab-df-convert:hover {\n",
              "      background-color: #E2EBFA;\n",
              "      box-shadow: 0px 1px 2px rgba(60, 64, 67, 0.3), 0px 1px 3px 1px rgba(60, 64, 67, 0.15);\n",
              "      fill: #174EA6;\n",
              "    }\n",
              "\n",
              "    [theme=dark] .colab-df-convert {\n",
              "      background-color: #3B4455;\n",
              "      fill: #D2E3FC;\n",
              "    }\n",
              "\n",
              "    [theme=dark] .colab-df-convert:hover {\n",
              "      background-color: #434B5C;\n",
              "      box-shadow: 0px 1px 3px 1px rgba(0, 0, 0, 0.15);\n",
              "      filter: drop-shadow(0px 1px 2px rgba(0, 0, 0, 0.3));\n",
              "      fill: #FFFFFF;\n",
              "    }\n",
              "  </style>\n",
              "\n",
              "      <script>\n",
              "        const buttonEl =\n",
              "          document.querySelector('#df-5de38e0e-b7ea-4b80-ad2c-3f98a327b3a4 button.colab-df-convert');\n",
              "        buttonEl.style.display =\n",
              "          google.colab.kernel.accessAllowed ? 'block' : 'none';\n",
              "\n",
              "        async function convertToInteractive(key) {\n",
              "          const element = document.querySelector('#df-5de38e0e-b7ea-4b80-ad2c-3f98a327b3a4');\n",
              "          const dataTable =\n",
              "            await google.colab.kernel.invokeFunction('convertToInteractive',\n",
              "                                                     [key], {});\n",
              "          if (!dataTable) return;\n",
              "\n",
              "          const docLinkHtml = 'Like what you see? Visit the ' +\n",
              "            '<a target=\"_blank\" href=https://colab.research.google.com/notebooks/data_table.ipynb>data table notebook</a>'\n",
              "            + ' to learn more about interactive tables.';\n",
              "          element.innerHTML = '';\n",
              "          dataTable['output_type'] = 'display_data';\n",
              "          await google.colab.output.renderOutput(dataTable, element);\n",
              "          const docLink = document.createElement('div');\n",
              "          docLink.innerHTML = docLinkHtml;\n",
              "          element.appendChild(docLink);\n",
              "        }\n",
              "      </script>\n",
              "    </div>\n",
              "  </div>\n",
              "  "
            ]
          },
          "metadata": {},
          "execution_count": 52
        }
      ],
      "source": [
        "df_result.head(-1)"
      ]
    },
    {
      "cell_type": "code",
      "execution_count": null,
      "metadata": {
        "id": "5V8MmPnMQp7G"
      },
      "outputs": [],
      "source": [
        "precedent_result_uni=[]"
      ]
    },
    {
      "cell_type": "code",
      "execution_count": null,
      "metadata": {
        "id": "Hv4r10nIQp4c"
      },
      "outputs": [],
      "source": [
        "with open(\"./drive/MyDrive/DatosInvestigacion/Reccurent_neural_network_result_uni.txt\",'r') as fp:\n",
        "    for line in fp:\n",
        "      precedent_result_uni.append(json.loads(line))"
      ]
    },
    {
      "cell_type": "code",
      "execution_count": null,
      "metadata": {
        "id": "7_mwHA54Qp1v"
      },
      "outputs": [],
      "source": [
        "df_precedent_result_uni = pd.DataFrame(precedent_result_uni)"
      ]
    },
    {
      "cell_type": "code",
      "execution_count": null,
      "metadata": {
        "id": "mn9B3tHRQpyz"
      },
      "outputs": [],
      "source": [
        "already_happen_combination_uni=[]"
      ]
    },
    {
      "cell_type": "code",
      "execution_count": null,
      "metadata": {
        "id": "IwzQZ5IoQpv5"
      },
      "outputs": [],
      "source": [
        "df_result_uni=df_precedent_result_uni"
      ]
    },
    {
      "cell_type": "code",
      "execution_count": null,
      "metadata": {
        "id": "Pr4ubBzrQppq"
      },
      "outputs": [],
      "source": [
        "for i in range(len(df_result_uni)):\n",
        "  already_happen_combination_uni.append((int(df_result_uni.iloc[i]['N_input']),\n",
        "                                   int(df_result_uni.iloc[i]['Neurons']),\n",
        "                                   int(df_result_uni.iloc[i]['Batch size']),\n",
        "                                   int(df_result_uni.iloc[i]['Number of layer']),\n",
        "                                   str(df_result_uni.iloc[i]['Type of model'])))"
      ]
    },
    {
      "cell_type": "code",
      "execution_count": null,
      "metadata": {
        "colab": {
          "base_uri": "https://localhost:8080/"
        },
        "id": "qiE_5s5TPbfD",
        "outputId": "5161f3c8-a46f-4a02-d397-f59970c1ba8f"
      },
      "outputs": [
        {
          "output_type": "stream",
          "name": "stdout",
          "text": [
            "{'N_input': 24, 'Neurons': 125, 'Batch size': 150, 'Number of layers': 3, 'Type of model': 'LSTM_BI'}\n",
            "BEST\n",
            "RMSE: 2540.1222315873615\n",
            "MAE 2281.353274678558\n",
            "min RMSE 2540.1222315873615\n",
            "{'N_input': 24, 'Neurons': 125, 'Batch size': 200, 'Number of layers': 1, 'Type of model': 'LSTM_BI'}\n",
            "RMSE: 2652.6140689494023\n",
            "MAE 2413.8131008619957\n",
            "min RMSE 2540.1222315873615\n",
            "{'N_input': 24, 'Neurons': 125, 'Batch size': 200, 'Number of layers': 2, 'Type of model': 'LSTM_BI'}\n",
            "BEST\n",
            "RMSE: 2428.0646153094963\n",
            "MAE 2163.728222993494\n",
            "min RMSE 2428.0646153094963\n",
            "{'N_input': 24, 'Neurons': 125, 'Batch size': 200, 'Number of layers': 3, 'Type of model': 'LSTM_BI'}\n",
            "BEST\n",
            "RMSE: 2155.194916933198\n",
            "MAE 1864.9446402010358\n",
            "min RMSE 2155.194916933198\n",
            "{'N_input': 26, 'Neurons': 50, 'Batch size': 50, 'Number of layers': 1, 'Type of model': 'LSTM_BI'}\n",
            "BEST\n",
            "RMSE: 2128.470622827544\n",
            "MAE 1875.1739276167052\n",
            "min RMSE 2128.470622827544\n",
            "{'N_input': 26, 'Neurons': 50, 'Batch size': 50, 'Number of layers': 2, 'Type of model': 'LSTM_BI'}\n",
            "RMSE: 2865.799284916723\n",
            "MAE 2669.41292041956\n",
            "min RMSE 2128.470622827544\n",
            "{'N_input': 26, 'Neurons': 50, 'Batch size': 50, 'Number of layers': 3, 'Type of model': 'LSTM_BI'}\n",
            "RMSE: 2911.852819525948\n",
            "MAE 2701.963320324074\n",
            "min RMSE 2128.470622827544\n",
            "{'N_input': 26, 'Neurons': 50, 'Batch size': 100, 'Number of layers': 1, 'Type of model': 'LSTM_BI'}\n",
            "RMSE: 2349.737976032357\n",
            "MAE 2077.0004431905863\n",
            "min RMSE 2128.470622827544\n",
            "{'N_input': 26, 'Neurons': 50, 'Batch size': 100, 'Number of layers': 2, 'Type of model': 'LSTM_BI'}\n",
            "RMSE: 2643.941421654444\n",
            "MAE 2406.1914290856485\n",
            "min RMSE 2128.470622827544\n",
            "{'N_input': 26, 'Neurons': 50, 'Batch size': 100, 'Number of layers': 3, 'Type of model': 'LSTM_BI'}\n",
            "BEST\n",
            "RMSE: 2031.1833602499062\n",
            "MAE 1736.9080243769288\n",
            "min RMSE 2031.1833602499062\n",
            "{'N_input': 26, 'Neurons': 50, 'Batch size': 150, 'Number of layers': 1, 'Type of model': 'LSTM_BI'}\n",
            "RMSE: 2421.914679217332\n",
            "MAE 2141.8994903780867\n",
            "min RMSE 2031.1833602499062\n",
            "{'N_input': 26, 'Neurons': 50, 'Batch size': 150, 'Number of layers': 2, 'Type of model': 'LSTM_BI'}\n",
            "RMSE: 2361.4873187359285\n",
            "MAE 2078.3629075790896\n",
            "min RMSE 2031.1833602499062\n",
            "{'N_input': 26, 'Neurons': 50, 'Batch size': 150, 'Number of layers': 3, 'Type of model': 'LSTM_BI'}\n",
            "RMSE: 2470.7813600702\n",
            "MAE 2214.2551928028547\n",
            "min RMSE 2031.1833602499062\n",
            "{'N_input': 26, 'Neurons': 50, 'Batch size': 200, 'Number of layers': 1, 'Type of model': 'LSTM_BI'}\n",
            "RMSE: 2518.0712865030237\n",
            "MAE 2239.5103581828707\n",
            "min RMSE 2031.1833602499062\n",
            "{'N_input': 26, 'Neurons': 50, 'Batch size': 200, 'Number of layers': 2, 'Type of model': 'LSTM_BI'}\n",
            "RMSE: 2892.338679181758\n",
            "MAE 2645.561749722222\n",
            "min RMSE 2031.1833602499062\n",
            "{'N_input': 26, 'Neurons': 50, 'Batch size': 200, 'Number of layers': 3, 'Type of model': 'LSTM_BI'}\n",
            "RMSE: 2392.8834714021937\n",
            "MAE 2040.8043344907408\n",
            "min RMSE 2031.1833602499062\n",
            "{'N_input': 26, 'Neurons': 75, 'Batch size': 50, 'Number of layers': 1, 'Type of model': 'LSTM_BI'}\n",
            "RMSE: 2654.5717819553784\n",
            "MAE 2442.9711679301695\n",
            "min RMSE 2031.1833602499062\n",
            "{'N_input': 26, 'Neurons': 75, 'Batch size': 50, 'Number of layers': 2, 'Type of model': 'LSTM_BI'}\n",
            "BEST\n",
            "RMSE: 1740.812648517935\n",
            "MAE 1445.7256345659723\n",
            "min RMSE 1740.812648517935\n",
            "{'N_input': 26, 'Neurons': 75, 'Batch size': 50, 'Number of layers': 3, 'Type of model': 'LSTM_BI'}\n",
            "RMSE: 2299.7044988953185\n",
            "MAE 2047.0165396759257\n",
            "min RMSE 1740.812648517935\n",
            "{'N_input': 26, 'Neurons': 75, 'Batch size': 100, 'Number of layers': 1, 'Type of model': 'LSTM_BI'}\n",
            "RMSE: 2630.699318024585\n",
            "MAE 2392.0761019155093\n",
            "min RMSE 1740.812648517935\n",
            "{'N_input': 26, 'Neurons': 75, 'Batch size': 100, 'Number of layers': 2, 'Type of model': 'LSTM_BI'}\n",
            "RMSE: 2615.002443973235\n",
            "MAE 2386.6624802469137\n",
            "min RMSE 1740.812648517935\n",
            "{'N_input': 26, 'Neurons': 75, 'Batch size': 100, 'Number of layers': 3, 'Type of model': 'LSTM_BI'}\n",
            "RMSE: 3835.099752630416\n",
            "MAE 3614.8722380883487\n",
            "min RMSE 1740.812648517935\n",
            "{'N_input': 26, 'Neurons': 75, 'Batch size': 150, 'Number of layers': 1, 'Type of model': 'LSTM_BI'}\n",
            "RMSE: 2814.4870561817615\n",
            "MAE 2592.8771791917434\n",
            "min RMSE 1740.812648517935\n",
            "{'N_input': 26, 'Neurons': 75, 'Batch size': 150, 'Number of layers': 2, 'Type of model': 'LSTM_BI'}\n",
            "RMSE: 2677.9498200493\n",
            "MAE 2449.3060647916664\n",
            "min RMSE 1740.812648517935\n",
            "{'N_input': 26, 'Neurons': 75, 'Batch size': 150, 'Number of layers': 3, 'Type of model': 'LSTM_BI'}\n",
            "RMSE: 1926.1675881255494\n",
            "MAE 1610.7983631558643\n",
            "min RMSE 1740.812648517935\n",
            "{'N_input': 26, 'Neurons': 75, 'Batch size': 200, 'Number of layers': 1, 'Type of model': 'LSTM_BI'}\n",
            "RMSE: 2548.9815828864103\n",
            "MAE 2264.1315409375\n",
            "min RMSE 1740.812648517935\n",
            "{'N_input': 26, 'Neurons': 75, 'Batch size': 200, 'Number of layers': 2, 'Type of model': 'LSTM_BI'}\n",
            "RMSE: 3063.509135126265\n",
            "MAE 2839.176645628858\n",
            "min RMSE 1740.812648517935\n",
            "{'N_input': 26, 'Neurons': 75, 'Batch size': 200, 'Number of layers': 3, 'Type of model': 'LSTM_BI'}\n",
            "RMSE: 2426.8400318719764\n",
            "MAE 2137.932636080247\n",
            "min RMSE 1740.812648517935\n",
            "{'N_input': 26, 'Neurons': 100, 'Batch size': 50, 'Number of layers': 1, 'Type of model': 'LSTM_BI'}\n",
            "RMSE: 2446.5408905637687\n",
            "MAE 2223.790739439622\n",
            "min RMSE 1740.812648517935\n",
            "{'N_input': 26, 'Neurons': 100, 'Batch size': 50, 'Number of layers': 2, 'Type of model': 'LSTM_BI'}\n",
            "RMSE: 2250.829294567229\n",
            "MAE 2001.9598235493827\n",
            "min RMSE 1740.812648517935\n",
            "{'N_input': 26, 'Neurons': 100, 'Batch size': 50, 'Number of layers': 3, 'Type of model': 'LSTM_BI'}\n",
            "RMSE: 2981.5999836906262\n",
            "MAE 2775.1396713329473\n",
            "min RMSE 1740.812648517935\n",
            "{'N_input': 26, 'Neurons': 100, 'Batch size': 100, 'Number of layers': 1, 'Type of model': 'LSTM_BI'}\n",
            "RMSE: 2635.7066332370564\n",
            "MAE 2405.712350157214\n",
            "min RMSE 1740.812648517935\n",
            "{'N_input': 26, 'Neurons': 100, 'Batch size': 100, 'Number of layers': 2, 'Type of model': 'LSTM_BI'}\n",
            "RMSE: 2483.255931314802\n",
            "MAE 2249.6062336670525\n",
            "min RMSE 1740.812648517935\n",
            "{'N_input': 26, 'Neurons': 100, 'Batch size': 100, 'Number of layers': 3, 'Type of model': 'LSTM_BI'}\n",
            "RMSE: 2619.5615591345118\n",
            "MAE 2367.864594236111\n",
            "min RMSE 1740.812648517935\n",
            "{'N_input': 26, 'Neurons': 100, 'Batch size': 150, 'Number of layers': 1, 'Type of model': 'LSTM_BI'}\n",
            "RMSE: 2993.2082780985793\n",
            "MAE 2776.223262697724\n",
            "min RMSE 1740.812648517935\n",
            "{'N_input': 26, 'Neurons': 100, 'Batch size': 150, 'Number of layers': 2, 'Type of model': 'LSTM_BI'}\n",
            "RMSE: 2898.6995997402014\n",
            "MAE 2653.5902771749616\n",
            "min RMSE 1740.812648517935\n",
            "{'N_input': 26, 'Neurons': 100, 'Batch size': 150, 'Number of layers': 3, 'Type of model': 'LSTM_BI'}\n",
            "RMSE: 2409.907747096949\n",
            "MAE 2148.5125422395836\n",
            "min RMSE 1740.812648517935\n",
            "{'N_input': 26, 'Neurons': 100, 'Batch size': 200, 'Number of layers': 1, 'Type of model': 'LSTM_BI'}\n",
            "RMSE: 2793.1558755191354\n",
            "MAE 2556.0633000067514\n",
            "min RMSE 1740.812648517935\n",
            "{'N_input': 26, 'Neurons': 100, 'Batch size': 200, 'Number of layers': 2, 'Type of model': 'LSTM_BI'}\n",
            "RMSE: 2920.885446106922\n",
            "MAE 2685.659309834105\n",
            "min RMSE 1740.812648517935\n",
            "{'N_input': 26, 'Neurons': 100, 'Batch size': 200, 'Number of layers': 3, 'Type of model': 'LSTM_BI'}\n",
            "RMSE: 2346.9036233603356\n",
            "MAE 2035.2102519714506\n",
            "min RMSE 1740.812648517935\n",
            "{'N_input': 26, 'Neurons': 125, 'Batch size': 50, 'Number of layers': 1, 'Type of model': 'LSTM_BI'}\n",
            "RMSE: 2652.1520669284305\n",
            "MAE 2442.673131231674\n",
            "min RMSE 1740.812648517935\n",
            "{'N_input': 26, 'Neurons': 125, 'Batch size': 50, 'Number of layers': 2, 'Type of model': 'LSTM_BI'}\n",
            "RMSE: 2565.77525278268\n",
            "MAE 2346.118498773148\n",
            "min RMSE 1740.812648517935\n",
            "{'N_input': 26, 'Neurons': 125, 'Batch size': 50, 'Number of layers': 3, 'Type of model': 'LSTM_BI'}\n",
            "RMSE: 2538.495922773857\n",
            "MAE 2314.7630272897377\n",
            "min RMSE 1740.812648517935\n",
            "{'N_input': 26, 'Neurons': 125, 'Batch size': 100, 'Number of layers': 1, 'Type of model': 'LSTM_BI'}\n",
            "RMSE: 2446.135373184649\n",
            "MAE 2211.60887671875\n",
            "min RMSE 1740.812648517935\n",
            "{'N_input': 26, 'Neurons': 125, 'Batch size': 100, 'Number of layers': 2, 'Type of model': 'LSTM_BI'}\n",
            "RMSE: 2552.1616198537035\n",
            "MAE 2321.554565183256\n",
            "min RMSE 1740.812648517935\n",
            "{'N_input': 26, 'Neurons': 125, 'Batch size': 100, 'Number of layers': 3, 'Type of model': 'LSTM_BI'}\n",
            "RMSE: 2893.013917195326\n",
            "MAE 2668.2505573572525\n",
            "min RMSE 1740.812648517935\n",
            "{'N_input': 26, 'Neurons': 125, 'Batch size': 150, 'Number of layers': 1, 'Type of model': 'LSTM_BI'}\n",
            "RMSE: 2366.0687622681407\n",
            "MAE 2082.9963928452935\n",
            "min RMSE 1740.812648517935\n",
            "{'N_input': 26, 'Neurons': 125, 'Batch size': 150, 'Number of layers': 2, 'Type of model': 'LSTM_BI'}\n",
            "RMSE: 3004.5198980934324\n",
            "MAE 2794.3019171489195\n",
            "min RMSE 1740.812648517935\n",
            "{'N_input': 26, 'Neurons': 125, 'Batch size': 150, 'Number of layers': 3, 'Type of model': 'LSTM_BI'}\n",
            "RMSE: 2847.9472057689054\n",
            "MAE 2625.6507564236113\n",
            "min RMSE 1740.812648517935\n",
            "{'N_input': 26, 'Neurons': 125, 'Batch size': 200, 'Number of layers': 1, 'Type of model': 'LSTM_BI'}\n",
            "RMSE: 2472.6660748100126\n",
            "MAE 2225.8287362943674\n",
            "min RMSE 1740.812648517935\n",
            "{'N_input': 26, 'Neurons': 125, 'Batch size': 200, 'Number of layers': 2, 'Type of model': 'LSTM_BI'}\n",
            "RMSE: 2633.2414309983446\n",
            "MAE 2381.0651190721446\n",
            "min RMSE 1740.812648517935\n",
            "{'N_input': 26, 'Neurons': 125, 'Batch size': 200, 'Number of layers': 3, 'Type of model': 'LSTM_BI'}\n",
            "RMSE: 2640.0077604854746\n",
            "MAE 2374.0567250733025\n",
            "min RMSE 1740.812648517935\n"
          ]
        }
      ],
      "source": [
        "model_type=[\"LSTM\",\"RNN\",\"GRU\",\"LSTM_BI\"]\n",
        "min_RMSE=10000\n",
        "for mod_typ in model_type:\n",
        "  for N_input in range(18,28,2): #hasta dos días y medio hacia el pasado\n",
        "    for num_neurons in range(50,126,25): \n",
        "      for batch_size in range(50,201,50):\n",
        "        for num_layers in range(1,4):\n",
        "          if((N_input,num_neurons,batch_size,num_layers,mod_typ) in already_happen_combination_uni):\n",
        "            continue\n",
        "          print({\n",
        "              'N_input':N_input,\n",
        "              'Neurons':num_neurons,\n",
        "              'Batch size':batch_size,\n",
        "              'Number of layers': num_layers,\n",
        "              'Type of model':mod_typ,\n",
        "          })\n",
        "          n_input = N_input \n",
        "          n_output = 1\n",
        "          n_features =\n",
        "          model2 = create_Model_uni(N_input,num_neurons,num_layers,n_features,mod_typ)\n",
        "          train_generator = TimeseriesGenerator(scaled_train, scaled_train, length=N_input, batch_size=batch_size)\n",
        "          test_generator= TimeseriesGenerator(scaled_test,scaled_test,length=N_input,batch_size=batch_size)\n",
        "          model2.fit(train_generator, epochs=10,verbose=0)\n",
        "          predictions = model2.predict(test_generator)\n",
        "          true_predictions=scaler.inverse_transform(predictions)  \n",
        "          true_values = df_test.iloc[n_input:][[mesure[14]]]\n",
        "          errorMSE = mean_squared_error(true_values,true_predictions)\n",
        "          errorMAE = mean_absolute_error(true_values,true_predictions)\n",
        "          errorRMSE = np.sqrt(errorMSE)\n",
        "          if(errorRMSE<min_RMSE):\n",
        "            print('BEST')\n",
        "            model.save('./drive/MyDrive/DatosInvestigacion/Reccurent_neural_network_result_uni.h5')\n",
        "            min_RMSE = errorRMSE\n",
        "\n",
        "          print('RMSE:',errorRMSE)\n",
        "          print('MAE',errorMAE)\n",
        "          print('min RMSE',min_RMSE)\n",
        "          resultado = {\n",
        "            'N_input':N_input,\n",
        "            'Neurons':num_neurons,\n",
        "            'Batch size':batch_size,\n",
        "            'Number of layer': num_layers,\n",
        "            'Type of model':mod_typ,\n",
        "            'MSE':errorMSE,\n",
        "            'MAE':errorMAE,\n",
        "            'RMSE':errorRMSE\n",
        "        }\n",
        "          with open(\"./drive/MyDrive/DatosInvestigacion/Reccurent_neural_network_result_uni.txt\",\"a\") as file:\n",
        "            resultado = json.dumps(resultado)\n",
        "            file.write(resultado)\n",
        "            file.write('\\n')"
      ]
    },
    {
      "cell_type": "code",
      "source": [
        "precedent_result1_uni=[]"
      ],
      "metadata": {
        "id": "cUPeIM6T3yBR"
      },
      "execution_count": null,
      "outputs": []
    },
    {
      "cell_type": "code",
      "execution_count": null,
      "metadata": {
        "id": "5d5BMV65QquC"
      },
      "outputs": [],
      "source": [
        "with open(\"./drive/MyDrive/DatosInvestigacion/Reccurent_neural_network_result_uni.txt\",'r') as fp:\n",
        "    for line in fp:\n",
        "      precedent_result1_uni.append(json.loads(line))"
      ]
    },
    {
      "cell_type": "code",
      "execution_count": null,
      "metadata": {
        "id": "cBGDa_k7QqrJ"
      },
      "outputs": [],
      "source": [
        "df_result = pd.DataFrame(precedent_result1)\n",
        "df_result.drop_duplicates(keep = 'first', inplace=True)\n",
        "df_result_uni = pd.DataFrame(precedent_result1_uni)\n",
        "df_result_uni.drop_duplicates(keep = 'first', inplace=True)"
      ]
    },
    {
      "cell_type": "code",
      "execution_count": null,
      "metadata": {
        "id": "sWU-i5ONQqmQ",
        "colab": {
          "base_uri": "https://localhost:8080/"
        },
        "outputId": "d3d6d297-6625-4c01-da26-21a54615fef1"
      },
      "outputs": [
        {
          "output_type": "stream",
          "name": "stdout",
          "text": [
            "    N_input  Neurons  Batch size  Number of layer Type of model           MSE  \\\n",
            "83       20      100         200                3          LSTM  2.476131e+06   \n",
            "\n",
            "            MAE         RMSE  \n",
            "83  1175.519782  1573.572545  \n"
          ]
        }
      ],
      "source": [
        "best_param_s=df_result[df_result_uni['RMSE']==df_result_uni['RMSE'].min()]\n",
        "best_param2=df_result[df_result_uni['MAE']==df_result_uni['MAE'].min()]\n",
        "print(best_param2)"
      ]
    },
    {
      "cell_type": "markdown",
      "source": [
        "Concerning univariate models, it seems the best's model are LSTM one. In addition, RMSE and MAE have not the same optimum model."
      ],
      "metadata": {
        "id": "CIKjRz7aeKkU"
      }
    },
    {
      "cell_type": "code",
      "execution_count": null,
      "metadata": {
        "id": "t5fxD5QbPTcr",
        "colab": {
          "base_uri": "https://localhost:8080/"
        },
        "outputId": "26296c62-2db9-4cec-e4a7-891b71a2e1ef"
      },
      "outputs": [
        {
          "output_type": "stream",
          "name": "stdout",
          "text": [
            "     N_input  Neurons  Batch size  Number of layer Type of model  \\\n",
            "113       22       75         100                3          LSTM   \n",
            "\n",
            "              MSE          MAE         RMSE  \n",
            "113  2.882661e+06  1319.447177  1697.840131  \n"
          ]
        }
      ],
      "source": [
        "print(best_param_s)"
      ]
    },
    {
      "cell_type": "code",
      "source": [
        "df_result_uni.head(-5)"
      ],
      "metadata": {
        "colab": {
          "base_uri": "https://localhost:8080/",
          "height": 522
        },
        "id": "FJaC1KaJ4MAI",
        "outputId": "69bae17f-d636-4926-fbe8-9f336cd58548"
      },
      "execution_count": null,
      "outputs": [
        {
          "output_type": "execute_result",
          "data": {
            "text/plain": [
              "     N_input  Neurons  Batch size  Number of layer Type of model  \\\n",
              "0         18       50          50                1          LSTM   \n",
              "1         18       50          50                2          LSTM   \n",
              "2         18       50          50                3          LSTM   \n",
              "3         18       50         100                1          LSTM   \n",
              "4         18       50         100                2          LSTM   \n",
              "..       ...      ...         ...              ...           ...   \n",
              "950       26      125          50                3       LSTM_BI   \n",
              "951       26      125         100                1       LSTM_BI   \n",
              "952       26      125         100                2       LSTM_BI   \n",
              "953       26      125         100                3       LSTM_BI   \n",
              "954       26      125         150                1       LSTM_BI   \n",
              "\n",
              "              MSE          MAE         RMSE  \n",
              "0    6.245423e+06  2279.313959  2499.084522  \n",
              "1    5.744958e+06  2145.520878  2396.864206  \n",
              "2    7.209328e+06  2421.391609  2685.019089  \n",
              "3    5.472416e+06  2094.040197  2339.319644  \n",
              "4    7.589045e+06  2514.626642  2754.822226  \n",
              "..            ...          ...          ...  \n",
              "950  6.443962e+06  2314.763027  2538.495923  \n",
              "951  5.983578e+06  2211.608877  2446.135373  \n",
              "952  6.513529e+06  2321.554565  2552.161620  \n",
              "953  8.369530e+06  2668.250557  2893.013917  \n",
              "954  5.598281e+06  2082.996393  2366.068762  \n",
              "\n",
              "[955 rows x 8 columns]"
            ],
            "text/html": [
              "\n",
              "  <div id=\"df-37aa0caa-c469-43fc-992f-071edca83408\">\n",
              "    <div class=\"colab-df-container\">\n",
              "      <div>\n",
              "<style scoped>\n",
              "    .dataframe tbody tr th:only-of-type {\n",
              "        vertical-align: middle;\n",
              "    }\n",
              "\n",
              "    .dataframe tbody tr th {\n",
              "        vertical-align: top;\n",
              "    }\n",
              "\n",
              "    .dataframe thead th {\n",
              "        text-align: right;\n",
              "    }\n",
              "</style>\n",
              "<table border=\"1\" class=\"dataframe\">\n",
              "  <thead>\n",
              "    <tr style=\"text-align: right;\">\n",
              "      <th></th>\n",
              "      <th>N_input</th>\n",
              "      <th>Neurons</th>\n",
              "      <th>Batch size</th>\n",
              "      <th>Number of layer</th>\n",
              "      <th>Type of model</th>\n",
              "      <th>MSE</th>\n",
              "      <th>MAE</th>\n",
              "      <th>RMSE</th>\n",
              "    </tr>\n",
              "  </thead>\n",
              "  <tbody>\n",
              "    <tr>\n",
              "      <th>0</th>\n",
              "      <td>18</td>\n",
              "      <td>50</td>\n",
              "      <td>50</td>\n",
              "      <td>1</td>\n",
              "      <td>LSTM</td>\n",
              "      <td>6.245423e+06</td>\n",
              "      <td>2279.313959</td>\n",
              "      <td>2499.084522</td>\n",
              "    </tr>\n",
              "    <tr>\n",
              "      <th>1</th>\n",
              "      <td>18</td>\n",
              "      <td>50</td>\n",
              "      <td>50</td>\n",
              "      <td>2</td>\n",
              "      <td>LSTM</td>\n",
              "      <td>5.744958e+06</td>\n",
              "      <td>2145.520878</td>\n",
              "      <td>2396.864206</td>\n",
              "    </tr>\n",
              "    <tr>\n",
              "      <th>2</th>\n",
              "      <td>18</td>\n",
              "      <td>50</td>\n",
              "      <td>50</td>\n",
              "      <td>3</td>\n",
              "      <td>LSTM</td>\n",
              "      <td>7.209328e+06</td>\n",
              "      <td>2421.391609</td>\n",
              "      <td>2685.019089</td>\n",
              "    </tr>\n",
              "    <tr>\n",
              "      <th>3</th>\n",
              "      <td>18</td>\n",
              "      <td>50</td>\n",
              "      <td>100</td>\n",
              "      <td>1</td>\n",
              "      <td>LSTM</td>\n",
              "      <td>5.472416e+06</td>\n",
              "      <td>2094.040197</td>\n",
              "      <td>2339.319644</td>\n",
              "    </tr>\n",
              "    <tr>\n",
              "      <th>4</th>\n",
              "      <td>18</td>\n",
              "      <td>50</td>\n",
              "      <td>100</td>\n",
              "      <td>2</td>\n",
              "      <td>LSTM</td>\n",
              "      <td>7.589045e+06</td>\n",
              "      <td>2514.626642</td>\n",
              "      <td>2754.822226</td>\n",
              "    </tr>\n",
              "    <tr>\n",
              "      <th>...</th>\n",
              "      <td>...</td>\n",
              "      <td>...</td>\n",
              "      <td>...</td>\n",
              "      <td>...</td>\n",
              "      <td>...</td>\n",
              "      <td>...</td>\n",
              "      <td>...</td>\n",
              "      <td>...</td>\n",
              "    </tr>\n",
              "    <tr>\n",
              "      <th>950</th>\n",
              "      <td>26</td>\n",
              "      <td>125</td>\n",
              "      <td>50</td>\n",
              "      <td>3</td>\n",
              "      <td>LSTM_BI</td>\n",
              "      <td>6.443962e+06</td>\n",
              "      <td>2314.763027</td>\n",
              "      <td>2538.495923</td>\n",
              "    </tr>\n",
              "    <tr>\n",
              "      <th>951</th>\n",
              "      <td>26</td>\n",
              "      <td>125</td>\n",
              "      <td>100</td>\n",
              "      <td>1</td>\n",
              "      <td>LSTM_BI</td>\n",
              "      <td>5.983578e+06</td>\n",
              "      <td>2211.608877</td>\n",
              "      <td>2446.135373</td>\n",
              "    </tr>\n",
              "    <tr>\n",
              "      <th>952</th>\n",
              "      <td>26</td>\n",
              "      <td>125</td>\n",
              "      <td>100</td>\n",
              "      <td>2</td>\n",
              "      <td>LSTM_BI</td>\n",
              "      <td>6.513529e+06</td>\n",
              "      <td>2321.554565</td>\n",
              "      <td>2552.161620</td>\n",
              "    </tr>\n",
              "    <tr>\n",
              "      <th>953</th>\n",
              "      <td>26</td>\n",
              "      <td>125</td>\n",
              "      <td>100</td>\n",
              "      <td>3</td>\n",
              "      <td>LSTM_BI</td>\n",
              "      <td>8.369530e+06</td>\n",
              "      <td>2668.250557</td>\n",
              "      <td>2893.013917</td>\n",
              "    </tr>\n",
              "    <tr>\n",
              "      <th>954</th>\n",
              "      <td>26</td>\n",
              "      <td>125</td>\n",
              "      <td>150</td>\n",
              "      <td>1</td>\n",
              "      <td>LSTM_BI</td>\n",
              "      <td>5.598281e+06</td>\n",
              "      <td>2082.996393</td>\n",
              "      <td>2366.068762</td>\n",
              "    </tr>\n",
              "  </tbody>\n",
              "</table>\n",
              "<p>955 rows × 8 columns</p>\n",
              "</div>\n",
              "      <button class=\"colab-df-convert\" onclick=\"convertToInteractive('df-37aa0caa-c469-43fc-992f-071edca83408')\"\n",
              "              title=\"Convert this dataframe to an interactive table.\"\n",
              "              style=\"display:none;\">\n",
              "        \n",
              "  <svg xmlns=\"http://www.w3.org/2000/svg\" height=\"24px\"viewBox=\"0 0 24 24\"\n",
              "       width=\"24px\">\n",
              "    <path d=\"M0 0h24v24H0V0z\" fill=\"none\"/>\n",
              "    <path d=\"M18.56 5.44l.94 2.06.94-2.06 2.06-.94-2.06-.94-.94-2.06-.94 2.06-2.06.94zm-11 1L8.5 8.5l.94-2.06 2.06-.94-2.06-.94L8.5 2.5l-.94 2.06-2.06.94zm10 10l.94 2.06.94-2.06 2.06-.94-2.06-.94-.94-2.06-.94 2.06-2.06.94z\"/><path d=\"M17.41 7.96l-1.37-1.37c-.4-.4-.92-.59-1.43-.59-.52 0-1.04.2-1.43.59L10.3 9.45l-7.72 7.72c-.78.78-.78 2.05 0 2.83L4 21.41c.39.39.9.59 1.41.59.51 0 1.02-.2 1.41-.59l7.78-7.78 2.81-2.81c.8-.78.8-2.07 0-2.86zM5.41 20L4 18.59l7.72-7.72 1.47 1.35L5.41 20z\"/>\n",
              "  </svg>\n",
              "      </button>\n",
              "      \n",
              "  <style>\n",
              "    .colab-df-container {\n",
              "      display:flex;\n",
              "      flex-wrap:wrap;\n",
              "      gap: 12px;\n",
              "    }\n",
              "\n",
              "    .colab-df-convert {\n",
              "      background-color: #E8F0FE;\n",
              "      border: none;\n",
              "      border-radius: 50%;\n",
              "      cursor: pointer;\n",
              "      display: none;\n",
              "      fill: #1967D2;\n",
              "      height: 32px;\n",
              "      padding: 0 0 0 0;\n",
              "      width: 32px;\n",
              "    }\n",
              "\n",
              "    .colab-df-convert:hover {\n",
              "      background-color: #E2EBFA;\n",
              "      box-shadow: 0px 1px 2px rgba(60, 64, 67, 0.3), 0px 1px 3px 1px rgba(60, 64, 67, 0.15);\n",
              "      fill: #174EA6;\n",
              "    }\n",
              "\n",
              "    [theme=dark] .colab-df-convert {\n",
              "      background-color: #3B4455;\n",
              "      fill: #D2E3FC;\n",
              "    }\n",
              "\n",
              "    [theme=dark] .colab-df-convert:hover {\n",
              "      background-color: #434B5C;\n",
              "      box-shadow: 0px 1px 3px 1px rgba(0, 0, 0, 0.15);\n",
              "      filter: drop-shadow(0px 1px 2px rgba(0, 0, 0, 0.3));\n",
              "      fill: #FFFFFF;\n",
              "    }\n",
              "  </style>\n",
              "\n",
              "      <script>\n",
              "        const buttonEl =\n",
              "          document.querySelector('#df-37aa0caa-c469-43fc-992f-071edca83408 button.colab-df-convert');\n",
              "        buttonEl.style.display =\n",
              "          google.colab.kernel.accessAllowed ? 'block' : 'none';\n",
              "\n",
              "        async function convertToInteractive(key) {\n",
              "          const element = document.querySelector('#df-37aa0caa-c469-43fc-992f-071edca83408');\n",
              "          const dataTable =\n",
              "            await google.colab.kernel.invokeFunction('convertToInteractive',\n",
              "                                                     [key], {});\n",
              "          if (!dataTable) return;\n",
              "\n",
              "          const docLinkHtml = 'Like what you see? Visit the ' +\n",
              "            '<a target=\"_blank\" href=https://colab.research.google.com/notebooks/data_table.ipynb>data table notebook</a>'\n",
              "            + ' to learn more about interactive tables.';\n",
              "          element.innerHTML = '';\n",
              "          dataTable['output_type'] = 'display_data';\n",
              "          await google.colab.output.renderOutput(dataTable, element);\n",
              "          const docLink = document.createElement('div');\n",
              "          docLink.innerHTML = docLinkHtml;\n",
              "          element.appendChild(docLink);\n",
              "        }\n",
              "      </script>\n",
              "    </div>\n",
              "  </div>\n",
              "  "
            ]
          },
          "metadata": {},
          "execution_count": 73
        }
      ]
    }
  ],
  "metadata": {
    "colab": {
      "collapsed_sections": [],
      "name": "Optimization of hyperparameters.ipynb",
      "provenance": [],
      "mount_file_id": "1KCOvdg-IcIkae-WSxS1gSwy3ON5oMAZQ",
      "authorship_tag": "ABX9TyOwgkPPMDNq6PPnwy0Mxdd+",
      "include_colab_link": true
    },
    "gpuClass": "standard",
    "kernelspec": {
      "display_name": "Python 3",
      "name": "python3"
    },
    "language_info": {
      "name": "python"
    }
  },
  "nbformat": 4,
  "nbformat_minor": 0
}